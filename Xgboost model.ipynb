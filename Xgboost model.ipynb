{
 "cells": [
  {
   "cell_type": "code",
   "execution_count": 7,
   "id": "933a4e00",
   "metadata": {},
   "outputs": [],
   "source": [
    "import numpy as np \n",
    "import matplotlib.pyplot as plt\n",
    "import glob\n",
    "import cv2\n",
    "from sklearn.preprocessing import LabelEncoder\n",
    "\n",
    "from keras.models import Model, Sequential\n",
    "from keras.layers import Dense, Flatten, Conv2D, MaxPooling2D\n",
    "from tensorflow.keras.layers import BatchNormalization\n",
    "import os\n",
    "from tensorflow.keras.utils import to_categorical\n",
    "import seaborn as sns\n",
    "from keras.applications.vgg16 import VGG16\n",
    "from sklearn.model_selection import train_test_split\n"
   ]
  },
  {
   "cell_type": "code",
   "execution_count": 2,
   "id": "60e58d14",
   "metadata": {},
   "outputs": [
    {
     "name": "stdout",
     "output_type": "stream",
     "text": [
      "['asl_alphabet_train', 'asl_alphabet_test']\n"
     ]
    }
   ],
   "source": [
    "print(os.listdir(\"data_47/data_47/\"))"
   ]
  },
  {
   "cell_type": "code",
   "execution_count": 25,
   "id": "9cc94142",
   "metadata": {},
   "outputs": [
    {
     "name": "stdout",
     "output_type": "stream",
     "text": [
      "(2012, 128, 128)\n",
      "(2012,)\n",
      "(503, 128, 128)\n",
      "(503,)\n"
     ]
    }
   ],
   "source": [
    "train_dir = 'massey_dataset'\n",
    "images = []\n",
    "labels = []\n",
    "\n",
    "SIZE = 128\n",
    "\n",
    "for img in sorted(os.listdir(train_dir)):\n",
    "    label=img.split('_')[1]\n",
    "    img = os.path.join(train_dir, img)\n",
    "    image = cv2.imread(img)\n",
    "    image = cv2.resize(image, (SIZE, SIZE))\n",
    "    image = cv2.cvtColor(image, cv2.COLOR_BGR2GRAY)\n",
    "    images.append(image)\n",
    "    labels.append(label)\n",
    "#     image = preprocess1(image)\n",
    "#     images.append(image)\n",
    "#     labels.append(label)\n",
    "\n",
    "\n",
    "encoder = LabelEncoder()\n",
    "labels = encoder.fit_transform(labels)\n",
    "    \n",
    "images = np.array(images)\n",
    "labels = np.array(labels)\n",
    "NUM_CLASSES = len(np.unique(labels))\n",
    "\n",
    "x_train, x_test, y_train, y_test = train_test_split(images, labels, test_size = 0.2, stratify = labels)\n",
    "\n",
    "# y_train = to_categorical(y_train, NUM_CLASSES)\n",
    "# y_test = to_categorical(y_test, NUM_CLASSES)\n",
    "\n",
    "x_train,x_test = x_train / 255.0, x_test / 255.0\n",
    "\n",
    "# print(NUM_CLASSES)\n",
    "print(x_train.shape)\n",
    "print(y_train.shape)\n",
    "print(x_test.shape)\n",
    "print(y_test.shape)"
   ]
  },
  {
   "cell_type": "code",
   "execution_count": 2,
   "id": "4354aea4",
   "metadata": {},
   "outputs": [
    {
     "name": "stdout",
     "output_type": "stream",
     "text": [
      "0 A\n",
      "1 B\n",
      "2 C\n",
      "3 D\n",
      "4 E\n",
      "5 F\n",
      "6 G\n",
      "7 H\n",
      "8 I\n",
      "9 J\n",
      "10 K\n",
      "11 L\n",
      "12 M\n",
      "13 N\n",
      "14 O\n",
      "15 P\n",
      "16 Q\n",
      "17 R\n",
      "18 S\n",
      "19 T\n",
      "20 U\n",
      "21 V\n",
      "22 W\n",
      "23 X\n",
      "24 Y\n",
      "25 Z\n",
      "25 del\n",
      "25 nothing\n",
      "25 space\n",
      "Images successfully imported...\n"
     ]
    }
   ],
   "source": [
    "# from IPython.lib.display import join\n",
    "# batch_size = 64\n",
    "# SIZE = 96  #Resize images\n",
    "# target_dims = (SIZE, SIZE, 3)\n",
    "# num_classes = 29\n",
    "\n",
    "# # /mnt/5cd1329d-6ad0-4c91-904e-ba21c872357b/Sukanya/Vaishnavi_Munghate_2023/asl_alphabet/asl_alphabet_train/asl_alphabet_train\n",
    "\n",
    "# train_len = 0\n",
    "# train_dir = r\"../Vaishnavi_Munghate_2023/asl_alphabet/asl_alphabet_train/asl_alphabet_train\"\n",
    "\n",
    "# total = 0\n",
    "# for folder in os.listdir(train_dir):\n",
    "#     for img in os.listdir(train_dir + \"/\" + folder):\n",
    "#         train_len += 1\n",
    "# train_len\n",
    "\n",
    "# len = 26\n",
    "# S = \"ABCDEFGHIJKLMNOPQRSTUVWXYZ\"\n",
    "# map = {}\n",
    "\n",
    "# for j in range(len):\n",
    "#   map[S[j:j+1]] = join\n",
    "\n",
    "# t_lower = 50\n",
    "# t_upper = 150\n",
    "\n",
    "# def get_data(folder):\n",
    "#     x = []\n",
    "#     y = []\n",
    "#     cnt, label = 0, 0\n",
    "#     for folderName in sorted(os.listdir(folder)):\n",
    "#         s = str(folderName)\n",
    "#         for j in range(len):\n",
    "#           if S[j] == s:\n",
    "#             label = j\n",
    "        \n",
    "#         print(label, folderName)\n",
    "\n",
    "#         for image_filename in os.listdir(folder + '/' + folderName):\n",
    "#             image_path = folder + '/' + folderName + '/' + image_filename\n",
    "#             img_file = cv2.imdecode(np.fromfile(image_path, dtype=np.uint8), cv2.IMREAD_UNCHANGED)\n",
    "#             if img_file is not None:\n",
    "#                 img_file = cv2.resize(img_file, (SIZE, SIZE))\n",
    "#                 img_file = cv2.cvtColor(img_file, cv2.COLOR_BGR2GRAY)\n",
    "#                 # img_file = skimage.transform.resize(img_file, (imageSize, imageSize, 3))\n",
    "#                 # img_arr = np.asarray(img_file).reshape((-1, imageSize, imageSize, 3))\n",
    "#                 # edge = cv2.Canny(img_file, t_lower, t_upper)\n",
    "#                 x.append(img_file)\n",
    "#                 y.append(label)\n",
    "#                 cnt += 1\n",
    "\n",
    "#     return x,y\n",
    "\n",
    "# X, Y = get_data(train_dir)\n",
    "\n",
    "# print(\"Images successfully imported...\")"
   ]
  },
  {
   "cell_type": "code",
   "execution_count": 5,
   "id": "eec9c9ca",
   "metadata": {},
   "outputs": [
    {
     "name": "stdout",
     "output_type": "stream",
     "text": [
      "Shape of x_train :  (69600, 96, 96)\n",
      "Shape of y_train :  (69600,)\n",
      "Shape of x_test :  (17400, 96, 96)\n",
      "Shape of y_test :  (17400,)\n"
     ]
    }
   ],
   "source": [
    "# X = np.array(X)\n",
    "# Y = np.array(Y)\n",
    "\n",
    "# from sklearn.model_selection import train_test_split\n",
    "# x_train, x_test, y_train, y_test = train_test_split(X, Y, test_size = 0.2, stratify = Y)\n",
    "\n",
    "# print(\"Shape of x_train : \", x_train.shape)\n",
    "# print(\"Shape of y_train : \", y_train.shape)\n",
    "# print(\"Shape of x_test : \", x_test.shape)\n",
    "# print(\"Shape of y_test : \", y_test.shape)"
   ]
  },
  {
   "cell_type": "code",
   "execution_count": 13,
   "id": "9573befc",
   "metadata": {},
   "outputs": [
    {
     "name": "stdout",
     "output_type": "stream",
     "text": [
      "Shape of x_train :  (6525, 96, 96, 3)\n",
      "Shape of y_train :  (6525,)\n",
      "Shape of x_test :  (725, 96, 96, 3)\n",
      "Shape of y_test :  (725,)\n"
     ]
    }
   ],
   "source": []
  },
  {
   "cell_type": "code",
   "execution_count": 6,
   "id": "6340dc6d",
   "metadata": {},
   "outputs": [],
   "source": [
    "# Normalize pixel values to between 0 and 1\n",
    "# x_train, x_test = x_train / 255.0, x_test / 255.0"
   ]
  },
  {
   "cell_type": "code",
   "execution_count": 26,
   "id": "e57f16cb",
   "metadata": {},
   "outputs": [],
   "source": [
    "#Load model wothout classifier/fully connected layers\n",
    "VGG_model = VGG16(include_top=False, weights = None, input_shape=(SIZE, SIZE, 1))\n",
    "# vgg = vgg16.VGG16(include_top=False, weights=None, input_shape=(IMG_SIZE, IMG_SIZE, 1))"
   ]
  },
  {
   "cell_type": "code",
   "execution_count": 27,
   "id": "40a9980e",
   "metadata": {},
   "outputs": [],
   "source": [
    "#Make loaded layers as non-trainable. This is important as we want to work with pre-trained weights\n",
    "for layer in VGG_model.layers:\n",
    "\tlayer.trainable = False"
   ]
  },
  {
   "cell_type": "code",
   "execution_count": 28,
   "id": "1ddab0f1",
   "metadata": {},
   "outputs": [
    {
     "name": "stdout",
     "output_type": "stream",
     "text": [
      "Model: \"vgg16\"\n",
      "_________________________________________________________________\n",
      " Layer (type)                Output Shape              Param #   \n",
      "=================================================================\n",
      " input_2 (InputLayer)        [(None, 128, 128, 1)]     0         \n",
      "                                                                 \n",
      " block1_conv1 (Conv2D)       (None, 128, 128, 64)      640       \n",
      "                                                                 \n",
      " block1_conv2 (Conv2D)       (None, 128, 128, 64)      36928     \n",
      "                                                                 \n",
      " block1_pool (MaxPooling2D)  (None, 64, 64, 64)        0         \n",
      "                                                                 \n",
      " block2_conv1 (Conv2D)       (None, 64, 64, 128)       73856     \n",
      "                                                                 \n",
      " block2_conv2 (Conv2D)       (None, 64, 64, 128)       147584    \n",
      "                                                                 \n",
      " block2_pool (MaxPooling2D)  (None, 32, 32, 128)       0         \n",
      "                                                                 \n",
      " block3_conv1 (Conv2D)       (None, 32, 32, 256)       295168    \n",
      "                                                                 \n",
      " block3_conv2 (Conv2D)       (None, 32, 32, 256)       590080    \n",
      "                                                                 \n",
      " block3_conv3 (Conv2D)       (None, 32, 32, 256)       590080    \n",
      "                                                                 \n",
      " block3_pool (MaxPooling2D)  (None, 16, 16, 256)       0         \n",
      "                                                                 \n",
      " block4_conv1 (Conv2D)       (None, 16, 16, 512)       1180160   \n",
      "                                                                 \n",
      " block4_conv2 (Conv2D)       (None, 16, 16, 512)       2359808   \n",
      "                                                                 \n",
      " block4_conv3 (Conv2D)       (None, 16, 16, 512)       2359808   \n",
      "                                                                 \n",
      " block4_pool (MaxPooling2D)  (None, 8, 8, 512)         0         \n",
      "                                                                 \n",
      " block5_conv1 (Conv2D)       (None, 8, 8, 512)         2359808   \n",
      "                                                                 \n",
      " block5_conv2 (Conv2D)       (None, 8, 8, 512)         2359808   \n",
      "                                                                 \n",
      " block5_conv3 (Conv2D)       (None, 8, 8, 512)         2359808   \n",
      "                                                                 \n",
      " block5_pool (MaxPooling2D)  (None, 4, 4, 512)         0         \n",
      "                                                                 \n",
      "=================================================================\n",
      "Total params: 14,713,536\n",
      "Trainable params: 0\n",
      "Non-trainable params: 14,713,536\n",
      "_________________________________________________________________\n"
     ]
    }
   ],
   "source": [
    "VGG_model.summary()"
   ]
  },
  {
   "cell_type": "code",
   "execution_count": 29,
   "id": "d69120e9",
   "metadata": {},
   "outputs": [],
   "source": [
    "#Now, let us use features from convolutional network for RF\n",
    "feature_extractor=VGG_model.predict(x_train)\n",
    "\n"
   ]
  },
  {
   "cell_type": "code",
   "execution_count": 30,
   "id": "97353a35",
   "metadata": {},
   "outputs": [
    {
     "name": "stdout",
     "output_type": "stream",
     "text": [
      "Shape of feature extractor :  (2012, 4, 4, 512)\n"
     ]
    }
   ],
   "source": [
    "print(\"Shape of feature extractor : \", feature_extractor.shape)"
   ]
  },
  {
   "cell_type": "code",
   "execution_count": 31,
   "id": "8b937230",
   "metadata": {},
   "outputs": [
    {
     "data": {
      "text/plain": [
       "(503,)"
      ]
     },
     "execution_count": 31,
     "metadata": {},
     "output_type": "execute_result"
    }
   ],
   "source": [
    "y_test.shape"
   ]
  },
  {
   "cell_type": "code",
   "execution_count": 32,
   "id": "b530f9ea",
   "metadata": {},
   "outputs": [
    {
     "data": {
      "text/plain": [
       "array([[7.4818736e-04, 2.4026044e-04, 3.0079475e-05, ..., 0.0000000e+00,\n",
       "        1.2204594e-03, 1.7019960e-03],\n",
       "       [5.9637579e-04, 2.2525529e-04, 8.9963403e-05, ..., 0.0000000e+00,\n",
       "        1.4926335e-03, 2.0771485e-03],\n",
       "       [7.4941159e-04, 4.2707863e-04, 1.4333025e-05, ..., 0.0000000e+00,\n",
       "        1.2064161e-03, 1.8824232e-03],\n",
       "       ...,\n",
       "       [5.8321399e-04, 2.6222496e-04, 4.0830986e-05, ..., 0.0000000e+00,\n",
       "        1.5665618e-03, 2.2722872e-03],\n",
       "       [6.1206968e-04, 2.6117818e-04, 1.6428810e-04, ..., 0.0000000e+00,\n",
       "        1.2607026e-03, 1.9702869e-03],\n",
       "       [6.3891360e-04, 3.7697307e-04, 0.0000000e+00, ..., 0.0000000e+00,\n",
       "        1.2512347e-03, 1.7409520e-03]], dtype=float32)"
      ]
     },
     "execution_count": 32,
     "metadata": {},
     "output_type": "execute_result"
    }
   ],
   "source": [
    "features = feature_extractor.reshape(feature_extractor.shape[0], -1)\n",
    "X_for_training = features\n",
    "X_for_training"
   ]
  },
  {
   "cell_type": "code",
   "execution_count": 33,
   "id": "60124fe7",
   "metadata": {},
   "outputs": [
    {
     "name": "stdout",
     "output_type": "stream",
     "text": [
      "Shape of x_for_training :  (2012, 8192)\n"
     ]
    }
   ],
   "source": [
    "print(\"Shape of x_for_training : \", X_for_training.shape)"
   ]
  },
  {
   "cell_type": "code",
   "execution_count": 34,
   "id": "73682070",
   "metadata": {},
   "outputs": [
    {
     "data": {
      "text/plain": [
       "XGBClassifier(base_score=None, booster=None, callbacks=None,\n",
       "              colsample_bylevel=None, colsample_bynode=None,\n",
       "              colsample_bytree=None, early_stopping_rounds=None,\n",
       "              enable_categorical=False, eval_metric=None, feature_types=None,\n",
       "              gamma=None, gpu_id=None, grow_policy=None, importance_type=None,\n",
       "              interaction_constraints=None, learning_rate=None, max_bin=None,\n",
       "              max_cat_threshold=None, max_cat_to_onehot=None,\n",
       "              max_delta_step=None, max_depth=None, max_leaves=None,\n",
       "              min_child_weight=None, missing=nan, monotone_constraints=None,\n",
       "              n_estimators=100, n_jobs=None, num_parallel_tree=None,\n",
       "              objective='multi:softprob', predictor=None, ...)"
      ]
     },
     "execution_count": 34,
     "metadata": {},
     "output_type": "execute_result"
    }
   ],
   "source": [
    "#XGBOOST\n",
    "import xgboost as xgb\n",
    "model = xgb.XGBClassifier()\n",
    "model.fit(X_for_training, y_train) #For sklearn no one hot encoding"
   ]
  },
  {
   "cell_type": "code",
   "execution_count": 35,
   "id": "cd6703e2",
   "metadata": {},
   "outputs": [],
   "source": [
    "#Send test data through same feature extractor process\n",
    "X_test_feature = VGG_model.predict(x_test)\n",
    "X_test_features = X_test_feature.reshape(X_test_feature.shape[0], -1)"
   ]
  },
  {
   "cell_type": "code",
   "execution_count": 36,
   "id": "e963f2ef",
   "metadata": {},
   "outputs": [
    {
     "data": {
      "text/plain": [
       "(503, 8192)"
      ]
     },
     "execution_count": 36,
     "metadata": {},
     "output_type": "execute_result"
    }
   ],
   "source": [
    "X_test_features.shape"
   ]
  },
  {
   "cell_type": "code",
   "execution_count": 37,
   "id": "6249999a",
   "metadata": {},
   "outputs": [],
   "source": [
    "# Encode labels from text to integers.\n",
    "from sklearn import preprocessing\n",
    "le = preprocessing.LabelEncoder()\n",
    "le.fit(y_test)\n",
    "test_labels_encoded = le.transform(y_test)\n",
    "le.fit(y_train)\n",
    "train_labels_encoded = le.transform(y_train)"
   ]
  },
  {
   "cell_type": "code",
   "execution_count": 38,
   "id": "be31622f",
   "metadata": {},
   "outputs": [],
   "source": [
    "prediction = model.predict(X_test_features)\n",
    "prediction = le.inverse_transform(prediction)\n"
   ]
  },
  {
   "cell_type": "code",
   "execution_count": null,
   "id": "87308c2b",
   "metadata": {},
   "outputs": [],
   "source": []
  },
  {
   "cell_type": "code",
   "execution_count": 39,
   "id": "7bb35c97",
   "metadata": {},
   "outputs": [
    {
     "name": "stdout",
     "output_type": "stream",
     "text": [
      "Accuracy =  0.904572564612326\n"
     ]
    }
   ],
   "source": [
    "from sklearn import metrics\n",
    "print (\"Accuracy = \", metrics.accuracy_score(y_test, prediction))"
   ]
  },
  {
   "cell_type": "code",
   "execution_count": 40,
   "id": "8c09892d",
   "metadata": {},
   "outputs": [
    {
     "name": "stdout",
     "output_type": "stream",
     "text": [
      "[[12  0  0 ...  0  0  0]\n",
      " [ 0 13  0 ...  0  0  0]\n",
      " [ 0  0 13 ...  0  0  0]\n",
      " ...\n",
      " [ 0  0  0 ... 13  0  0]\n",
      " [ 0  0  0 ...  0 13  0]\n",
      " [ 0  2  0 ...  0  0 11]]\n"
     ]
    },
    {
     "data": {
      "text/plain": [
       "<AxesSubplot:>"
      ]
     },
     "execution_count": 40,
     "metadata": {},
     "output_type": "execute_result"
    },
    {
     "data": {
      "image/png": "[encoded data removed]",
      "text/plain": [
       "<Figure size 640x480 with 2 Axes>"
      ]
     },
     "metadata": {},
     "output_type": "display_data"
    }
   ],
   "source": [
    "from sklearn.metrics import confusion_matrix\n",
    "cm = confusion_matrix(y_test, prediction)\n",
    "print(cm)\n",
    "sns.heatmap(cm, annot=True)"
   ]
  },
  {
   "cell_type": "code",
   "execution_count": null,
   "id": "518c4420",
   "metadata": {},
   "outputs": [],
   "source": []
  },
  {
   "cell_type": "code",
   "execution_count": 67,
   "id": "58047ec6",
   "metadata": {},
   "outputs": [
    {
     "name": "stdout",
     "output_type": "stream",
     "text": [
      "The prediction for this image is:  [4]\n"
     ]
    },
    {
     "ename": "NameError",
     "evalue": "name 'test_labels' is not defined",
     "output_type": "error",
     "traceback": [
      "\u001b[0;31m---------------------------------------------------------------------------\u001b[0m",
      "\u001b[0;31mNameError\u001b[0m                                 Traceback (most recent call last)",
      "Cell \u001b[0;32mIn[67], line 11\u001b[0m\n\u001b[1;32m      9\u001b[0m prediction \u001b[38;5;241m=\u001b[39m le\u001b[38;5;241m.\u001b[39minverse_transform([prediction])  \u001b[38;5;66;03m#Reverse the label encoder to original name\u001b[39;00m\n\u001b[1;32m     10\u001b[0m \u001b[38;5;28mprint\u001b[39m(\u001b[38;5;124m\"\u001b[39m\u001b[38;5;124mThe prediction for this image is: \u001b[39m\u001b[38;5;124m\"\u001b[39m, prediction)\n\u001b[0;32m---> 11\u001b[0m \u001b[38;5;28mprint\u001b[39m(\u001b[38;5;124m\"\u001b[39m\u001b[38;5;124mThe actual label for this image is: \u001b[39m\u001b[38;5;124m\"\u001b[39m, \u001b[43mtest_labels\u001b[49m[n])\n",
      "\u001b[0;31mNameError\u001b[0m: name 'test_labels' is not defined"
     ]
    },
    {
     "data": {
      "image/png": "[encoded data removed]",
      "text/plain": [
       "<Figure size 640x480 with 1 Axes>"
      ]
     },
     "metadata": {},
     "output_type": "display_data"
    }
   ],
   "source": [
    "#Check results on a few select images\n",
    "n=np.random.randint(0, x_test.shape[0])\n",
    "img = x_test[n]\n",
    "plt.imshow(img)\n",
    "input_img = np.expand_dims(img, axis=0) #Expand dims so the input is (num images, x, y, c)\n",
    "input_img_feature=VGG_model.predict(input_img)\n",
    "input_img_features=input_img_feature.reshape(input_img_feature.shape[0], -1)\n",
    "prediction = model.predict(input_img_features)[0] \n",
    "prediction = le.inverse_transform([prediction])  #Reverse the label encoder to original name\n",
    "print(\"The prediction for this image is: \", prediction)\n",
    "print(\"The actual label for this image is: \", test_labels[n])"
   ]
  },
  {
   "cell_type": "code",
   "execution_count": null,
   "id": "af018e26",
   "metadata": {},
   "outputs": [],
   "source": []
  },
  {
   "cell_type": "code",
   "execution_count": null,
   "id": "bb9f74b3",
   "metadata": {},
   "outputs": [],
   "source": []
  },
  {
   "cell_type": "code",
   "execution_count": null,
   "id": "7c44a4ec",
   "metadata": {},
   "outputs": [],
   "source": []
  },
  {
   "cell_type": "code",
   "execution_count": null,
   "id": "0d622184",
   "metadata": {},
   "outputs": [],
   "source": []
  },
  {
   "cell_type": "code",
   "execution_count": null,
   "id": "0329e1a3",
   "metadata": {},
   "outputs": [],
   "source": []
  },
  {
   "cell_type": "code",
   "execution_count": null,
   "id": "5fdeb639",
   "metadata": {},
   "outputs": [],
   "source": []
  },
  {
   "cell_type": "code",
   "execution_count": null,
   "id": "c5beb669",
   "metadata": {},
   "outputs": [],
   "source": []
  },
  {
   "cell_type": "code",
   "execution_count": null,
   "id": "e16e1b3d",
   "metadata": {},
   "outputs": [],
   "source": []
  },
  {
   "cell_type": "code",
   "execution_count": null,
   "id": "59f315f8",
   "metadata": {},
   "outputs": [],
   "source": []
  },
  {
   "cell_type": "code",
   "execution_count": null,
   "id": "ef0aea28",
   "metadata": {},
   "outputs": [],
   "source": []
  },
  {
   "cell_type": "code",
   "execution_count": null,
   "id": "2f7c1427",
   "metadata": {},
   "outputs": [],
   "source": []
  },
  {
   "cell_type": "code",
   "execution_count": null,
   "id": "526d506e",
   "metadata": {},
   "outputs": [],
   "source": [
    "#Make loaded layers as non-trainable. This is important as we want to work with pre-trained weights\n",
    "for layer in VGG_model.layers:\n",
    "\tlayer.trainable = False"
   ]
  },
  {
   "cell_type": "code",
   "execution_count": null,
   "id": "97f44045",
   "metadata": {},
   "outputs": [],
   "source": [
    "VGG_model.summary()"
   ]
  },
  {
   "cell_type": "code",
   "execution_count": null,
   "id": "e99d5ac6",
   "metadata": {},
   "outputs": [],
   "source": [
    "#Now, let us use features from convolutional network for RF\n",
    "feature_extractor=VGG_model.predict(x_train)\n",
    "feature_extractor"
   ]
  },
  {
   "cell_type": "code",
   "execution_count": null,
   "id": "605ada3c",
   "metadata": {},
   "outputs": [],
   "source": [
    "feature_extractor"
   ]
  },
  {
   "cell_type": "code",
   "execution_count": null,
   "id": "586a27f2",
   "metadata": {},
   "outputs": [],
   "source": [
    "features = feature_extractor.reshape(feature_extractor.shape[0], -1)\n",
    "X_for_training = features #This is our X input to RF\n",
    "features.shape\n"
   ]
  },
  {
   "cell_type": "code",
   "execution_count": null,
   "id": "b7cd245b",
   "metadata": {},
   "outputs": [],
   "source": [
    "#XGBOOST\n",
    "import xgboost as xgb\n",
    "model = xgb.XGBClassifier()\n",
    "model.fit(X_for_training, y_train) #For sklearn no one hot encoding"
   ]
  },
  {
   "cell_type": "code",
   "execution_count": null,
   "id": "f2cf22f0",
   "metadata": {},
   "outputs": [],
   "source": [
    "#Send test data through same feature extractor process\n",
    "X_test_feature = VGG_model.predict(x_test)\n",
    "X_test_features = X_test_feature.reshape(X_test_feature.shape[0], -1)\n"
   ]
  },
  {
   "cell_type": "code",
   "execution_count": null,
   "id": "bedb3d22",
   "metadata": {},
   "outputs": [],
   "source": [
    "prediction = model.predict(X_test_features)\n",
    "# prediction = le.inverse_transform(prediction)\n"
   ]
  },
  {
   "cell_type": "code",
   "execution_count": null,
   "id": "0343b252",
   "metadata": {},
   "outputs": [],
   "source": [
    "#Print overall accuracy\n",
    "from sklearn import metrics\n",
    "print (\"Accuracy = \", metrics.accuracy_score(test_labels, prediction))"
   ]
  },
  {
   "cell_type": "code",
   "execution_count": null,
   "id": "9035e301",
   "metadata": {},
   "outputs": [],
   "source": []
  },
  {
   "cell_type": "code",
   "execution_count": null,
   "id": "73d599c4",
   "metadata": {},
   "outputs": [],
   "source": []
  },
  {
   "cell_type": "code",
   "execution_count": null,
   "id": "96ab3d39",
   "metadata": {},
   "outputs": [],
   "source": []
  },
  {
   "cell_type": "code",
   "execution_count": null,
   "id": "111605e5",
   "metadata": {},
   "outputs": [],
   "source": []
  },
  {
   "cell_type": "code",
   "execution_count": null,
   "id": "64dadf08",
   "metadata": {},
   "outputs": [],
   "source": []
  }
 ],
 "metadata": {
  "kernelspec": {
   "display_name": "Python 3 (ipykernel)",
   "language": "python",
   "name": "python3"
  },
  "language_info": {
   "codemirror_mode": {
    "name": "ipython",
    "version": 3
   },
   "file_extension": ".py",
   "mimetype": "text/x-python",
   "name": "python",
   "nbconvert_exporter": "python",
   "pygments_lexer": "ipython3",
   "version": "3.8.10"
  }
 },
 "nbformat": 4,
 "nbformat_minor": 5
}
