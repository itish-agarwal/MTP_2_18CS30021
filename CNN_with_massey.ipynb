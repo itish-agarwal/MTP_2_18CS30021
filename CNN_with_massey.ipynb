{
 "cells": [
  {
   "cell_type": "code",
   "execution_count": 1,
   "id": "b11f2afa",
   "metadata": {},
   "outputs": [],
   "source": [
    "import numpy as np\n",
    "import matplotlib.pyplot as plt\n",
    "import cv2\n",
    "import os\n",
    "import pandas as pd\n",
    "from skimage.feature import canny\n",
    "from sklearn.preprocessing import LabelEncoder\n",
    "from tensorflow.keras.utils import to_categorical\n",
    "from sklearn.model_selection import train_test_split\n",
    "\n",
    "# import tensorflow and keras\n",
    "import tensorflow as tf\n",
    "from tensorflow import keras\n",
    "import os\n"
   ]
  },
  {
   "cell_type": "code",
   "execution_count": 15,
   "id": "9e7795b9",
   "metadata": {},
   "outputs": [
    {
     "name": "stdout",
     "output_type": "stream",
     "text": [
      "(2012, 128, 128)\n",
      "(2012, 36)\n",
      "(503, 128, 128)\n",
      "(503, 36)\n"
     ]
    }
   ],
   "source": [
    "train_dir = 'massey_dataset'\n",
    "images = []\n",
    "labels = []\n",
    "\n",
    "SIZE = 128\n",
    "\n",
    "for img in sorted(os.listdir(train_dir)):\n",
    "    label=img.split('_')[1]\n",
    "    img = os.path.join(train_dir, img)\n",
    "    image = cv2.imread(img)\n",
    "    image = cv2.resize(image, (SIZE, SIZE))\n",
    "    image = cv2.cvtColor(image, cv2.COLOR_BGR2GRAY)\n",
    "    images.append(image)\n",
    "    labels.append(label)\n",
    "#     image = preprocess1(image)\n",
    "#     images.append(image)\n",
    "#     labels.append(label)\n",
    "\n",
    "\n",
    "encoder = LabelEncoder()\n",
    "labels = encoder.fit_transform(labels)\n",
    "    \n",
    "images = np.array(images)\n",
    "labels = np.array(labels)\n",
    "NUM_CLASSES = len(np.unique(labels))\n",
    "\n",
    "x_train, x_test, y_train, y_test = train_test_split(images, labels, test_size = 0.2, stratify = labels)\n",
    "\n",
    "y_train = to_categorical(y_train, NUM_CLASSES)\n",
    "y_test = to_categorical(y_test, NUM_CLASSES)\n",
    "\n",
    "x_train,x_test = x_train / 255.0, x_test / 255.0\n",
    "\n",
    "# print(NUM_CLASSES)\n",
    "print(x_train.shape)\n",
    "print(y_train.shape)\n",
    "print(x_test.shape)\n",
    "print(y_test.shape)"
   ]
  },
  {
   "cell_type": "code",
   "execution_count": 3,
   "id": "9e7bbb2c",
   "metadata": {},
   "outputs": [
    {
     "name": "stdout",
     "output_type": "stream",
     "text": [
      "Packages imported...\n"
     ]
    }
   ],
   "source": [
    "#MODEL\n",
    "\n",
    "from keras.models import Sequential\n",
    "from keras.layers import Conv2D, MaxPooling2D, Activation, Dense, Flatten, Dropout\n",
    "print(\"Packages imported...\")"
   ]
  },
  {
   "cell_type": "code",
   "execution_count": 4,
   "id": "12c53270",
   "metadata": {},
   "outputs": [
    {
     "name": "stdout",
     "output_type": "stream",
     "text": [
      "Model: \"sequential\"\n",
      "_________________________________________________________________\n",
      " Layer (type)                Output Shape              Param #   \n",
      "=================================================================\n",
      " conv2d (Conv2D)             (None, 128, 128, 64)      1088      \n",
      "                                                                 \n",
      " activation (Activation)     (None, 128, 128, 64)      0         \n",
      "                                                                 \n",
      " conv2d_1 (Conv2D)           (None, 128, 128, 64)      65600     \n",
      "                                                                 \n",
      " activation_1 (Activation)   (None, 128, 128, 64)      0         \n",
      "                                                                 \n",
      " max_pooling2d (MaxPooling2D  (None, 64, 64, 64)       0         \n",
      " )                                                               \n",
      "                                                                 \n",
      " dropout (Dropout)           (None, 64, 64, 64)        0         \n",
      "                                                                 \n",
      " conv2d_2 (Conv2D)           (None, 64, 64, 64)        102464    \n",
      "                                                                 \n",
      " activation_2 (Activation)   (None, 64, 64, 64)        0         \n",
      "                                                                 \n",
      " max_pooling2d_1 (MaxPooling  (None, 32, 32, 64)       0         \n",
      " 2D)                                                             \n",
      "                                                                 \n",
      " dropout_1 (Dropout)         (None, 32, 32, 64)        0         \n",
      "                                                                 \n",
      " flatten (Flatten)           (None, 65536)             0         \n",
      "                                                                 \n",
      " dense (Dense)               (None, 36)                2359332   \n",
      "                                                                 \n",
      "=================================================================\n",
      "Total params: 2,528,484\n",
      "Trainable params: 2,528,484\n",
      "Non-trainable params: 0\n",
      "_________________________________________________________________\n"
     ]
    },
    {
     "name": "stderr",
     "output_type": "stream",
     "text": [
      "2023-04-27 22:30:21.152425: I tensorflow/stream_executor/cuda/cuda_gpu_executor.cc:936] successful NUMA node read from SysFS had negative value (-1), but there must be at least one NUMA node, so returning NUMA node zero\n",
      "2023-04-27 22:30:21.175785: I tensorflow/stream_executor/cuda/cuda_gpu_executor.cc:936] successful NUMA node read from SysFS had negative value (-1), but there must be at least one NUMA node, so returning NUMA node zero\n",
      "2023-04-27 22:30:21.175918: I tensorflow/stream_executor/cuda/cuda_gpu_executor.cc:936] successful NUMA node read from SysFS had negative value (-1), but there must be at least one NUMA node, so returning NUMA node zero\n",
      "2023-04-27 22:30:21.176610: I tensorflow/core/platform/cpu_feature_guard.cc:151] This TensorFlow binary is optimized with oneAPI Deep Neural Network Library (oneDNN) to use the following CPU instructions in performance-critical operations:  AVX2 FMA\n",
      "To enable them in other operations, rebuild TensorFlow with the appropriate compiler flags.\n",
      "2023-04-27 22:30:21.177428: I tensorflow/stream_executor/cuda/cuda_gpu_executor.cc:936] successful NUMA node read from SysFS had negative value (-1), but there must be at least one NUMA node, so returning NUMA node zero\n",
      "2023-04-27 22:30:21.177555: I tensorflow/stream_executor/cuda/cuda_gpu_executor.cc:936] successful NUMA node read from SysFS had negative value (-1), but there must be at least one NUMA node, so returning NUMA node zero\n",
      "2023-04-27 22:30:21.177662: I tensorflow/stream_executor/cuda/cuda_gpu_executor.cc:936] successful NUMA node read from SysFS had negative value (-1), but there must be at least one NUMA node, so returning NUMA node zero\n",
      "2023-04-27 22:30:21.467371: I tensorflow/stream_executor/cuda/cuda_gpu_executor.cc:936] successful NUMA node read from SysFS had negative value (-1), but there must be at least one NUMA node, so returning NUMA node zero\n",
      "2023-04-27 22:30:21.467520: I tensorflow/stream_executor/cuda/cuda_gpu_executor.cc:936] successful NUMA node read from SysFS had negative value (-1), but there must be at least one NUMA node, so returning NUMA node zero\n",
      "2023-04-27 22:30:21.467627: I tensorflow/stream_executor/cuda/cuda_gpu_executor.cc:936] successful NUMA node read from SysFS had negative value (-1), but there must be at least one NUMA node, so returning NUMA node zero\n",
      "2023-04-27 22:30:21.467723: I tensorflow/core/common_runtime/gpu/gpu_device.cc:1525] Created device /job:localhost/replica:0/task:0/device:GPU:0 with 21834 MB memory:  -> device: 0, name: NVIDIA GeForce RTX 3090, pci bus id: 0000:08:00.0, compute capability: 8.6\n"
     ]
    }
   ],
   "source": [
    "\n",
    "model = Sequential()\n",
    "\n",
    "# Convolutional Layer 1\n",
    "model.add(Conv2D(64, kernel_size = 4, padding = 'same', input_shape = (SIZE, SIZE, 1)))\n",
    "model.add(Activation('relu'))\n",
    "\n",
    "# Convolutional Layer 2\n",
    "model.add(Conv2D(64, kernel_size = 4, padding = 'same'))\n",
    "model.add(Activation('relu'))\n",
    "\n",
    "\n",
    "#Max-pooling layer\n",
    "model.add(MaxPooling2D((2, 2)))\n",
    "\n",
    "#Dropout layer\n",
    "model.add(Dropout(0.5))\n",
    "\n",
    "# Convolutional Layer 3\n",
    "model.add(Conv2D(64 , kernel_size = 5, padding = 'same'))\n",
    "model.add(Activation('relu'))\n",
    "\n",
    "# Convolutional Layer 4\n",
    "# model.add(Conv2D(128 , kernel_size = 5, padding = 'same'))\n",
    "# model.add(Activation('relu'))\n",
    "\n",
    "#Max-pooling layer\n",
    "model.add(MaxPooling2D(pool_size = (2, 2)))\n",
    "\n",
    "#Dropout layer\n",
    "model.add(Dropout(0.5))\n",
    "\n",
    "# Convolutional Layer 5\n",
    "# model.add(Conv2D(256 , kernel_size = 5, padding = 'same'))\n",
    "# model.add(Activation('relu'))\n",
    "\n",
    "#Dropout layer\n",
    "# model.add(Dropout(0.5))\n",
    "model.add(Flatten())\n",
    "model.add(Dense(NUM_CLASSES, activation='softmax'))\n",
    "model.summary()"
   ]
  },
  {
   "cell_type": "code",
   "execution_count": 14,
   "id": "94d4c5ac",
   "metadata": {},
   "outputs": [
    {
     "name": "stdout",
     "output_type": "stream",
     "text": [
      "You must install pydot (`pip install pydot`) and install graphviz (see instructions at https://graphviz.gitlab.io/download/) for plot_model/model_to_dot to work.\n"
     ]
    }
   ],
   "source": [
    "from keras.utils.vis_utils import plot_model\n",
    "plot_model(model, to_file='model_plot.png', show_shapes=True, show_layer_names=True)"
   ]
  },
  {
   "cell_type": "code",
   "execution_count": 113,
   "id": "aec1d44f",
   "metadata": {},
   "outputs": [
    {
     "name": "stdout",
     "output_type": "stream",
     "text": [
      "Requirement already satisfied: pydot in /home/sukanya/.local/lib/python3.8/site-packages (1.4.2)\r\n",
      "Requirement already satisfied: pyparsing>=2.1.4 in /usr/local/lib/python3.8/dist-packages (from pydot) (2.4.7)\r\n"
     ]
    }
   ],
   "source": [
    "!pip install pydot"
   ]
  },
  {
   "cell_type": "code",
   "execution_count": null,
   "id": "c33e821e",
   "metadata": {},
   "outputs": [],
   "source": []
  },
  {
   "cell_type": "code",
   "execution_count": 36,
   "id": "596e1be3",
   "metadata": {},
   "outputs": [
    {
     "name": "stderr",
     "output_type": "stream",
     "text": [
      "/home/sukanya/.local/lib/python3.8/site-packages/keras/optimizer_v2/adam.py:105: UserWarning: The `lr` argument is deprecated, use `learning_rate` instead.\n",
      "  super(Adam, self).__init__(name, **kwargs)\n"
     ]
    }
   ],
   "source": [
    "optimizer = keras.optimizers.Adam(lr=0.001)\n",
    "model.compile(optimizer = optimizer, loss = 'categorical_crossentropy', metrics = ['accuracy'])\n"
   ]
  },
  {
   "cell_type": "code",
   "execution_count": 37,
   "id": "69d9b128",
   "metadata": {
    "collapsed": true
   },
   "outputs": [
    {
     "name": "stdout",
     "output_type": "stream",
     "text": [
      "Epoch 1/25\n",
      "44/44 [==============================] - 1s 22ms/step - loss: 8.8410 - accuracy: 0.5163 - val_loss: 0.5827 - val_accuracy: 0.8381\n",
      "Epoch 2/25\n",
      "44/44 [==============================] - 1s 20ms/step - loss: 0.3007 - accuracy: 0.9020 - val_loss: 0.3342 - val_accuracy: 0.9119\n",
      "Epoch 3/25\n",
      "44/44 [==============================] - 1s 20ms/step - loss: 0.1043 - accuracy: 0.9631 - val_loss: 0.3682 - val_accuracy: 0.9006\n",
      "Epoch 4/25\n",
      "44/44 [==============================] - 1s 20ms/step - loss: 0.0743 - accuracy: 0.9737 - val_loss: 0.3258 - val_accuracy: 0.8949\n",
      "Epoch 5/25\n",
      "44/44 [==============================] - 1s 20ms/step - loss: 0.0641 - accuracy: 0.9822 - val_loss: 0.3555 - val_accuracy: 0.8949\n",
      "Epoch 6/25\n",
      "44/44 [==============================] - 1s 20ms/step - loss: 0.0550 - accuracy: 0.9787 - val_loss: 0.3682 - val_accuracy: 0.9119\n",
      "Epoch 7/25\n",
      "44/44 [==============================] - 1s 21ms/step - loss: 0.0658 - accuracy: 0.9808 - val_loss: 0.4157 - val_accuracy: 0.9034\n",
      "Epoch 8/25\n",
      "44/44 [==============================] - 1s 20ms/step - loss: 0.0471 - accuracy: 0.9844 - val_loss: 0.2947 - val_accuracy: 0.9261\n",
      "Epoch 9/25\n",
      "44/44 [==============================] - 1s 21ms/step - loss: 0.0351 - accuracy: 0.9872 - val_loss: 0.3792 - val_accuracy: 0.9091\n",
      "Epoch 10/25\n",
      "44/44 [==============================] - 1s 20ms/step - loss: 0.0340 - accuracy: 0.9886 - val_loss: 0.3733 - val_accuracy: 0.9205\n",
      "Epoch 11/25\n",
      "44/44 [==============================] - 1s 20ms/step - loss: 0.0398 - accuracy: 0.9908 - val_loss: 0.3358 - val_accuracy: 0.9119\n",
      "Epoch 12/25\n",
      "44/44 [==============================] - 1s 20ms/step - loss: 0.0299 - accuracy: 0.9936 - val_loss: 0.3780 - val_accuracy: 0.9205\n",
      "Epoch 13/25\n",
      "44/44 [==============================] - 1s 20ms/step - loss: 0.0275 - accuracy: 0.9929 - val_loss: 0.4716 - val_accuracy: 0.9091\n",
      "Epoch 14/25\n",
      "44/44 [==============================] - 1s 21ms/step - loss: 0.0246 - accuracy: 0.9908 - val_loss: 0.4877 - val_accuracy: 0.9148\n",
      "Epoch 15/25\n",
      "44/44 [==============================] - 1s 21ms/step - loss: 0.0268 - accuracy: 0.9922 - val_loss: 0.5154 - val_accuracy: 0.9034\n",
      "Epoch 16/25\n",
      "44/44 [==============================] - 1s 21ms/step - loss: 0.0366 - accuracy: 0.9886 - val_loss: 0.5292 - val_accuracy: 0.9148\n",
      "Epoch 17/25\n",
      "44/44 [==============================] - 1s 20ms/step - loss: 0.0253 - accuracy: 0.9936 - val_loss: 0.5416 - val_accuracy: 0.9119\n",
      "Epoch 18/25\n",
      "44/44 [==============================] - 1s 21ms/step - loss: 0.0413 - accuracy: 0.9901 - val_loss: 0.6187 - val_accuracy: 0.9205\n",
      "Epoch 19/25\n",
      "44/44 [==============================] - 1s 21ms/step - loss: 0.0601 - accuracy: 0.9901 - val_loss: 0.8344 - val_accuracy: 0.8977\n",
      "Epoch 20/25\n",
      "44/44 [==============================] - 1s 21ms/step - loss: 0.0907 - accuracy: 0.9822 - val_loss: 0.6311 - val_accuracy: 0.9091\n",
      "Epoch 21/25\n",
      "44/44 [==============================] - 1s 21ms/step - loss: 0.0793 - accuracy: 0.9822 - val_loss: 0.7198 - val_accuracy: 0.8778\n",
      "Epoch 22/25\n",
      "44/44 [==============================] - 1s 20ms/step - loss: 0.0635 - accuracy: 0.9872 - val_loss: 0.5386 - val_accuracy: 0.9205\n",
      "Epoch 23/25\n",
      "44/44 [==============================] - 1s 21ms/step - loss: 0.0415 - accuracy: 0.9901 - val_loss: 0.6693 - val_accuracy: 0.8949\n",
      "Epoch 24/25\n",
      "44/44 [==============================] - 1s 21ms/step - loss: 0.0427 - accuracy: 0.9851 - val_loss: 0.6052 - val_accuracy: 0.9205\n",
      "Epoch 25/25\n",
      "44/44 [==============================] - 1s 20ms/step - loss: 0.0183 - accuracy: 0.9957 - val_loss: 0.6047 - val_accuracy: 0.9119\n"
     ]
    }
   ],
   "source": [
    "callback = tf.keras.callbacks.EarlyStopping(monitor='loss', mode='min', verbose=1)\n",
    "\n",
    "history = model.fit(x_train, y_train, epochs=25, batch_size=32, validation_split = 0.2)"
   ]
  },
  {
   "cell_type": "code",
   "execution_count": 23,
   "id": "9570ff9c",
   "metadata": {
    "collapsed": true
   },
   "outputs": [
    {
     "ename": "ValueError",
     "evalue": "Classification metrics can't handle a mix of multilabel-indicator and continuous-multioutput targets",
     "output_type": "error",
     "traceback": [
      "\u001b[0;31m---------------------------------------------------------------------------\u001b[0m",
      "\u001b[0;31mValueError\u001b[0m                                Traceback (most recent call last)",
      "Cell \u001b[0;32mIn[23], line 3\u001b[0m\n\u001b[1;32m      1\u001b[0m \u001b[38;5;28;01mfrom\u001b[39;00m \u001b[38;5;21;01msklearn\u001b[39;00m\u001b[38;5;21;01m.\u001b[39;00m\u001b[38;5;21;01mmetrics\u001b[39;00m \u001b[38;5;28;01mimport\u001b[39;00m confusion_matrix\n\u001b[1;32m      2\u001b[0m y_pred \u001b[38;5;241m=\u001b[39m model\u001b[38;5;241m.\u001b[39mpredict(x_test)\n\u001b[0;32m----> 3\u001b[0m matrix \u001b[38;5;241m=\u001b[39m \u001b[43mconfusion_matrix\u001b[49m\u001b[43m(\u001b[49m\u001b[43my_test\u001b[49m\u001b[43m,\u001b[49m\u001b[43my_pred\u001b[49m\u001b[43m)\u001b[49m\n\u001b[1;32m      4\u001b[0m matrix\n",
      "File \u001b[0;32m/usr/local/lib/python3.8/dist-packages/sklearn/utils/validation.py:63\u001b[0m, in \u001b[0;36m_deprecate_positional_args.<locals>._inner_deprecate_positional_args.<locals>.inner_f\u001b[0;34m(*args, **kwargs)\u001b[0m\n\u001b[1;32m     61\u001b[0m extra_args \u001b[38;5;241m=\u001b[39m \u001b[38;5;28mlen\u001b[39m(args) \u001b[38;5;241m-\u001b[39m \u001b[38;5;28mlen\u001b[39m(all_args)\n\u001b[1;32m     62\u001b[0m \u001b[38;5;28;01mif\u001b[39;00m extra_args \u001b[38;5;241m<\u001b[39m\u001b[38;5;241m=\u001b[39m \u001b[38;5;241m0\u001b[39m:\n\u001b[0;32m---> 63\u001b[0m     \u001b[38;5;28;01mreturn\u001b[39;00m \u001b[43mf\u001b[49m\u001b[43m(\u001b[49m\u001b[38;5;241;43m*\u001b[39;49m\u001b[43margs\u001b[49m\u001b[43m,\u001b[49m\u001b[43m \u001b[49m\u001b[38;5;241;43m*\u001b[39;49m\u001b[38;5;241;43m*\u001b[39;49m\u001b[43mkwargs\u001b[49m\u001b[43m)\u001b[49m\n\u001b[1;32m     65\u001b[0m \u001b[38;5;66;03m# extra_args > 0\u001b[39;00m\n\u001b[1;32m     66\u001b[0m args_msg \u001b[38;5;241m=\u001b[39m [\u001b[38;5;124m'\u001b[39m\u001b[38;5;132;01m{}\u001b[39;00m\u001b[38;5;124m=\u001b[39m\u001b[38;5;132;01m{}\u001b[39;00m\u001b[38;5;124m'\u001b[39m\u001b[38;5;241m.\u001b[39mformat(name, arg)\n\u001b[1;32m     67\u001b[0m             \u001b[38;5;28;01mfor\u001b[39;00m name, arg \u001b[38;5;129;01min\u001b[39;00m \u001b[38;5;28mzip\u001b[39m(kwonly_args[:extra_args],\n\u001b[1;32m     68\u001b[0m                                  args[\u001b[38;5;241m-\u001b[39mextra_args:])]\n",
      "File \u001b[0;32m/usr/local/lib/python3.8/dist-packages/sklearn/metrics/_classification.py:299\u001b[0m, in \u001b[0;36mconfusion_matrix\u001b[0;34m(y_true, y_pred, labels, sample_weight, normalize)\u001b[0m\n\u001b[1;32m    213\u001b[0m \u001b[38;5;129m@_deprecate_positional_args\u001b[39m\n\u001b[1;32m    214\u001b[0m \u001b[38;5;28;01mdef\u001b[39;00m \u001b[38;5;21mconfusion_matrix\u001b[39m(y_true, y_pred, \u001b[38;5;241m*\u001b[39m, labels\u001b[38;5;241m=\u001b[39m\u001b[38;5;28;01mNone\u001b[39;00m, sample_weight\u001b[38;5;241m=\u001b[39m\u001b[38;5;28;01mNone\u001b[39;00m,\n\u001b[1;32m    215\u001b[0m                      normalize\u001b[38;5;241m=\u001b[39m\u001b[38;5;28;01mNone\u001b[39;00m):\n\u001b[1;32m    216\u001b[0m \u001b[38;5;250m    \u001b[39m\u001b[38;5;124;03m\"\"\"Compute confusion matrix to evaluate the accuracy of a classification.\u001b[39;00m\n\u001b[1;32m    217\u001b[0m \n\u001b[1;32m    218\u001b[0m \u001b[38;5;124;03m    By definition a confusion matrix :math:`C` is such that :math:`C_{i, j}`\u001b[39;00m\n\u001b[0;32m   (...)\u001b[0m\n\u001b[1;32m    297\u001b[0m \n\u001b[1;32m    298\u001b[0m \u001b[38;5;124;03m    \"\"\"\u001b[39;00m\n\u001b[0;32m--> 299\u001b[0m     y_type, y_true, y_pred \u001b[38;5;241m=\u001b[39m \u001b[43m_check_targets\u001b[49m\u001b[43m(\u001b[49m\u001b[43my_true\u001b[49m\u001b[43m,\u001b[49m\u001b[43m \u001b[49m\u001b[43my_pred\u001b[49m\u001b[43m)\u001b[49m\n\u001b[1;32m    300\u001b[0m     \u001b[38;5;28;01mif\u001b[39;00m y_type \u001b[38;5;129;01mnot\u001b[39;00m \u001b[38;5;129;01min\u001b[39;00m (\u001b[38;5;124m\"\u001b[39m\u001b[38;5;124mbinary\u001b[39m\u001b[38;5;124m\"\u001b[39m, \u001b[38;5;124m\"\u001b[39m\u001b[38;5;124mmulticlass\u001b[39m\u001b[38;5;124m\"\u001b[39m):\n\u001b[1;32m    301\u001b[0m         \u001b[38;5;28;01mraise\u001b[39;00m \u001b[38;5;167;01mValueError\u001b[39;00m(\u001b[38;5;124m\"\u001b[39m\u001b[38;5;132;01m%s\u001b[39;00m\u001b[38;5;124m is not supported\u001b[39m\u001b[38;5;124m\"\u001b[39m \u001b[38;5;241m%\u001b[39m y_type)\n",
      "File \u001b[0;32m/usr/local/lib/python3.8/dist-packages/sklearn/metrics/_classification.py:92\u001b[0m, in \u001b[0;36m_check_targets\u001b[0;34m(y_true, y_pred)\u001b[0m\n\u001b[1;32m     89\u001b[0m     y_type \u001b[38;5;241m=\u001b[39m {\u001b[38;5;124m\"\u001b[39m\u001b[38;5;124mmulticlass\u001b[39m\u001b[38;5;124m\"\u001b[39m}\n\u001b[1;32m     91\u001b[0m \u001b[38;5;28;01mif\u001b[39;00m \u001b[38;5;28mlen\u001b[39m(y_type) \u001b[38;5;241m>\u001b[39m \u001b[38;5;241m1\u001b[39m:\n\u001b[0;32m---> 92\u001b[0m     \u001b[38;5;28;01mraise\u001b[39;00m \u001b[38;5;167;01mValueError\u001b[39;00m(\u001b[38;5;124m\"\u001b[39m\u001b[38;5;124mClassification metrics can\u001b[39m\u001b[38;5;124m'\u001b[39m\u001b[38;5;124mt handle a mix of \u001b[39m\u001b[38;5;132;01m{0}\u001b[39;00m\u001b[38;5;124m \u001b[39m\u001b[38;5;124m\"\u001b[39m\n\u001b[1;32m     93\u001b[0m                      \u001b[38;5;124m\"\u001b[39m\u001b[38;5;124mand \u001b[39m\u001b[38;5;132;01m{1}\u001b[39;00m\u001b[38;5;124m targets\u001b[39m\u001b[38;5;124m\"\u001b[39m\u001b[38;5;241m.\u001b[39mformat(type_true, type_pred))\n\u001b[1;32m     95\u001b[0m \u001b[38;5;66;03m# We can't have more than one value on y_type => The set is no more needed\u001b[39;00m\n\u001b[1;32m     96\u001b[0m y_type \u001b[38;5;241m=\u001b[39m y_type\u001b[38;5;241m.\u001b[39mpop()\n",
      "\u001b[0;31mValueError\u001b[0m: Classification metrics can't handle a mix of multilabel-indicator and continuous-multioutput targets"
     ]
    }
   ],
   "source": [
    "from sklearn.metrics import confusion_matrix\n",
    "y_pred = model.predict(x_test)\n",
    "matrix = confusion_matrix(y_test,y_pred)\n",
    "matrix"
   ]
  },
  {
   "cell_type": "code",
   "execution_count": 38,
   "id": "1669e910",
   "metadata": {},
   "outputs": [
    {
     "name": "stdout",
     "output_type": "stream",
     "text": [
      "The model metrics are\n"
     ]
    },
    {
     "data": {
      "text/html": [
       "<div>\n",
       "<style scoped>\n",
       "    .dataframe tbody tr th:only-of-type {\n",
       "        vertical-align: middle;\n",
       "    }\n",
       "\n",
       "    .dataframe tbody tr th {\n",
       "        vertical-align: top;\n",
       "    }\n",
       "\n",
       "    .dataframe thead th {\n",
       "        text-align: right;\n",
       "    }\n",
       "</style>\n",
       "<table border=\"1\" class=\"dataframe\">\n",
       "  <thead>\n",
       "    <tr style=\"text-align: right;\">\n",
       "      <th></th>\n",
       "      <th>loss</th>\n",
       "      <th>accuracy</th>\n",
       "      <th>val_loss</th>\n",
       "      <th>val_accuracy</th>\n",
       "    </tr>\n",
       "  </thead>\n",
       "  <tbody>\n",
       "    <tr>\n",
       "      <th>0</th>\n",
       "      <td>8.841043</td>\n",
       "      <td>0.516335</td>\n",
       "      <td>0.582731</td>\n",
       "      <td>0.838068</td>\n",
       "    </tr>\n",
       "    <tr>\n",
       "      <th>1</th>\n",
       "      <td>0.300700</td>\n",
       "      <td>0.901989</td>\n",
       "      <td>0.334199</td>\n",
       "      <td>0.911932</td>\n",
       "    </tr>\n",
       "    <tr>\n",
       "      <th>2</th>\n",
       "      <td>0.104286</td>\n",
       "      <td>0.963068</td>\n",
       "      <td>0.368227</td>\n",
       "      <td>0.900568</td>\n",
       "    </tr>\n",
       "    <tr>\n",
       "      <th>3</th>\n",
       "      <td>0.074270</td>\n",
       "      <td>0.973722</td>\n",
       "      <td>0.325840</td>\n",
       "      <td>0.894886</td>\n",
       "    </tr>\n",
       "    <tr>\n",
       "      <th>4</th>\n",
       "      <td>0.064136</td>\n",
       "      <td>0.982244</td>\n",
       "      <td>0.355522</td>\n",
       "      <td>0.894886</td>\n",
       "    </tr>\n",
       "    <tr>\n",
       "      <th>5</th>\n",
       "      <td>0.055046</td>\n",
       "      <td>0.978693</td>\n",
       "      <td>0.368167</td>\n",
       "      <td>0.911932</td>\n",
       "    </tr>\n",
       "    <tr>\n",
       "      <th>6</th>\n",
       "      <td>0.065793</td>\n",
       "      <td>0.980824</td>\n",
       "      <td>0.415714</td>\n",
       "      <td>0.903409</td>\n",
       "    </tr>\n",
       "    <tr>\n",
       "      <th>7</th>\n",
       "      <td>0.047124</td>\n",
       "      <td>0.984375</td>\n",
       "      <td>0.294748</td>\n",
       "      <td>0.926136</td>\n",
       "    </tr>\n",
       "    <tr>\n",
       "      <th>8</th>\n",
       "      <td>0.035131</td>\n",
       "      <td>0.987216</td>\n",
       "      <td>0.379165</td>\n",
       "      <td>0.909091</td>\n",
       "    </tr>\n",
       "    <tr>\n",
       "      <th>9</th>\n",
       "      <td>0.033981</td>\n",
       "      <td>0.988636</td>\n",
       "      <td>0.373297</td>\n",
       "      <td>0.920455</td>\n",
       "    </tr>\n",
       "    <tr>\n",
       "      <th>10</th>\n",
       "      <td>0.039843</td>\n",
       "      <td>0.990767</td>\n",
       "      <td>0.335766</td>\n",
       "      <td>0.911932</td>\n",
       "    </tr>\n",
       "    <tr>\n",
       "      <th>11</th>\n",
       "      <td>0.029878</td>\n",
       "      <td>0.993608</td>\n",
       "      <td>0.378023</td>\n",
       "      <td>0.920455</td>\n",
       "    </tr>\n",
       "    <tr>\n",
       "      <th>12</th>\n",
       "      <td>0.027544</td>\n",
       "      <td>0.992898</td>\n",
       "      <td>0.471596</td>\n",
       "      <td>0.909091</td>\n",
       "    </tr>\n",
       "    <tr>\n",
       "      <th>13</th>\n",
       "      <td>0.024602</td>\n",
       "      <td>0.990767</td>\n",
       "      <td>0.487721</td>\n",
       "      <td>0.914773</td>\n",
       "    </tr>\n",
       "    <tr>\n",
       "      <th>14</th>\n",
       "      <td>0.026837</td>\n",
       "      <td>0.992188</td>\n",
       "      <td>0.515391</td>\n",
       "      <td>0.903409</td>\n",
       "    </tr>\n",
       "    <tr>\n",
       "      <th>15</th>\n",
       "      <td>0.036593</td>\n",
       "      <td>0.988636</td>\n",
       "      <td>0.529173</td>\n",
       "      <td>0.914773</td>\n",
       "    </tr>\n",
       "    <tr>\n",
       "      <th>16</th>\n",
       "      <td>0.025252</td>\n",
       "      <td>0.993608</td>\n",
       "      <td>0.541587</td>\n",
       "      <td>0.911932</td>\n",
       "    </tr>\n",
       "    <tr>\n",
       "      <th>17</th>\n",
       "      <td>0.041291</td>\n",
       "      <td>0.990057</td>\n",
       "      <td>0.618718</td>\n",
       "      <td>0.920455</td>\n",
       "    </tr>\n",
       "    <tr>\n",
       "      <th>18</th>\n",
       "      <td>0.060147</td>\n",
       "      <td>0.990057</td>\n",
       "      <td>0.834377</td>\n",
       "      <td>0.897727</td>\n",
       "    </tr>\n",
       "    <tr>\n",
       "      <th>19</th>\n",
       "      <td>0.090670</td>\n",
       "      <td>0.982244</td>\n",
       "      <td>0.631080</td>\n",
       "      <td>0.909091</td>\n",
       "    </tr>\n",
       "    <tr>\n",
       "      <th>20</th>\n",
       "      <td>0.079271</td>\n",
       "      <td>0.982244</td>\n",
       "      <td>0.719763</td>\n",
       "      <td>0.877841</td>\n",
       "    </tr>\n",
       "    <tr>\n",
       "      <th>21</th>\n",
       "      <td>0.063515</td>\n",
       "      <td>0.987216</td>\n",
       "      <td>0.538557</td>\n",
       "      <td>0.920455</td>\n",
       "    </tr>\n",
       "    <tr>\n",
       "      <th>22</th>\n",
       "      <td>0.041502</td>\n",
       "      <td>0.990057</td>\n",
       "      <td>0.669290</td>\n",
       "      <td>0.894886</td>\n",
       "    </tr>\n",
       "    <tr>\n",
       "      <th>23</th>\n",
       "      <td>0.042740</td>\n",
       "      <td>0.985085</td>\n",
       "      <td>0.605202</td>\n",
       "      <td>0.920455</td>\n",
       "    </tr>\n",
       "    <tr>\n",
       "      <th>24</th>\n",
       "      <td>0.018311</td>\n",
       "      <td>0.995739</td>\n",
       "      <td>0.604656</td>\n",
       "      <td>0.911932</td>\n",
       "    </tr>\n",
       "  </tbody>\n",
       "</table>\n",
       "</div>"
      ],
      "text/plain": [
       "        loss  accuracy  val_loss  val_accuracy\n",
       "0   8.841043  0.516335  0.582731      0.838068\n",
       "1   0.300700  0.901989  0.334199      0.911932\n",
       "2   0.104286  0.963068  0.368227      0.900568\n",
       "3   0.074270  0.973722  0.325840      0.894886\n",
       "4   0.064136  0.982244  0.355522      0.894886\n",
       "5   0.055046  0.978693  0.368167      0.911932\n",
       "6   0.065793  0.980824  0.415714      0.903409\n",
       "7   0.047124  0.984375  0.294748      0.926136\n",
       "8   0.035131  0.987216  0.379165      0.909091\n",
       "9   0.033981  0.988636  0.373297      0.920455\n",
       "10  0.039843  0.990767  0.335766      0.911932\n",
       "11  0.029878  0.993608  0.378023      0.920455\n",
       "12  0.027544  0.992898  0.471596      0.909091\n",
       "13  0.024602  0.990767  0.487721      0.914773\n",
       "14  0.026837  0.992188  0.515391      0.903409\n",
       "15  0.036593  0.988636  0.529173      0.914773\n",
       "16  0.025252  0.993608  0.541587      0.911932\n",
       "17  0.041291  0.990057  0.618718      0.920455\n",
       "18  0.060147  0.990057  0.834377      0.897727\n",
       "19  0.090670  0.982244  0.631080      0.909091\n",
       "20  0.079271  0.982244  0.719763      0.877841\n",
       "21  0.063515  0.987216  0.538557      0.920455\n",
       "22  0.041502  0.990057  0.669290      0.894886\n",
       "23  0.042740  0.985085  0.605202      0.920455\n",
       "24  0.018311  0.995739  0.604656      0.911932"
      ]
     },
     "execution_count": 38,
     "metadata": {},
     "output_type": "execute_result"
    }
   ],
   "source": [
    "metrics = pd.DataFrame(model.history.history)\n",
    "print(\"The model metrics are\")\n",
    "metrics\n"
   ]
  },
  {
   "cell_type": "code",
   "execution_count": 24,
   "id": "3019ec04",
   "metadata": {},
   "outputs": [
    {
     "data": {
      "text/plain": [
       "0.9985089302062988"
      ]
     },
     "execution_count": 24,
     "metadata": {},
     "output_type": "execute_result"
    }
   ],
   "source": [
    "history.history['accuracy'][-1]"
   ]
  },
  {
   "cell_type": "code",
   "execution_count": 40,
   "id": "3b6d0b34",
   "metadata": {},
   "outputs": [
    {
     "data": {
      "image/png": "[encoded data removed]",
      "text/plain": [
       "<Figure size 640x480 with 1 Axes>"
      ]
     },
     "metadata": {},
     "output_type": "display_data"
    }
   ],
   "source": [
    "metrics[['loss', 'val_loss', 'accuracy', 'val_accuracy']].plot()\n",
    "plt.xlabel(\"epoch\")\n",
    "plt.ylabel(\"accuracy\")\n",
    "plt.show()"
   ]
  },
  {
   "cell_type": "code",
   "execution_count": 41,
   "id": "6dbef09b",
   "metadata": {},
   "outputs": [
    {
     "name": "stdout",
     "output_type": "stream",
     "text": [
      "24/24 [==============================] - 0s 7ms/step - loss: 0.4205 - accuracy: 0.9391\n"
     ]
    },
    {
     "data": {
      "text/plain": [
       "[0.4205119013786316, 0.939072847366333]"
      ]
     },
     "execution_count": 41,
     "metadata": {},
     "output_type": "execute_result"
    }
   ],
   "source": [
    "model.evaluate(x_test, y_test)"
   ]
  },
  {
   "cell_type": "code",
   "execution_count": 43,
   "id": "2d9c49ac",
   "metadata": {},
   "outputs": [
    {
     "name": "stdout",
     "output_type": "stream",
     "text": [
      "55/55 [==============================] - 0s 6ms/step - loss: 0.1221 - accuracy: 0.9818\n"
     ]
    },
    {
     "data": {
      "text/plain": [
       "[0.12213562428951263, 0.9818181991577148]"
      ]
     },
     "execution_count": 43,
     "metadata": {},
     "output_type": "execute_result"
    }
   ],
   "source": [
    "model.evaluate(x_train, y_train)"
   ]
  },
  {
   "cell_type": "code",
   "execution_count": 51,
   "id": "912536d2",
   "metadata": {},
   "outputs": [
    {
     "name": "stdout",
     "output_type": "stream",
     "text": [
      "Requirement already satisfied: visualkeras in /home/sukanya/.local/lib/python3.8/site-packages (0.0.2)\n",
      "Requirement already satisfied: pillow>=6.2.0 in /home/sukanya/.local/lib/python3.8/site-packages (from visualkeras) (9.5.0)\n",
      "Requirement already satisfied: numpy>=1.18.1 in /home/sukanya/.local/lib/python3.8/site-packages (from visualkeras) (1.20.3)\n",
      "Requirement already satisfied: aggdraw>=1.3.11 in /home/sukanya/.local/lib/python3.8/site-packages (from visualkeras) (1.3.16)\n",
      "Requirement already satisfied: ann_visualizer in /home/sukanya/.local/lib/python3.8/site-packages (2.5)\n",
      "Requirement already satisfied: graphviz in /home/sukanya/.local/lib/python3.8/site-packages (0.20.1)\n",
      "Requirement already satisfied: pydot in /home/sukanya/.local/lib/python3.8/site-packages (1.4.2)\n",
      "Requirement already satisfied: pyparsing>=2.1.4 in /usr/local/lib/python3.8/dist-packages (from pydot) (2.4.7)\n"
     ]
    }
   ],
   "source": []
  },
  {
   "cell_type": "code",
   "execution_count": 16,
   "id": "4a24c95b",
   "metadata": {},
   "outputs": [
    {
     "name": "stderr",
     "output_type": "stream",
     "text": [
      "/tmp/ipykernel_137155/1116424642.py:3: DeprecationWarning: `import kerastuner` is deprecated, please use `import keras_tuner`.\n",
      "  from kerastuner.tuners import RandomSearch\n"
     ]
    }
   ],
   "source": [
    "#FINE TUNING\n",
    "# !!pip install keras-tuner --upgrade\n",
    "from kerastuner.tuners import RandomSearch\n",
    "from tensorflow.keras import layers\n",
    "\n",
    "def build_model(hp):\n",
    "    model = Sequential()\n",
    "    \n",
    "        # Convolutional Layer 1\n",
    "    model.add(Conv2D(64, kernel_size = 4, padding = 'same', input_shape = (SIZE, SIZE, 1)))\n",
    "    model.add(Activation('relu'))\n",
    "\n",
    "    # Convolutional Layer 2\n",
    "    model.add(Conv2D(64, kernel_size = 4, padding = 'same'))\n",
    "    model.add(Activation('relu'))\n",
    "\n",
    "\n",
    "    #Max-pooling layer\n",
    "    model.add(MaxPooling2D((2, 2)))\n",
    "\n",
    "    #Dropout layer\n",
    "    model.add(Dropout(0.5))\n",
    "\n",
    "    # Convolutional Layer 3\n",
    "    model.add(Conv2D(64 , kernel_size = 5, padding = 'same'))\n",
    "    model.add(Activation('relu'))\n",
    "\n",
    "#     Convolutional Layer 4\n",
    "    model.add(Conv2D(128 , kernel_size = 5, padding = 'same'))\n",
    "    model.add(Activation('relu'))\n",
    "\n",
    "    #Max-pooling layer\n",
    "    model.add(MaxPooling2D((2, 2)))\n",
    "\n",
    "    #Dropout layer\n",
    "    model.add(Dropout(0.5))\n",
    "\n",
    "#     Convolutional Layer 5\n",
    "    model.add(Conv2D(256 , kernel_size = 5, padding = 'same'))\n",
    "    model.add(Activation('relu'))\n",
    "\n",
    "    #Dropout layer\n",
    "    # model.add(Dropout(0.5))\n",
    "    model.add(Flatten())\n",
    "    model.add(Dense(NUM_CLASSES, activation='softmax'))\n",
    "\n",
    "    model.compile(optimizer = keras.optimizers.Adam (hp.Choice('learning_rate', values = [0.0001, 0.001, 0.01, 0.1])), loss = 'categorical_crossentropy', metrics = ['accuracy'])\n",
    "    \n",
    "    return model"
   ]
  },
  {
   "cell_type": "code",
   "execution_count": 107,
   "id": "4d1a88fa",
   "metadata": {},
   "outputs": [],
   "source": [
    "tuner = RandomSearch(build_model, objective = 'val_accuracy', max_trials = 10, executions_per_trial = 3, directory='nmy_dirrr')"
   ]
  },
  {
   "cell_type": "code",
   "execution_count": 108,
   "id": "9db165f8",
   "metadata": {},
   "outputs": [
    {
     "name": "stdout",
     "output_type": "stream",
     "text": [
      "Search space summary\n",
      "Default search space size: 1\n",
      "learning_rate (Choice)\n",
      "{'default': 0.0001, 'conditions': [], 'values': [0.0001, 0.001, 0.01, 0.1], 'ordered': True}\n"
     ]
    }
   ],
   "source": [
    "tuner.search_space_summary()"
   ]
  },
  {
   "cell_type": "code",
   "execution_count": 109,
   "id": "5700695b",
   "metadata": {},
   "outputs": [
    {
     "name": "stdout",
     "output_type": "stream",
     "text": [
      "Trial 4 Complete [00h 02m 18s]\n",
      "val_accuracy: 0.32582781836390495\n",
      "\n",
      "Best val_accuracy So Far: 0.9858719706535339\n",
      "Total elapsed time: 00h 09m 10s\n",
      "INFO:tensorflow:Oracle triggered exit\n"
     ]
    }
   ],
   "source": [
    "tuner.search(x_train, y_train, epochs = 25, validation_data = (x_test, y_test))"
   ]
  },
  {
   "cell_type": "code",
   "execution_count": 112,
   "id": "aec281c4",
   "metadata": {},
   "outputs": [
    {
     "name": "stdout",
     "output_type": "stream",
     "text": [
      "Results summary\n",
      "Results in nmy_dirrr/untitled_project\n",
      "Showing 10 best trials\n",
      "Objective(name=\"val_accuracy\", direction=\"max\")\n",
      "\n",
      "Trial 00 summary\n",
      "Hyperparameters:\n",
      "learning_rate: 0.0001\n",
      "Score: 0.9858719706535339\n",
      "\n",
      "Trial 01 summary\n",
      "Hyperparameters:\n",
      "learning_rate: 0.001\n",
      "Score: 0.9841059645016988\n",
      "\n",
      "Trial 03 summary\n",
      "Hyperparameters:\n",
      "learning_rate: 0.01\n",
      "Score: 0.32582781836390495\n",
      "\n",
      "Trial 02 summary\n",
      "Hyperparameters:\n",
      "learning_rate: 0.1\n",
      "Score: 0.02781456895172596\n"
     ]
    }
   ],
   "source": [
    "tuner.results_summary()"
   ]
  },
  {
   "cell_type": "code",
   "execution_count": null,
   "id": "63c2f9dd",
   "metadata": {},
   "outputs": [],
   "source": []
  },
  {
   "cell_type": "code",
   "execution_count": null,
   "id": "b67eef83",
   "metadata": {},
   "outputs": [],
   "source": []
  },
  {
   "cell_type": "code",
   "execution_count": null,
   "id": "406e9ae1",
   "metadata": {},
   "outputs": [],
   "source": []
  },
  {
   "cell_type": "code",
   "execution_count": null,
   "id": "29524484",
   "metadata": {},
   "outputs": [],
   "source": []
  },
  {
   "cell_type": "code",
   "execution_count": null,
   "id": "ab60c615",
   "metadata": {},
   "outputs": [],
   "source": []
  },
  {
   "cell_type": "code",
   "execution_count": null,
   "id": "9879b6ed",
   "metadata": {},
   "outputs": [],
   "source": []
  }
 ],
 "metadata": {
  "kernelspec": {
   "display_name": "Python 3 (ipykernel)",
   "language": "python",
   "name": "python3"
  },
  "language_info": {
   "codemirror_mode": {
    "name": "ipython",
    "version": 3
   },
   "file_extension": ".py",
   "mimetype": "text/x-python",
   "name": "python",
   "nbconvert_exporter": "python",
   "pygments_lexer": "ipython3",
   "version": "3.8.10"
  }
 },
 "nbformat": 4,
 "nbformat_minor": 5
}
