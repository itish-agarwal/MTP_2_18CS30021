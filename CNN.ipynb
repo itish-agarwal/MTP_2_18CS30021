{
 "cells": [
  {
   "cell_type": "code",
   "execution_count": 2,
   "id": "bb5fc4b6",
   "metadata": {},
   "outputs": [
    {
     "name": "stdout",
     "output_type": "stream",
     "text": [
      "Packages imported...\n"
     ]
    }
   ],
   "source": [
    "# import data processing and visualisation libraries\n",
    "import numpy as np\n",
    "import pandas as pd\n",
    "import seaborn as sns\n",
    "import matplotlib.pyplot as plt\n",
    "%matplotlib inline\n",
    "\n",
    "# import image processing libraries\n",
    "import cv2\n",
    "import skimage\n",
    "from skimage.transform import resize\n",
    "\n",
    "# import tensorflow and keras\n",
    "import tensorflow as tf\n",
    "from tensorflow import keras\n",
    "import os\n",
    "\n",
    "print(\"Packages imported...\")"
   ]
  },
  {
   "cell_type": "code",
   "execution_count": 7,
   "id": "baedf3b6",
   "metadata": {
    "scrolled": true
   },
   "outputs": [
    {
     "name": "stdout",
     "output_type": "stream",
     "text": [
      "33852\n",
      "1302\n",
      "1302\n",
      "1302\n",
      "1302\n",
      "1302\n",
      "1302\n",
      "1302\n",
      "1302\n",
      "1302\n",
      "1302\n",
      "1302\n",
      "1302\n",
      "1302\n",
      "1302\n",
      "1302\n",
      "1302\n",
      "1302\n",
      "1302\n",
      "1302\n",
      "1302\n",
      "1302\n",
      "1302\n",
      "1302\n",
      "1302\n",
      "1302\n",
      "1302\n"
     ]
    }
   ],
   "source": [
    "batch_size = 64\n",
    "imageSize = 96\n",
    "target_dims = (imageSize, imageSize, 3)\n",
    "num_classes = 29\n",
    "\n",
    "train_len = 0\n",
    "train_dir = \"/home/sukanya/Itish_Agarwal_2023/asl_data/asl_alphabet_train/asl_alphabet_train\"\n",
    "\n",
    "total = 0\n",
    "for folder in os.listdir(train_dir):\n",
    "    for img in os.listdir(train_dir + \"/\" + folder):\n",
    "        train_len += 1\n",
    "\n",
    "print(train_len)\n",
    "\n",
    "def get_data(folder):\n",
    "    x = np.empty((train_len, imageSize, imageSize, 3), dtype=np.float32)\n",
    "    y = np.empty((train_len,), dtype=np.int)\n",
    "    cnt = 0\n",
    "    for folderName in os.listdir(folder):\n",
    "        if not folderName.startswith('.'):\n",
    "            if folderName in ['A']:\n",
    "                label = 0\n",
    "            elif folderName in ['B']:\n",
    "                label = 1\n",
    "            elif folderName in ['C']:\n",
    "                label = 2\n",
    "            elif folderName in ['D']:\n",
    "                label = 3\n",
    "            elif folderName in ['E']:\n",
    "                label = 4\n",
    "            elif folderName in ['F']:\n",
    "                label = 5\n",
    "            elif folderName in ['G']:\n",
    "                label = 6\n",
    "            elif folderName in ['H']:\n",
    "                label = 7\n",
    "            elif folderName in ['I']:\n",
    "                label = 8\n",
    "            elif folderName in ['J']:\n",
    "                label = 9\n",
    "            elif folderName in ['K']:\n",
    "                label = 10\n",
    "            elif folderName in ['L']:\n",
    "                label = 11\n",
    "            elif folderName in ['M']:\n",
    "                label = 12\n",
    "            elif folderName in ['N']:\n",
    "                label = 13\n",
    "            elif folderName in ['O']:\n",
    "                label = 14\n",
    "            elif folderName in ['P']:\n",
    "                label = 15\n",
    "            elif folderName in ['Q']:\n",
    "                label = 16\n",
    "            elif folderName in ['R']:\n",
    "                label = 17\n",
    "            elif folderName in ['S']:\n",
    "                label = 18\n",
    "            elif folderName in ['T']:\n",
    "                label = 19\n",
    "            elif folderName in ['U']:\n",
    "                label = 20\n",
    "            elif folderName in ['V']:\n",
    "                label = 21\n",
    "            elif folderName in ['W']:\n",
    "                label = 22\n",
    "            elif folderName in ['X']:\n",
    "                label = 23\n",
    "            elif folderName in ['Y']:\n",
    "                label = 24\n",
    "            elif folderName in ['Z']:\n",
    "                label = 25\n",
    "            elif folderName in ['del']:\n",
    "                label = 26\n",
    "            elif folderName in ['nothing']:\n",
    "                label = 27\n",
    "            elif folderName in ['space']:\n",
    "                label = 28           \n",
    "            else:\n",
    "                label = 29\n",
    "            for image_filename in os.listdir(folder + '/' + folderName):\n",
    "                print(image_filename)\n",
    "                img_file = cv2.imread(folder + '/' + folderName + '/' + image_filename)\n",
    "                if img_file is not None:\n",
    "                    img_file = skimage.transform.resize(img_file, (imageSize, imageSize, 3))\n",
    "                    img_arr = np.asarray(img_file).reshape((-1, imageSize, imageSize, 3))\n",
    "                    \n",
    "                    x[cnt] = img_arr\n",
    "                    y[cnt] = label\n",
    "                    cnt += 1\n",
    "    return x,y\n",
    "x_train, y_train = get_data(train_dir)\n",
    "print(\"Images successfully imported...\")\n",
    "\n"
   ]
  },
  {
   "cell_type": "code",
   "execution_count": 4,
   "id": "f8be0ea7",
   "metadata": {},
   "outputs": [
    {
     "name": "stdout",
     "output_type": "stream",
     "text": [
      "The shape of X_train is :  (33852, 96, 96, 3)\n",
      "The shape of y_train is :  (33852,)\n"
     ]
    }
   ],
   "source": [
    "print(\"The shape of X_train is : \", x_train.shape)\n",
    "print(\"The shape of y_train is : \", y_train.shape)"
   ]
  },
  {
   "cell_type": "code",
   "execution_count": 5,
   "id": "f4dcb3e9",
   "metadata": {},
   "outputs": [
    {
     "name": "stdout",
     "output_type": "stream",
     "text": [
      "The shape of one image is :  (96, 96, 3)\n"
     ]
    }
   ],
   "source": [
    "print(\"The shape of one image is : \", x_train[0].shape)"
   ]
  },
  {
   "cell_type": "code",
   "execution_count": 6,
   "id": "c23a804a",
   "metadata": {},
   "outputs": [
    {
     "data": {
      "image/png": "[encoded data removed]",
      "text/plain": [
       "<Figure size 640x480 with 1 Axes>"
      ]
     },
     "metadata": {},
     "output_type": "display_data"
    }
   ],
   "source": [
    "plt.imshow(x_train[0])\n",
    "plt.show()"
   ]
  },
  {
   "cell_type": "code",
   "execution_count": 7,
   "id": "7227bab4",
   "metadata": {},
   "outputs": [
    {
     "name": "stdout",
     "output_type": "stream",
     "text": [
      "Copies made...\n"
     ]
    }
   ],
   "source": [
    "X_data = x_train\n",
    "Y_data = y_train\n",
    "print(\"Copies made...\")"
   ]
  },
  {
   "cell_type": "code",
   "execution_count": 8,
   "id": "634dbcb9",
   "metadata": {},
   "outputs": [],
   "source": [
    "from sklearn.model_selection import train_test_split\n",
    "\n",
    "X_train, X_test, y_train, y_test = train_test_split(X_data, Y_data, test_size=0.3,random_state=42,stratify=Y_data)"
   ]
  },
  {
   "cell_type": "code",
   "execution_count": 9,
   "id": "9d9b2f53",
   "metadata": {},
   "outputs": [
    {
     "data": {
      "text/plain": [
       "array([0., 0., 0., 0., 0., 0., 0., 0., 0., 0., 0., 0., 0., 0., 0., 1., 0.,\n",
       "       0., 0., 0., 0., 0., 0., 0., 0., 0., 0., 0., 0.], dtype=float32)"
      ]
     },
     "execution_count": 9,
     "metadata": {},
     "output_type": "execute_result"
    }
   ],
   "source": [
    "from tensorflow.keras.utils import to_categorical\n",
    "y_cat_train = to_categorical(y_train,29)\n",
    "y_cat_test = to_categorical(y_test,29)\n",
    "y_cat_train[0]"
   ]
  },
  {
   "cell_type": "code",
   "execution_count": 10,
   "id": "9ba6e3f3",
   "metadata": {},
   "outputs": [
    {
     "name": "stdout",
     "output_type": "stream",
     "text": [
      "(23696, 96, 96, 3)\n",
      "(23696,)\n",
      "(10156, 96, 96, 3)\n",
      "(10156,)\n",
      "(23696, 29)\n",
      "(10156, 29)\n"
     ]
    }
   ],
   "source": [
    "print(X_train.shape)\n",
    "print(y_train.shape)\n",
    "print(X_test.shape)\n",
    "print(y_test.shape)\n",
    "print(y_cat_train.shape)\n",
    "print(y_cat_test.shape)"
   ]
  },
  {
   "cell_type": "code",
   "execution_count": 11,
   "id": "725e7d11",
   "metadata": {},
   "outputs": [
    {
     "name": "stdout",
     "output_type": "stream",
     "text": [
      "Packages imported...\n"
     ]
    }
   ],
   "source": [
    "#MODEL\n",
    "\n",
    "from keras.models import Sequential\n",
    "from keras.layers import Conv2D, MaxPooling2D, Activation, Dense, Flatten\n",
    "print(\"Packages imported...\")"
   ]
  },
  {
   "cell_type": "code",
   "execution_count": 12,
   "id": "26382c6e",
   "metadata": {},
   "outputs": [
    {
     "name": "stderr",
     "output_type": "stream",
     "text": [
      "2023-04-23 21:17:13.237192: I tensorflow/stream_executor/cuda/cuda_gpu_executor.cc:936] successful NUMA node read from SysFS had negative value (-1), but there must be at least one NUMA node, so returning NUMA node zero\n",
      "2023-04-23 21:17:13.261685: I tensorflow/stream_executor/cuda/cuda_gpu_executor.cc:936] successful NUMA node read from SysFS had negative value (-1), but there must be at least one NUMA node, so returning NUMA node zero\n",
      "2023-04-23 21:17:13.261818: I tensorflow/stream_executor/cuda/cuda_gpu_executor.cc:936] successful NUMA node read from SysFS had negative value (-1), but there must be at least one NUMA node, so returning NUMA node zero\n",
      "2023-04-23 21:17:13.262445: I tensorflow/core/platform/cpu_feature_guard.cc:151] This TensorFlow binary is optimized with oneAPI Deep Neural Network Library (oneDNN) to use the following CPU instructions in performance-critical operations:  AVX2 FMA\n",
      "To enable them in other operations, rebuild TensorFlow with the appropriate compiler flags.\n",
      "2023-04-23 21:17:13.263193: I tensorflow/stream_executor/cuda/cuda_gpu_executor.cc:936] successful NUMA node read from SysFS had negative value (-1), but there must be at least one NUMA node, so returning NUMA node zero\n",
      "2023-04-23 21:17:13.263320: I tensorflow/stream_executor/cuda/cuda_gpu_executor.cc:936] successful NUMA node read from SysFS had negative value (-1), but there must be at least one NUMA node, so returning NUMA node zero\n",
      "2023-04-23 21:17:13.263426: I tensorflow/stream_executor/cuda/cuda_gpu_executor.cc:936] successful NUMA node read from SysFS had negative value (-1), but there must be at least one NUMA node, so returning NUMA node zer"
     ]
    },
    {
     "name": "stdout",
     "output_type": "stream",
     "text": [
      "Model: \"sequential\"\n",
      "_________________________________________________________________\n",
      " Layer (type)                Output Shape              Param #   \n",
      "=================================================================\n",
      " conv2d (Conv2D)             (None, 92, 92, 32)        2432      \n",
      "                                                                 \n",
      " activation (Activation)     (None, 92, 92, 32)        0         \n",
      "                                                                 \n",
      " max_pooling2d (MaxPooling2D  (None, 46, 46, 32)       0         \n",
      " )                                                               \n",
      "                                                                 \n",
      " conv2d_1 (Conv2D)           (None, 44, 44, 64)        18496     \n",
      "                                                                 \n",
      " activation_1 (Activation)   (None, 44, 44, 64)        0         \n",
      "                                                                 \n",
      " max_pooling2d_1 (MaxPooling  (None, 22, 22, 64)       0         \n",
      " 2D)                                                             \n",
      "                                                                 \n",
      " conv2d_2 (Conv2D)           (None, 20, 20, 64)        36928     \n",
      "                                                                 \n",
      " activation_2 (Activation)   (None, 20, 20, 64)        0         \n",
      "                                                                 \n",
      " max_pooling2d_2 (MaxPooling  (None, 10, 10, 64)       0         \n",
      " 2D)                                                             \n",
      "                                                                 \n",
      " flatten (Flatten)           (None, 6400)              0         \n",
      "                                                                 \n",
      " dense (Dense)               (None, 128)               819328    \n",
      "                                                                 \n",
      " dense_1 (Dense)             (None, 29)                3741      \n",
      "                                                                 \n",
      "=================================================================\n",
      "Total params: 880,925\n",
      "Trainable params: 880,925\n",
      "Non-trainable params: 0\n",
      "_________________________________________________________________\n"
     ]
    },
    {
     "name": "stderr",
     "output_type": "stream",
     "text": [
      "o\n",
      "2023-04-23 21:17:13.645849: I tensorflow/stream_executor/cuda/cuda_gpu_executor.cc:936] successful NUMA node read from SysFS had negative value (-1), but there must be at least one NUMA node, so returning NUMA node zero\n",
      "2023-04-23 21:17:13.646387: I tensorflow/stream_executor/cuda/cuda_gpu_executor.cc:936] successful NUMA node read from SysFS had negative value (-1), but there must be at least one NUMA node, so returning NUMA node zero\n",
      "2023-04-23 21:17:13.646701: I tensorflow/stream_executor/cuda/cuda_gpu_executor.cc:936] successful NUMA node read from SysFS had negative value (-1), but there must be at least one NUMA node, so returning NUMA node zero\n",
      "2023-04-23 21:17:13.647004: I tensorflow/core/common_runtime/gpu/gpu_device.cc:1525] Created device /job:localhost/replica:0/task:0/device:GPU:0 with 891 MB memory:  -> device: 0, name: NVIDIA GeForce RTX 3090, pci bus id: 0000:08:00.0, compute capability: 8.6\n"
     ]
    }
   ],
   "source": [
    "model = Sequential()\n",
    "\n",
    "model.add(Conv2D(32, (5, 5), input_shape=(imageSize, imageSize, 3)))\n",
    "model.add(Activation('relu'))\n",
    "model.add(MaxPooling2D((2, 2)))\n",
    "\n",
    "model.add(Conv2D(64, (3, 3)))\n",
    "model.add(Activation('relu'))\n",
    "model.add(MaxPooling2D((2, 2)))\n",
    "\n",
    "model.add(Conv2D(64, (3, 3)))\n",
    "model.add(Activation('relu'))\n",
    "model.add(MaxPooling2D((2, 2)))\n",
    "\n",
    "model.add(Flatten())\n",
    "\n",
    "model.add(Dense(128, activation='relu'))\n",
    "\n",
    "model.add(Dense(29, activation='softmax'))\n",
    "\n",
    "model.summary()"
   ]
  },
  {
   "cell_type": "code",
   "execution_count": 13,
   "id": "eeb8617c",
   "metadata": {},
   "outputs": [],
   "source": [
    "model.compile(optimizer='adam',\n",
    "              loss='categorical_crossentropy',\n",
    "              metrics=['accuracy'])"
   ]
  },
  {
   "cell_type": "code",
   "execution_count": 14,
   "id": "a83f5b89",
   "metadata": {},
   "outputs": [
    {
     "name": "stderr",
     "output_type": "stream",
     "text": [
      "2023-04-23 21:17:19.749116: W tensorflow/core/framework/cpu_allocator_impl.cc:82] Allocation of 2620588032 exceeds 10% of free system memory.\n",
      "2023-04-23 21:17:30.605799: W tensorflow/core/common_runtime/bfc_allocator.cc:462] Allocator (GPU_0_bfc) ran out of memory trying to allocate 2.44GiB (rounded to 2620588032)requested by op _EagerConst\n",
      "If the cause is memory fragmentation maybe the environment variable 'TF_GPU_ALLOCATOR=cuda_malloc_async' will improve the situation. \n",
      "Current allocation summary follows.\n",
      "Current allocation summary follows.\n",
      "2023-04-23 21:17:30.605886: I tensorflow/core/common_runtime/bfc_allocator.cc:1010] BFCAllocator dump for GPU_0_bfc\n",
      "2023-04-23 21:17:30.605897: I tensorflow/core/common_runtime/bfc_allocator.cc:1017] Bin (256): \tTotal Chunks: 19, Chunks in use: 19. 4.8KiB allocated for chunks. 4.8KiB in use in bin. 824B client-requested in use in bin.\n",
      "2023-04-23 21:17:30.605902: I tensorflow/core/common_runtime/bfc_allocator.cc:1017] Bin (512): \tTotal Chunks: 1, Chunks in use: 1. 512B allocated for chunks. 512B in use in bin. 512B client-requested in use in bin.\n",
      "2023-04-23 21:17:30.605906: I tensorflow/core/common_runtime/bfc_allocator.cc:1017] Bin (1024): \tTotal Chunks: 1, Chunks in use: 1. 1.2KiB allocated for chunks. 1.2KiB in use in bin. 1.0KiB client-requested in use in bin.\n",
      "2023-04-23 21:17:30.605909: I tensorflow/core/common_runtime/bfc_allocator.cc:1017] Bin (2048): \tTotal Chunks: 0, Chunks in use: 0. 0B allocated for chunks. 0B in use in bin. 0B client-requested in use in bin.\n",
      "2023-04-23 21:17:30.605913: I tensorflow/core/common_runtime/bfc_allocator.cc:1017] Bin (4096): \tTotal Chunks: 0, Chunks in use: 0. 0B allocated for chunks. 0B in use in bin. 0B client-requested in use in bin.\n",
      "2023-04-23 21:17:30.605917: I tensorflow/core/common_runtime/bfc_allocator.cc:1017] Bin (8192): \tTotal Chunks: 4, Chunks in use: 2. 53.5KiB allocated for chunks. 24.0KiB in use in bin. 23.9KiB client-requested in use in bin.\n",
      "2023-04-23 21:17:30.605921: I tensorflow/core/common_runtime/bfc_allocator.cc:1017] Bin (16384): \tTotal Chunks: 0, Chunks in use: 0. 0B allocated for chunks. 0B in use in bin. 0B client-requested in use in bin.\n",
      "2023-04-23 21:17:30.605924: I tensorflow/core/common_runtime/bfc_allocator.cc:1017] Bin (32768): \tTotal Chunks: 0, Chunks in use: 0. 0B allocated for chunks. 0B in use in bin. 0B client-requested in use in bin.\n",
      "2023-04-23 21:17:30.605928: I tensorflow/core/common_runtime/bfc_allocator.cc:1017] Bin (65536): \tTotal Chunks: 2, Chunks in use: 1. 186.8KiB allocated for chunks. 72.0KiB in use in bin. 72.0KiB client-requested in use in bin.\n",
      "2023-04-23 21:17:30.605932: I tensorflow/core/common_runtime/bfc_allocator.cc:1017] Bin (131072): \tTotal Chunks: 2, Chunks in use: 1. 288.0KiB allocated for chunks. 144.0KiB in use in bin. 144.0KiB client-requested in use in bin.\n",
      "2023-04-23 21:17:30.605935: I tensorflow/core/common_runtime/bfc_allocator.cc:1017] Bin (262144): \tTotal Chunks: 0, Chunks in use: 0. 0B allocated for chunks. 0B in use in bin. 0B client-requested in use in bin.\n",
      "2023-04-23 21:17:30.605939: I tensorflow/core/common_runtime/bfc_allocator.cc:1017] Bin (524288): \tTotal Chunks: 0, Chunks in use: 0. 0B allocated for chunks. 0B in use in bin. 0B client-requested in use in bin.\n",
      "2023-04-23 21:17:30.605942: I tensorflow/core/common_runtime/bfc_allocator.cc:1017] Bin (1048576): \tTotal Chunks: 0, Chunks in use: 0. 0B allocated for chunks. 0B in use in bin. 0B client-requested in use in bin.\n",
      "2023-04-23 21:17:30.605945: I tensorflow/core/common_runtime/bfc_allocator.cc:1017] Bin (2097152): \tTotal Chunks: 1, Chunks in use: 1. 3.12MiB allocated for chunks. 3.12MiB in use in bin. 3.12MiB client-requested in use in bin.\n",
      "2023-04-23 21:17:30.605949: I tensorflow/core/common_runtime/bfc_allocator.cc:1017] Bin (4194304): \tTotal Chunks: 1, Chunks in use: 0. 6.25MiB allocated for chunks. 0B in use in bin. 0B client-requested in use in bin.\n",
      "2023-04-23 21:17:30.605952: I tensorflow/core/common_runtime/bfc_allocator.cc:1017] Bin (8388608): \tTotal Chunks: 0, Chunks in use: 0. 0B allocated for chunks. 0B in use in bin. 0B client-requested in use in bin.\n",
      "2023-04-23 21:17:30.605955: I tensorflow/core/common_runtime/bfc_allocator.cc:1017] Bin (16777216): \tTotal Chunks: 0, Chunks in use: 0. 0B allocated for chunks. 0B in use in bin. 0B client-requested in use in bin.\n",
      "2023-04-23 21:17:30.605959: I tensorflow/core/common_runtime/bfc_allocator.cc:1017] Bin (33554432): \tTotal Chunks: 0, Chunks in use: 0. 0B allocated for chunks. 0B in use in bin. 0B client-requested in use in bin.\n",
      "2023-04-23 21:17:30.605963: I tensorflow/core/common_runtime/bfc_allocator.cc:1017] Bin (67108864): \tTotal Chunks: 0, Chunks in use: 0. 0B allocated for chunks. 0B in use in bin. 0B client-requested in use in bin.\n",
      "2023-04-23 21:17:30.605966: I tensorflow/core/common_runtime/bfc_allocator.cc:1017] Bin (134217728): \tTotal Chunks: 0, Chunks in use: 0. 0B allocated for chunks. 0B in use in bin. 0B client-requested in use in bin.\n",
      "2023-04-23 21:17:30.605969: I tensorflow/core/common_runtime/bfc_allocator.cc:1017] Bin (268435456): \tTotal Chunks: 1, Chunks in use: 0. 881.29MiB allocated for chunks. 0B in use in bin. 0B client-requested in use in bin.\n",
      "2023-04-23 21:17:30.605973: I tensorflow/core/common_runtime/bfc_allocator.cc:1033] Bin for 2.44GiB was 256.00MiB, Chunk State: \n",
      "2023-04-23 21:17:30.605981: I tensorflow/core/common_runtime/bfc_allocator.cc:1039]   Size: 881.29MiB | Requested Size: 0B | in_use: 0 | bin_num: 20, prev:   Size: 3.12MiB | Requested Size: 3.12MiB | in_use: 1 | bin_num: -1\n",
      "2023-04-23 21:17:30.605983: I tensorflow/core/common_runtime/bfc_allocator.cc:1046] Next region of size 934477824\n",
      "2023-04-23 21:17:30.605989: I tensorflow/core/common_runtime/bfc_allocator.cc:1066] InUse at 7faac8000000 of size 256 next 1\n",
      "2023-04-23 21:17:30.605992: I tensorflow/core/common_runtime/bfc_allocator.cc:1066] InUse at 7faac8000100 of size 1280 next 2\n",
      "2023-04-23 21:17:30.605994: I tensorflow/core/common_runtime/bfc_allocator.cc:1066] InUse at 7faac8000600 of size 256 next 3\n",
      "2023-04-23 21:17:30.605997: I tensorflow/core/common_runtime/bfc_allocator.cc:1066] InUse at 7faac8000700 of size 256 next 4\n",
      "2023-04-23 21:17:30.605999: I tensorflow/core/common_runtime/bfc_allocator.cc:1066] InUse at 7faac8000800 of size 256 next 5\n",
      "2023-04-23 21:17:30.606002: I tensorflow/core/common_runtime/bfc_allocator.cc:1066] InUse at 7faac8000900 of size 256 next 6\n",
      "2023-04-23 21:17:30.606005: I tensorflow/core/common_runtime/bfc_allocator.cc:1066] InUse at 7faac8000a00 of size 256 next 9\n",
      "2023-04-23 21:17:30.606007: I tensorflow/core/common_runtime/bfc_allocator.cc:1066] InUse at 7faac8000b00 of size 256 next 10\n",
      "2023-04-23 21:17:30.606010: I tensorflow/core/common_runtime/bfc_allocator.cc:1066] InUse at 7faac8000c00 of size 256 next 11\n",
      "2023-04-23 21:17:30.606012: I tensorflow/core/common_runtime/bfc_allocator.cc:1066] InUse at 7faac8000d00 of size 256 next 14\n",
      "2023-04-23 21:17:30.606015: I tensorflow/core/common_runtime/bfc_allocator.cc:1066] InUse at 7faac8000e00 of size 256 next 15\n",
      "2023-04-23 21:17:30.606017: I tensorflow/core/common_runtime/bfc_allocator.cc:1066] InUse at 7faac8000f00 of size 256 next 18\n",
      "2023-04-23 21:17:30.606020: I tensorflow/core/common_runtime/bfc_allocator.cc:1066] InUse at 7faac8001000 of size 256 next 19\n",
      "2023-04-23 21:17:30.606022: I tensorflow/core/common_runtime/bfc_allocator.cc:1066] InUse at 7faac8001100 of size 256 next 20\n",
      "2023-04-23 21:17:30.606026: I tensorflow/core/common_runtime/bfc_allocator.cc:1066] InUse at 7faac8001200 of size 512 next 21\n",
      "2023-04-23 21:17:30.606029: I tensorflow/core/common_runtime/bfc_allocator.cc:1066] InUse at 7faac8001400 of size 256 next 24\n",
      "2023-04-23 21:17:30.606031: I tensorflow/core/common_runtime/bfc_allocator.cc:1066] InUse at 7faac8001500 of size 256 next 25\n",
      "2023-04-23 21:17:30.606034: I tensorflow/core/common_runtime/bfc_allocator.cc:1066] Free  at 7faac8001600 of size 16128 next 7\n",
      "2023-04-23 21:17:30.606037: I tensorflow/core/common_runtime/bfc_allocator.cc:1066] InUse at 7faac8005500 of size 9728 next 8\n",
      "2023-04-23 21:17:30.606039: I tensorflow/core/common_runtime/bfc_allocator.cc:1066] InUse at 7faac8007b00 of size 256 next 26\n",
      "2023-04-23 21:17:30.606042: I tensorflow/core/common_runtime/bfc_allocator.cc:1066] InUse at 7faac8007c00 of size 256 next 29\n",
      "2023-04-23 21:17:30.606046: I tensorflow/core/common_runtime/bfc_allocator.cc:1066] InUse at 7faac8007d00 of size 256 next 30\n",
      "2023-04-23 21:17:30.606049: I tensorflow/core/common_runtime/bfc_allocator.cc:1066] InUse at 7faac8007e00 of size 256 next 31\n",
      "2023-04-23 21:17:30.606052: I tensorflow/core/common_runtime/bfc_allocator.cc:1066] Free  at 7faac8007f00 of size 14080 next 27\n",
      "2023-04-23 21:17:30.606054: I tensorflow/core/common_runtime/bfc_allocator.cc:1066] InUse at 7faac800b600 of size 14848 next 28\n",
      "2023-04-23 21:17:30.606057: I tensorflow/core/common_runtime/bfc_allocator.cc:1066] Free  at 7faac800f000 of size 117504 next 13\n",
      "2023-04-23 21:17:30.606059: I tensorflow/core/common_runtime/bfc_allocator.cc:1066] InUse at 7faac802bb00 of size 73728 next 12\n",
      "2023-04-23 21:17:30.606062: I tensorflow/core/common_runtime/bfc_allocator.cc:1066] Free  at 7faac803db00 of size 147456 next 17\n",
      "2023-04-23 21:17:30.606065: I tensorflow/core/common_runtime/bfc_allocator.cc:1066] InUse at 7faac8061b00 of size 147456 next 16\n",
      "2023-04-23 21:17:30.606067: I tensorflow/core/common_runtime/bfc_allocator.cc:1066] Free  at 7faac8085b00 of size 6553600 next 23\n",
      "2023-04-23 21:17:30.606070: I tensorflow/core/common_runtime/bfc_allocator.cc:1066] InUse at 7faac86c5b00 of size 3276800 next 22\n",
      "2023-04-23 21:17:30.606073: I tensorflow/core/common_runtime/bfc_allocator.cc:1066] Free  at 7faac89e5b00 of size 924099840 next 18446744073709551615\n",
      "2023-04-23 21:17:30.606075: I tensorflow/core/common_runtime/bfc_allocator.cc:1071]      Summary of in-use Chunks by size: \n",
      "2023-04-23 21:17:30.606079: I tensorflow/core/common_runtime/bfc_allocator.cc:1074] 19 Chunks of size 256 totalling 4.8KiB\n",
      "2023-04-23 21:17:30.606082: I tensorflow/core/common_runtime/bfc_allocator.cc:1074] 1 Chunks of size 512 totalling 512B\n",
      "2023-04-23 21:17:30.606085: I tensorflow/core/common_runtime/bfc_allocator.cc:1074] 1 Chunks of size 1280 totalling 1.2KiB\n",
      "2023-04-23 21:17:30.606088: I tensorflow/core/common_runtime/bfc_allocator.cc:1074] 1 Chunks of size 9728 totalling 9.5KiB\n",
      "2023-04-23 21:17:30.606091: I tensorflow/core/common_runtime/bfc_allocator.cc:1074] 1 Chunks of size 14848 totalling 14.5KiB\n",
      "2023-04-23 21:17:30.606094: I tensorflow/core/common_runtime/bfc_allocator.cc:1074] 1 Chunks of size 73728 totalling 72.0KiB\n",
      "2023-04-23 21:17:30.606098: I tensorflow/core/common_runtime/bfc_allocator.cc:1074] 1 Chunks of size 147456 totalling 144.0KiB\n",
      "2023-04-23 21:17:30.606100: I tensorflow/core/common_runtime/bfc_allocator.cc:1074] 1 Chunks of size 3276800 totalling 3.12MiB\n",
      "2023-04-23 21:17:30.606103: I tensorflow/core/common_runtime/bfc_allocator.cc:1078] Sum Total of in-use chunks: 3.37MiB\n",
      "2023-04-23 21:17:30.606106: I tensorflow/core/common_runtime/bfc_allocator.cc:1080] total_region_allocated_bytes_: 934477824 memory_limit_: 934477824 available bytes: 0 curr_region_allocation_bytes_: 1868955648\n",
      "2023-04-23 21:17:30.606112: I tensorflow/core/common_runtime/bfc_allocator.cc:1086] Stats: \n",
      "Limit:                       934477824\n",
      "InUse:                         3529216\n",
      "MaxInUse:                     10065920\n",
      "NumAllocs:                          41\n",
      "MaxAllocSize:                  3276800\n",
      "Reserved:                            0\n",
      "PeakReserved:                        0\n",
      "LargestFreeBlock:                    0\n",
      "\n",
      "2023-04-23 21:17:30.606117: W tensorflow/core/common_runtime/bfc_allocator.cc:474] **__________________________________________________________________________________________________\n"
     ]
    },
    {
     "ename": "InternalError",
     "evalue": "Failed copying input tensor from /job:localhost/replica:0/task:0/device:CPU:0 to /job:localhost/replica:0/task:0/device:GPU:0 in order to run _EagerConst: Dst tensor is not initialized.",
     "output_type": "error",
     "traceback": [
      "\u001b[0;31m---------------------------------------------------------------------------\u001b[0m",
      "\u001b[0;31mInternalError\u001b[0m                             Traceback (most recent call last)",
      "Cell \u001b[0;32mIn[14], line 1\u001b[0m\n\u001b[0;32m----> 1\u001b[0m \u001b[43mmodel\u001b[49m\u001b[38;5;241;43m.\u001b[39;49m\u001b[43mfit\u001b[49m\u001b[43m(\u001b[49m\u001b[43mX_train\u001b[49m\u001b[43m,\u001b[49m\u001b[43m \u001b[49m\u001b[43my_cat_train\u001b[49m\u001b[43m,\u001b[49m\n\u001b[1;32m      2\u001b[0m \u001b[43m          \u001b[49m\u001b[43mepochs\u001b[49m\u001b[38;5;241;43m=\u001b[39;49m\u001b[38;5;241;43m5\u001b[39;49m\u001b[43m,\u001b[49m\n\u001b[1;32m      3\u001b[0m \u001b[43m          \u001b[49m\u001b[43mbatch_size\u001b[49m\u001b[38;5;241;43m=\u001b[39;49m\u001b[38;5;241;43m32\u001b[39;49m\u001b[43m,\u001b[49m\n\u001b[1;32m      4\u001b[0m \u001b[43m          \u001b[49m\u001b[43mverbose\u001b[49m\u001b[38;5;241;43m=\u001b[39;49m\u001b[38;5;241;43m2\u001b[39;49m\u001b[43m,\u001b[49m\n\u001b[1;32m      5\u001b[0m \u001b[43m          \u001b[49m\u001b[43mvalidation_data\u001b[49m\u001b[38;5;241;43m=\u001b[39;49m\u001b[43m(\u001b[49m\u001b[43mX_test\u001b[49m\u001b[43m,\u001b[49m\u001b[43m \u001b[49m\u001b[43my_cat_test\u001b[49m\u001b[43m)\u001b[49m\u001b[43m)\u001b[49m\n",
      "File \u001b[0;32m~/.local/lib/python3.8/site-packages/keras/utils/traceback_utils.py:67\u001b[0m, in \u001b[0;36mfilter_traceback.<locals>.error_handler\u001b[0;34m(*args, **kwargs)\u001b[0m\n\u001b[1;32m     65\u001b[0m \u001b[38;5;28;01mexcept\u001b[39;00m \u001b[38;5;167;01mException\u001b[39;00m \u001b[38;5;28;01mas\u001b[39;00m e:  \u001b[38;5;66;03m# pylint: disable=broad-except\u001b[39;00m\n\u001b[1;32m     66\u001b[0m   filtered_tb \u001b[38;5;241m=\u001b[39m _process_traceback_frames(e\u001b[38;5;241m.\u001b[39m__traceback__)\n\u001b[0;32m---> 67\u001b[0m   \u001b[38;5;28;01mraise\u001b[39;00m e\u001b[38;5;241m.\u001b[39mwith_traceback(filtered_tb) \u001b[38;5;28;01mfrom\u001b[39;00m \u001b[38;5;28mNone\u001b[39m\n\u001b[1;32m     68\u001b[0m \u001b[38;5;28;01mfinally\u001b[39;00m:\n\u001b[1;32m     69\u001b[0m   \u001b[38;5;28;01mdel\u001b[39;00m filtered_tb\n",
      "File \u001b[0;32m~/.local/lib/python3.8/site-packages/tensorflow/python/framework/constant_op.py:102\u001b[0m, in \u001b[0;36mconvert_to_eager_tensor\u001b[0;34m(value, ctx, dtype)\u001b[0m\n\u001b[1;32m    100\u001b[0m     dtype \u001b[38;5;241m=\u001b[39m dtypes\u001b[38;5;241m.\u001b[39mas_dtype(dtype)\u001b[38;5;241m.\u001b[39mas_datatype_enum\n\u001b[1;32m    101\u001b[0m ctx\u001b[38;5;241m.\u001b[39mensure_initialized()\n\u001b[0;32m--> 102\u001b[0m \u001b[38;5;28;01mreturn\u001b[39;00m \u001b[43mops\u001b[49m\u001b[38;5;241;43m.\u001b[39;49m\u001b[43mEagerTensor\u001b[49m\u001b[43m(\u001b[49m\u001b[43mvalue\u001b[49m\u001b[43m,\u001b[49m\u001b[43m \u001b[49m\u001b[43mctx\u001b[49m\u001b[38;5;241;43m.\u001b[39;49m\u001b[43mdevice_name\u001b[49m\u001b[43m,\u001b[49m\u001b[43m \u001b[49m\u001b[43mdtype\u001b[49m\u001b[43m)\u001b[49m\n",
      "\u001b[0;31mInternalError\u001b[0m: Failed copying input tensor from /job:localhost/replica:0/task:0/device:CPU:0 to /job:localhost/replica:0/task:0/device:GPU:0 in order to run _EagerConst: Dst tensor is not initialized."
     ]
    }
   ],
   "source": [
    "model.fit(X_train, y_cat_train,\n",
    "          epochs=5,\n",
    "          batch_size=32,\n",
    "          verbose=2,\n",
    "          validation_data=(X_test, y_cat_test))"
   ]
  },
  {
   "cell_type": "code",
   "execution_count": 14,
   "id": "a6f51b2d",
   "metadata": {},
   "outputs": [
    {
     "name": "stdout",
     "output_type": "stream",
     "text": [
      "The model metrics are\n"
     ]
    },
    {
     "data": {
      "text/html": [
       "<div>\n",
       "<style scoped>\n",
       "    .dataframe tbody tr th:only-of-type {\n",
       "        vertical-align: middle;\n",
       "    }\n",
       "\n",
       "    .dataframe tbody tr th {\n",
       "        vertical-align: top;\n",
       "    }\n",
       "\n",
       "    .dataframe thead th {\n",
       "        text-align: right;\n",
       "    }\n",
       "</style>\n",
       "<table border=\"1\" class=\"dataframe\">\n",
       "  <thead>\n",
       "    <tr style=\"text-align: right;\">\n",
       "      <th></th>\n",
       "      <th>loss</th>\n",
       "      <th>accuracy</th>\n",
       "      <th>val_loss</th>\n",
       "      <th>val_accuracy</th>\n",
       "    </tr>\n",
       "  </thead>\n",
       "  <tbody>\n",
       "    <tr>\n",
       "      <th>0</th>\n",
       "      <td>0.726651</td>\n",
       "      <td>0.781346</td>\n",
       "      <td>0.261231</td>\n",
       "      <td>0.912835</td>\n",
       "    </tr>\n",
       "    <tr>\n",
       "      <th>1</th>\n",
       "      <td>0.098315</td>\n",
       "      <td>0.968177</td>\n",
       "      <td>0.069270</td>\n",
       "      <td>0.978774</td>\n",
       "    </tr>\n",
       "    <tr>\n",
       "      <th>2</th>\n",
       "      <td>0.058484</td>\n",
       "      <td>0.982217</td>\n",
       "      <td>0.137606</td>\n",
       "      <td>0.960345</td>\n",
       "    </tr>\n",
       "    <tr>\n",
       "      <th>3</th>\n",
       "      <td>0.047837</td>\n",
       "      <td>0.985878</td>\n",
       "      <td>0.078879</td>\n",
       "      <td>0.977165</td>\n",
       "    </tr>\n",
       "    <tr>\n",
       "      <th>4</th>\n",
       "      <td>0.036548</td>\n",
       "      <td>0.989048</td>\n",
       "      <td>0.046185</td>\n",
       "      <td>0.985747</td>\n",
       "    </tr>\n",
       "  </tbody>\n",
       "</table>\n",
       "</div>"
      ],
      "text/plain": [
       "       loss  accuracy  val_loss  val_accuracy\n",
       "0  0.726651  0.781346  0.261231      0.912835\n",
       "1  0.098315  0.968177  0.069270      0.978774\n",
       "2  0.058484  0.982217  0.137606      0.960345\n",
       "3  0.047837  0.985878  0.078879      0.977165\n",
       "4  0.036548  0.989048  0.046185      0.985747"
      ]
     },
     "execution_count": 14,
     "metadata": {},
     "output_type": "execute_result"
    }
   ],
   "source": [
    "metrics = pd.DataFrame(model.history.history)\n",
    "print(\"The model metrics are\")\n",
    "metrics\n"
   ]
  },
  {
   "cell_type": "code",
   "execution_count": null,
   "id": "5bc41249",
   "metadata": {},
   "outputs": [],
   "source": []
  },
  {
   "cell_type": "code",
   "execution_count": null,
   "id": "ea7dea8f",
   "metadata": {},
   "outputs": [],
   "source": []
  },
  {
   "cell_type": "code",
   "execution_count": null,
   "id": "9c6b5e85",
   "metadata": {},
   "outputs": [],
   "source": []
  },
  {
   "cell_type": "code",
   "execution_count": null,
   "id": "18d775f7",
   "metadata": {},
   "outputs": [],
   "source": []
  },
  {
   "cell_type": "code",
   "execution_count": null,
   "id": "d9321730",
   "metadata": {},
   "outputs": [],
   "source": []
  },
  {
   "cell_type": "code",
   "execution_count": null,
   "id": "ad1f54c9",
   "metadata": {},
   "outputs": [],
   "source": []
  },
  {
   "cell_type": "code",
   "execution_count": null,
   "id": "002a8ee6",
   "metadata": {},
   "outputs": [],
   "source": []
  },
  {
   "cell_type": "code",
   "execution_count": null,
   "id": "b5ae8533",
   "metadata": {},
   "outputs": [],
   "source": []
  },
  {
   "cell_type": "code",
   "execution_count": null,
   "id": "60c517de",
   "metadata": {},
   "outputs": [],
   "source": []
  },
  {
   "cell_type": "code",
   "execution_count": null,
   "id": "7076ce35",
   "metadata": {},
   "outputs": [],
   "source": []
  },
  {
   "cell_type": "code",
   "execution_count": null,
   "id": "87c62087",
   "metadata": {},
   "outputs": [],
   "source": []
  }
 ],
 "metadata": {
  "kernelspec": {
   "display_name": "Python 3 (ipykernel)",
   "language": "python",
   "name": "python3"
  },
  "language_info": {
   "codemirror_mode": {
    "name": "ipython",
    "version": 3
   },
   "file_extension": ".py",
   "mimetype": "text/x-python",
   "name": "python",
   "nbconvert_exporter": "python",
   "pygments_lexer": "ipython3",
   "version": "3.8.10"
  }
 },
 "nbformat": 4,
 "nbformat_minor": 5
}
