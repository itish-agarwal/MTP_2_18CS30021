{
 "cells": [
  {
   "cell_type": "code",
   "execution_count": 21,
   "id": "aca9a924",
   "metadata": {},
   "outputs": [],
   "source": [
    "import numpy as np\n",
    "import matplotlib.pyplot as plt\n",
    "import cv2\n",
    "import os\n",
    "import pandas as pd\n",
    "from skimage.feature import canny\n",
    "from sklearn.preprocessing import LabelEncoder\n",
    "from tensorflow.keras.utils import to_categorical\n",
    "from sklearn.model_selection import train_test_split\n",
    "\n",
    "# import tensorflow and keras\n",
    "import tensorflow as tf\n",
    "from tensorflow import keras\n",
    "import os\n",
    "from keras.datasets import mnist"
   ]
  },
  {
   "cell_type": "code",
   "execution_count": 35,
   "id": "8e3c0593",
   "metadata": {},
   "outputs": [],
   "source": [
    "(x_train, y_train), (x_test, y_test) = mnist.load_data()"
   ]
  },
  {
   "cell_type": "code",
   "execution_count": null,
   "id": "5144b9fc",
   "metadata": {},
   "outputs": [],
   "source": []
  },
  {
   "cell_type": "code",
   "execution_count": 36,
   "id": "cd0c980c",
   "metadata": {},
   "outputs": [],
   "source": [
    "NUM_CLASSES = 10\n",
    "y_train = to_categorical(y_train, NUM_CLASSES)\n",
    "y_test = to_categorical(y_test, NUM_CLASSES)"
   ]
  },
  {
   "cell_type": "code",
   "execution_count": 37,
   "id": "6442f444",
   "metadata": {},
   "outputs": [
    {
     "name": "stdout",
     "output_type": "stream",
     "text": [
      "(60000, 28, 28)\n",
      "(60000, 10)\n",
      "(10000, 28, 28)\n",
      "(10000, 10)\n"
     ]
    }
   ],
   "source": [
    "# print(NUM_CLASSES)\n",
    "print(x_train.shape)\n",
    "print(y_train.shape)\n",
    "print(x_test.shape)\n",
    "print(y_test.shape)"
   ]
  },
  {
   "cell_type": "code",
   "execution_count": null,
   "id": "2c1faf7b",
   "metadata": {},
   "outputs": [],
   "source": []
  },
  {
   "cell_type": "code",
   "execution_count": null,
   "id": "2ef870fa",
   "metadata": {},
   "outputs": [],
   "source": []
  },
  {
   "cell_type": "code",
   "execution_count": 38,
   "id": "c4e5b264",
   "metadata": {},
   "outputs": [
    {
     "name": "stdout",
     "output_type": "stream",
     "text": [
      "Packages imported...\n"
     ]
    }
   ],
   "source": [
    "#MODEL\n",
    "\n",
    "from keras.models import Sequential\n",
    "from keras.layers import Conv2D, MaxPooling2D, Activation, Dense, Flatten, Dropout\n",
    "print(\"Packages imported...\")"
   ]
  },
  {
   "cell_type": "code",
   "execution_count": 40,
   "id": "c54f857b",
   "metadata": {},
   "outputs": [
    {
     "name": "stdout",
     "output_type": "stream",
     "text": [
      "Model: \"sequential_1\"\n",
      "_________________________________________________________________\n",
      " Layer (type)                Output Shape              Param #   \n",
      "=================================================================\n",
      " conv2d (Conv2D)             (None, 28, 28, 64)        1088      \n",
      "                                                                 \n",
      " activation (Activation)     (None, 28, 28, 64)        0         \n",
      "                                                                 \n",
      " conv2d_1 (Conv2D)           (None, 28, 28, 64)        65600     \n",
      "                                                                 \n",
      " activation_1 (Activation)   (None, 28, 28, 64)        0         \n",
      "                                                                 \n",
      " max_pooling2d (MaxPooling2D  (None, 14, 14, 64)       0         \n",
      " )                                                               \n",
      "                                                                 \n",
      " dropout (Dropout)           (None, 14, 14, 64)        0         \n",
      "                                                                 \n",
      " conv2d_2 (Conv2D)           (None, 14, 14, 64)        102464    \n",
      "                                                                 \n",
      " activation_2 (Activation)   (None, 14, 14, 64)        0         \n",
      "                                                                 \n",
      " max_pooling2d_1 (MaxPooling  (None, 7, 7, 64)         0         \n",
      " 2D)                                                             \n",
      "                                                                 \n",
      " dropout_1 (Dropout)         (None, 7, 7, 64)          0         \n",
      "                                                                 \n",
      " flatten (Flatten)           (None, 3136)              0         \n",
      "                                                                 \n",
      " dense (Dense)               (None, 10)                31370     \n",
      "                                                                 \n",
      "=================================================================\n",
      "Total params: 200,522\n",
      "Trainable params: 200,522\n",
      "Non-trainable params: 0\n",
      "_________________________________________________________________\n"
     ]
    }
   ],
   "source": [
    "SIZE = 28\n",
    "model = Sequential()\n",
    "\n",
    "# Convolutional Layer 1\n",
    "model.add(Conv2D(64, kernel_size = 4, padding = 'same', input_shape = (SIZE, SIZE, 1)))\n",
    "model.add(Activation('relu'))\n",
    "\n",
    "# Convolutional Layer 2\n",
    "model.add(Conv2D(64, kernel_size = 4, padding = 'same'))\n",
    "model.add(Activation('relu'))\n",
    "\n",
    "\n",
    "#Max-pooling layer\n",
    "model.add(MaxPooling2D((2, 2)))\n",
    "\n",
    "#Dropout layer\n",
    "model.add(Dropout(0.5))\n",
    "\n",
    "# Convolutional Layer 3\n",
    "model.add(Conv2D(64 , kernel_size = 5, padding = 'same'))\n",
    "model.add(Activation('relu'))\n",
    "\n",
    "# Convolutional Layer 4\n",
    "# model.add(Conv2D(128 , kernel_size = 5, padding = 'same'))\n",
    "# model.add(Activation('relu'))\n",
    "\n",
    "#Max-pooling layer\n",
    "model.add(MaxPooling2D(pool_size = (2, 2)))\n",
    "\n",
    "#Dropout layer\n",
    "model.add(Dropout(0.5))\n",
    "\n",
    "# Convolutional Layer 5\n",
    "# model.add(Conv2D(256 , kernel_size = 5, padding = 'same'))\n",
    "# model.add(Activation('relu'))\n",
    "\n",
    "#Dropout layer\n",
    "# model.add(Dropout(0.5))\n",
    "model.add(Flatten())\n",
    "model.add(Dense(NUM_CLASSES, activation='softmax'))\n",
    "model.summary()"
   ]
  },
  {
   "cell_type": "code",
   "execution_count": 41,
   "id": "fa9f6828",
   "metadata": {},
   "outputs": [
    {
     "name": "stderr",
     "output_type": "stream",
     "text": [
      "/home/sukanya/.local/lib/python3.8/site-packages/keras/optimizer_v2/adam.py:105: UserWarning: The `lr` argument is deprecated, use `learning_rate` instead.\n",
      "  super(Adam, self).__init__(name, **kwargs)\n"
     ]
    }
   ],
   "source": [
    "optimizer = keras.optimizers.Adam(lr=0.001)\n",
    "model.compile(optimizer = optimizer, loss = 'categorical_crossentropy', metrics = ['accuracy'])\n"
   ]
  },
  {
   "cell_type": "code",
   "execution_count": 45,
   "id": "7354cc64",
   "metadata": {},
   "outputs": [
    {
     "name": "stderr",
     "output_type": "stream",
     "text": [
      "2023-04-28 02:04:29.880213: W tensorflow/core/common_runtime/bfc_allocator.cc:462] Allocator (GPU_0_bfc) ran out of memory trying to allocate 35.89MiB (rounded to 37632000)requested by op _EagerConst\n",
      "If the cause is memory fragmentation maybe the environment variable 'TF_GPU_ALLOCATOR=cuda_malloc_async' will improve the situation. \n",
      "Current allocation summary follows.\n",
      "Current allocation summary follows.\n",
      "2023-04-28 02:04:29.880261: I tensorflow/core/common_runtime/bfc_allocator.cc:1010] BFCAllocator dump for GPU_0_bfc\n",
      "2023-04-28 02:04:29.880273: I tensorflow/core/common_runtime/bfc_allocator.cc:1017] Bin (256): \tTotal Chunks: 17, Chunks in use: 17. 4.2KiB allocated for chunks. 4.2KiB in use in bin. 868B client-requested in use in bin.\n",
      "2023-04-28 02:04:29.880280: I tensorflow/core/common_runtime/bfc_allocator.cc:1017] Bin (512): \tTotal Chunks: 0, Chunks in use: 0. 0B allocated for chunks. 0B in use in bin. 0B client-requested in use in bin.\n",
      "2023-04-28 02:04:29.880287: I tensorflow/core/common_runtime/bfc_allocator.cc:1017] Bin (1024): \tTotal Chunks: 1, Chunks in use: 1. 1.2KiB allocated for chunks. 1.2KiB in use in bin. 1.0KiB client-requested in use in bin.\n",
      "2023-04-28 02:04:29.880293: I tensorflow/core/common_runtime/bfc_allocator.cc:1017] Bin (2048): \tTotal Chunks: 0, Chunks in use: 0. 0B allocated for chunks. 0B in use in bin. 0B client-requested in use in bin.\n",
      "2023-04-28 02:04:29.880299: I tensorflow/core/common_runtime/bfc_allocator.cc:1017] Bin (4096): \tTotal Chunks: 2, Chunks in use: 1. 8.8KiB allocated for chunks. 4.0KiB in use in bin. 4.0KiB client-requested in use in bin.\n",
      "2023-04-28 02:04:29.880304: I tensorflow/core/common_runtime/bfc_allocator.cc:1017] Bin (8192): \tTotal Chunks: 0, Chunks in use: 0. 0B allocated for chunks. 0B in use in bin. 0B client-requested in use in bin.\n",
      "2023-04-28 02:04:29.880309: I tensorflow/core/common_runtime/bfc_allocator.cc:1017] Bin (16384): \tTotal Chunks: 0, Chunks in use: 0. 0B allocated for chunks. 0B in use in bin. 0B client-requested in use in bin.\n",
      "2023-04-28 02:04:29.880314: I tensorflow/core/common_runtime/bfc_allocator.cc:1017] Bin (32768): \tTotal Chunks: 0, Chunks in use: 0. 0B allocated for chunks. 0B in use in bin. 0B client-requested in use in bin.\n",
      "2023-04-28 02:04:29.880319: I tensorflow/core/common_runtime/bfc_allocator.cc:1017] Bin (65536): \tTotal Chunks: 0, Chunks in use: 0. 0B allocated for chunks. 0B in use in bin. 0B client-requested in use in bin.\n",
      "2023-04-28 02:04:29.880327: I tensorflow/core/common_runtime/bfc_allocator.cc:1017] Bin (131072): \tTotal Chunks: 2, Chunks in use: 1. 400.0KiB allocated for chunks. 155.0KiB in use in bin. 122.5KiB client-requested in use in bin.\n",
      "2023-04-28 02:04:29.880333: I tensorflow/core/common_runtime/bfc_allocator.cc:1017] Bin (262144): \tTotal Chunks: 2, Chunks in use: 2. 656.0KiB allocated for chunks. 656.0KiB in use in bin. 656.0KiB client-requested in use in bin.\n",
      "2023-04-28 02:04:29.880339: I tensorflow/core/common_runtime/bfc_allocator.cc:1017] Bin (524288): \tTotal Chunks: 1, Chunks in use: 0. 512.0KiB allocated for chunks. 0B in use in bin. 0B client-requested in use in bin.\n",
      "2023-04-28 02:04:29.880344: I tensorflow/core/common_runtime/bfc_allocator.cc:1017] Bin (1048576): \tTotal Chunks: 0, Chunks in use: 0. 0B allocated for chunks. 0B in use in bin. 0B client-requested in use in bin.\n",
      "2023-04-28 02:04:29.880349: I tensorflow/core/common_runtime/bfc_allocator.cc:1017] Bin (2097152): \tTotal Chunks: 0, Chunks in use: 0. 0B allocated for chunks. 0B in use in bin. 0B client-requested in use in bin.\n",
      "2023-04-28 02:04:29.880355: I tensorflow/core/common_runtime/bfc_allocator.cc:1017] Bin (4194304): \tTotal Chunks: 1, Chunks in use: 0. 6.16MiB allocated for chunks. 0B in use in bin. 0B client-requested in use in bin.\n",
      "2023-04-28 02:04:29.880360: I tensorflow/core/common_runtime/bfc_allocator.cc:1017] Bin (8388608): \tTotal Chunks: 0, Chunks in use: 0. 0B allocated for chunks. 0B in use in bin. 0B client-requested in use in bin.\n",
      "2023-04-28 02:04:29.880365: I tensorflow/core/common_runtime/bfc_allocator.cc:1017] Bin (16777216): \tTotal Chunks: 0, Chunks in use: 0. 0B allocated for chunks. 0B in use in bin. 0B client-requested in use in bin.\n",
      "2023-04-28 02:04:29.880375: I tensorflow/core/common_runtime/bfc_allocator.cc:1017] Bin (33554432): \tTotal Chunks: 0, Chunks in use: 0. 0B allocated for chunks. 0B in use in bin. 0B client-requested in use in bin.\n",
      "2023-04-28 02:04:29.880381: I tensorflow/core/common_runtime/bfc_allocator.cc:1017] Bin (67108864): \tTotal Chunks: 0, Chunks in use: 0. 0B allocated for chunks. 0B in use in bin. 0B client-requested in use in bin.\n",
      "2023-04-28 02:04:29.880386: I tensorflow/core/common_runtime/bfc_allocator.cc:1017] Bin (134217728): \tTotal Chunks: 0, Chunks in use: 0. 0B allocated for chunks. 0B in use in bin. 0B client-requested in use in bin.\n",
      "2023-04-28 02:04:29.880391: I tensorflow/core/common_runtime/bfc_allocator.cc:1017] Bin (268435456): \tTotal Chunks: 0, Chunks in use: 0. 0B allocated for chunks. 0B in use in bin. 0B client-requested in use in bin.\n",
      "2023-04-28 02:04:29.880398: I tensorflow/core/common_runtime/bfc_allocator.cc:1033] Bin for 35.89MiB was 32.00MiB, Chunk State: \n",
      "2023-04-28 02:04:29.880402: I tensorflow/core/common_runtime/bfc_allocator.cc:1046] Next region of size 8080896\n",
      "2023-04-28 02:04:29.880412: I tensorflow/core/common_runtime/bfc_allocator.cc:1066] InUse at 7f8592800000 of size 256 next 1\n",
      "2023-04-28 02:04:29.880417: I tensorflow/core/common_runtime/bfc_allocator.cc:1066] InUse at 7f8592800100 of size 1280 next 2\n",
      "2023-04-28 02:04:29.880421: I tensorflow/core/common_runtime/bfc_allocator.cc:1066] InUse at 7f8592800600 of size 256 next 3\n",
      "2023-04-28 02:04:29.880426: I tensorflow/core/common_runtime/bfc_allocator.cc:1066] InUse at 7f8592800700 of size 256 next 4\n",
      "2023-04-28 02:04:29.880430: I tensorflow/core/common_runtime/bfc_allocator.cc:1066] InUse at 7f8592800800 of size 256 next 5\n",
      "2023-04-28 02:04:29.880434: I tensorflow/core/common_runtime/bfc_allocator.cc"
     ]
    },
    {
     "ename": "InternalError",
     "evalue": "Failed copying input tensor from /job:localhost/replica:0/task:0/device:CPU:0 to /job:localhost/replica:0/task:0/device:GPU:0 in order to run _EagerConst: Dst tensor is not initialized.",
     "output_type": "error",
     "traceback": [
      "\u001b[0;31m---------------------------------------------------------------------------\u001b[0m",
      "\u001b[0;31mInternalError\u001b[0m                             Traceback (most recent call last)",
      "Cell \u001b[0;32mIn[45], line 3\u001b[0m\n\u001b[1;32m      1\u001b[0m callback \u001b[38;5;241m=\u001b[39m tf\u001b[38;5;241m.\u001b[39mkeras\u001b[38;5;241m.\u001b[39mcallbacks\u001b[38;5;241m.\u001b[39mEarlyStopping(monitor\u001b[38;5;241m=\u001b[39m\u001b[38;5;124m'\u001b[39m\u001b[38;5;124mloss\u001b[39m\u001b[38;5;124m'\u001b[39m, mode\u001b[38;5;241m=\u001b[39m\u001b[38;5;124m'\u001b[39m\u001b[38;5;124mmin\u001b[39m\u001b[38;5;124m'\u001b[39m, verbose\u001b[38;5;241m=\u001b[39m\u001b[38;5;241m1\u001b[39m)\n\u001b[0;32m----> 3\u001b[0m history \u001b[38;5;241m=\u001b[39m \u001b[43mmodel\u001b[49m\u001b[38;5;241;43m.\u001b[39;49m\u001b[43mfit\u001b[49m\u001b[43m(\u001b[49m\u001b[43mx_train\u001b[49m\u001b[43m,\u001b[49m\u001b[43m \u001b[49m\u001b[43my_train\u001b[49m\u001b[43m,\u001b[49m\u001b[43m \u001b[49m\u001b[43mepochs\u001b[49m\u001b[38;5;241;43m=\u001b[39;49m\u001b[38;5;241;43m25\u001b[39;49m\u001b[43m,\u001b[49m\u001b[43m \u001b[49m\u001b[43mbatch_size\u001b[49m\u001b[38;5;241;43m=\u001b[39;49m\u001b[38;5;241;43m512\u001b[39;49m\u001b[43m,\u001b[49m\u001b[43m \u001b[49m\u001b[43mvalidation_split\u001b[49m\u001b[43m \u001b[49m\u001b[38;5;241;43m=\u001b[39;49m\u001b[43m \u001b[49m\u001b[38;5;241;43m0.2\u001b[39;49m\u001b[43m)\u001b[49m\n",
      "File \u001b[0;32m~/.local/lib/python3.8/site-packages/keras/utils/traceback_utils.py:67\u001b[0m, in \u001b[0;36mfilter_traceback.<locals>.error_handler\u001b[0;34m(*args, **kwargs)\u001b[0m\n\u001b[1;32m     65\u001b[0m \u001b[38;5;28;01mexcept\u001b[39;00m \u001b[38;5;167;01mException\u001b[39;00m \u001b[38;5;28;01mas\u001b[39;00m e:  \u001b[38;5;66;03m# pylint: disable=broad-except\u001b[39;00m\n\u001b[1;32m     66\u001b[0m   filtered_tb \u001b[38;5;241m=\u001b[39m _process_traceback_frames(e\u001b[38;5;241m.\u001b[39m__traceback__)\n\u001b[0;32m---> 67\u001b[0m   \u001b[38;5;28;01mraise\u001b[39;00m e\u001b[38;5;241m.\u001b[39mwith_traceback(filtered_tb) \u001b[38;5;28;01mfrom\u001b[39;00m \u001b[38;5;28mNone\u001b[39m\n\u001b[1;32m     68\u001b[0m \u001b[38;5;28;01mfinally\u001b[39;00m:\n\u001b[1;32m     69\u001b[0m   \u001b[38;5;28;01mdel\u001b[39;00m filtered_tb\n",
      "File \u001b[0;32m~/.local/lib/python3.8/site-packages/tensorflow/python/framework/constant_op.py:102\u001b[0m, in \u001b[0;36mconvert_to_eager_tensor\u001b[0;34m(value, ctx, dtype)\u001b[0m\n\u001b[1;32m    100\u001b[0m     dtype \u001b[38;5;241m=\u001b[39m dtypes\u001b[38;5;241m.\u001b[39mas_dtype(dtype)\u001b[38;5;241m.\u001b[39mas_datatype_enum\n\u001b[1;32m    101\u001b[0m ctx\u001b[38;5;241m.\u001b[39mensure_initialized()\n\u001b[0;32m--> 102\u001b[0m \u001b[38;5;28;01mreturn\u001b[39;00m \u001b[43mops\u001b[49m\u001b[38;5;241;43m.\u001b[39;49m\u001b[43mEagerTensor\u001b[49m\u001b[43m(\u001b[49m\u001b[43mvalue\u001b[49m\u001b[43m,\u001b[49m\u001b[43m \u001b[49m\u001b[43mctx\u001b[49m\u001b[38;5;241;43m.\u001b[39;49m\u001b[43mdevice_name\u001b[49m\u001b[43m,\u001b[49m\u001b[43m \u001b[49m\u001b[43mdtype\u001b[49m\u001b[43m)\u001b[49m\n",
      "\u001b[0;31mInternalError\u001b[0m: Failed copying input tensor from /job:localhost/replica:0/task:0/device:CPU:0 to /job:localhost/replica:0/task:0/device:GPU:0 in order to run _EagerConst: Dst tensor is not initialized."
     ]
    },
    {
     "name": "stderr",
     "output_type": "stream",
     "text": [
      ":1066] InUse at 7f8592800900 of size 256 next 6\n",
      "2023-04-28 02:04:29.880438: I tensorflow/core/common_runtime/bfc_allocator.cc:1066] InUse at 7f8592800a00 of size 256 next 9\n",
      "2023-04-28 02:04:29.880442: I tensorflow/core/common_runtime/bfc_allocator.cc:1066] InUse at 7f8592800b00 of size 256 next 10\n",
      "2023-04-28 02:04:29.880446: I tensorflow/core/common_runtime/bfc_allocator.cc:1066] InUse at 7f8592800c00 of size 256 next 11\n",
      "2023-04-28 02:04:29.880450: I tensorflow/core/common_runtime/bfc_allocator.cc:1066] InUse at 7f8592800d00 of size 256 next 14\n",
      "2023-04-28 02:04:29.880455: I tensorflow/core/common_runtime/bfc_allocator.cc:1066] InUse at 7f8592800e00 of size 256 next 15\n",
      "2023-04-28 02:04:29.880459: I tensorflow/core/common_runtime/bfc_allocator.cc:1066] InUse at 7f8592800f00 of size 256 next 18\n",
      "2023-04-28 02:04:29.880463: I tensorflow/core/common_runtime/bfc_allocator.cc:1066] InUse at 7f8592801000 of size 256 next 19\n",
      "2023-04-28 02:04:29.880467: I tensorflow/core/common_runtime/bfc_allocator.cc:1066] InUse at 7f8592801100 of size 256 next 20\n",
      "2023-04-28 02:04:29.880471: I tensorflow/core/common_runtime/bfc_allocator.cc:1066] InUse at 7f8592801200 of size 256 next 21\n",
      "2023-04-28 02:04:29.880475: I tensorflow/core/common_runtime/bfc_allocator.cc:1066] InUse at 7f8592801300 of size 256 next 22\n",
      "2023-04-28 02:04:29.880479: I tensorflow/core/common_runtime/bfc_allocator.cc:1066] InUse at 7f8592801400 of size 256 next 24\n",
      "2023-04-28 02:04:29.880484: I tensorflow/core/common_runtime/bfc_allocator.cc:1066] InUse at 7f8592801500 of size 256 next 25\n",
      "2023-04-28 02:04:29.880488: I tensorflow/core/common_runtime/bfc_allocator.cc:1066] Free  at 7f8592801600 of size 4864 next 7\n",
      "2023-04-28 02:04:29.880492: I tensorflow/core/common_runtime/bfc_allocator.cc:1066] InUse at 7f8592802900 of size 4096 next 8\n",
      "2023-04-28 02:04:29.880497: I tensorflow/core/common_runtime/bfc_allocator.cc:1066] Free  at 7f8592803900 of size 524288 next 13\n",
      "2023-04-28 02:04:29.880503: I tensorflow/core/common_runtime/bfc_allocator.cc:1066] InUse at 7f8592883900 of size 262144 next 12\n",
      "2023-04-28 02:04:29.880507: I tensorflow/core/common_runtime/bfc_allocator.cc:1066] Free  at 7f85928c3900 of size 250880 next 23\n",
      "2023-04-28 02:04:29.880513: I tensorflow/core/common_runtime/bfc_allocator.cc:1066] InUse at 7f8592900d00 of size 158720 next 17\n",
      "2023-04-28 02:04:29.880517: I tensorflow/core/common_runtime/bfc_allocator.cc:1066] InUse at 7f8592927900 of size 409600 next 16\n",
      "2023-04-28 02:04:29.880522: I tensorflow/core/common_runtime/bfc_allocator.cc:1066] Free  at 7f859298b900 of size 6460672 next 18446744073709551615\n",
      "2023-04-28 02:04:29.880526: I tensorflow/core/common_runtime/bfc_allocator.cc:1071]      Summary of in-use Chunks by size: \n",
      "2023-04-28 02:04:29.880532: I tensorflow/core/common_runtime/bfc_allocator.cc:1074] 17 Chunks of size 256 totalling 4.2KiB\n",
      "2023-04-28 02:04:29.880537: I tensorflow/core/common_runtime/bfc_allocator.cc:1074] 1 Chunks of size 1280 totalling 1.2KiB\n",
      "2023-04-28 02:04:29.880542: I tensorflow/core/common_runtime/bfc_allocator.cc:1074] 1 Chunks of size 4096 totalling 4.0KiB\n",
      "2023-04-28 02:04:29.880547: I tensorflow/core/common_runtime/bfc_allocator.cc:1074] 1 Chunks of size 158720 totalling 155.0KiB\n",
      "2023-04-28 02:04:29.880552: I tensorflow/core/common_runtime/bfc_allocator.cc:1074] 1 Chunks of size 262144 totalling 256.0KiB\n",
      "2023-04-28 02:04:29.880557: I tensorflow/core/common_runtime/bfc_allocator.cc:1074] 1 Chunks of size 409600 totalling 400.0KiB\n",
      "2023-04-28 02:04:29.880562: I tensorflow/core/common_runtime/bfc_allocator.cc:1078] Sum Total of in-use chunks: 820.5KiB\n",
      "2023-04-28 02:04:29.880566: I tensorflow/core/common_runtime/bfc_allocator.cc:1080] total_region_allocated_bytes_: 8080896 memory_limit_: 15204352 available bytes: 7123456 curr_region_allocation_bytes_: 30408704\n",
      "2023-04-28 02:04:29.880575: I tensorflow/core/common_runtime/bfc_allocator.cc:1086] Stats: \n",
      "Limit:                        15204352\n",
      "InUse:                          840192\n",
      "MaxInUse:                      1613568\n",
      "NumAllocs:                          34\n",
      "MaxAllocSize:                   524288\n",
      "Reserved:                            0\n",
      "PeakReserved:                        0\n",
      "LargestFreeBlock:                    0\n",
      "\n",
      "2023-04-28 02:04:29.880582: W tensorflow/core/common_runtime/bfc_allocator.cc:474] *_____****___********_______________________________________________________________________________\n"
     ]
    }
   ],
   "source": [
    "callback = tf.keras.callbacks.EarlyStopping(monitor='loss', mode='min', verbose=1)\n",
    "\n",
    "history = model.fit(x_train, y_train, epochs=25, batch_size=512, validation_split = 0.2)"
   ]
  },
  {
   "cell_type": "code",
   "execution_count": null,
   "id": "eaa91c02",
   "metadata": {},
   "outputs": [],
   "source": []
  },
  {
   "cell_type": "code",
   "execution_count": 9,
   "id": "865f5d0f",
   "metadata": {},
   "outputs": [
    {
     "data": {
      "text/plain": [
       "96.1239906595003"
      ]
     },
     "execution_count": 9,
     "metadata": {},
     "output_type": "execute_result"
    }
   ],
   "source": []
  },
  {
   "cell_type": "code",
   "execution_count": 16,
   "id": "c1861f2f",
   "metadata": {},
   "outputs": [
    {
     "data": {
      "text/plain": [
       "numpy.ndarray"
      ]
     },
     "execution_count": 16,
     "metadata": {},
     "output_type": "execute_result"
    }
   ],
   "source": []
  },
  {
   "cell_type": "code",
   "execution_count": null,
   "id": "dc1ea240",
   "metadata": {},
   "outputs": [],
   "source": []
  },
  {
   "cell_type": "code",
   "execution_count": null,
   "id": "c1eb7d7f",
   "metadata": {},
   "outputs": [],
   "source": []
  },
  {
   "cell_type": "code",
   "execution_count": null,
   "id": "b4902f63",
   "metadata": {},
   "outputs": [],
   "source": []
  },
  {
   "cell_type": "code",
   "execution_count": null,
   "id": "1b4503ed",
   "metadata": {},
   "outputs": [],
   "source": []
  },
  {
   "cell_type": "code",
   "execution_count": null,
   "id": "46e19481",
   "metadata": {},
   "outputs": [],
   "source": []
  },
  {
   "cell_type": "code",
   "execution_count": null,
   "id": "eb5c7a89",
   "metadata": {},
   "outputs": [],
   "source": []
  },
  {
   "cell_type": "code",
   "execution_count": null,
   "id": "f3639c1c",
   "metadata": {},
   "outputs": [],
   "source": []
  },
  {
   "cell_type": "code",
   "execution_count": null,
   "id": "2a7929fd",
   "metadata": {},
   "outputs": [],
   "source": []
  },
  {
   "cell_type": "code",
   "execution_count": null,
   "id": "4aab590e",
   "metadata": {},
   "outputs": [],
   "source": []
  },
  {
   "cell_type": "code",
   "execution_count": null,
   "id": "55765b1f",
   "metadata": {},
   "outputs": [],
   "source": []
  },
  {
   "cell_type": "code",
   "execution_count": null,
   "id": "d8deeb42",
   "metadata": {},
   "outputs": [],
   "source": []
  },
  {
   "cell_type": "code",
   "execution_count": null,
   "id": "b96db7dc",
   "metadata": {},
   "outputs": [],
   "source": []
  },
  {
   "cell_type": "code",
   "execution_count": null,
   "id": "a567d78a",
   "metadata": {},
   "outputs": [],
   "source": []
  }
 ],
 "metadata": {
  "kernelspec": {
   "display_name": "Python 3 (ipykernel)",
   "language": "python",
   "name": "python3"
  },
  "language_info": {
   "codemirror_mode": {
    "name": "ipython",
    "version": 3
   },
   "file_extension": ".py",
   "mimetype": "text/x-python",
   "name": "python",
   "nbconvert_exporter": "python",
   "pygments_lexer": "ipython3",
   "version": "3.8.10"
  }
 },
 "nbformat": 4,
 "nbformat_minor": 5
}
