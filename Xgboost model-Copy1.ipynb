{
 "cells": [
  {
   "cell_type": "code",
   "execution_count": 1,
   "id": "933a4e00",
   "metadata": {},
   "outputs": [],
   "source": [
    "import numpy as np \n",
    "import matplotlib.pyplot as plt\n",
    "import glob\n",
    "import cv2\n",
    "\n",
    "from keras.models import Model, Sequential\n",
    "from keras.layers import Dense, Flatten, Conv2D, MaxPooling2D\n",
    "from tensorflow.keras.layers import BatchNormalization\n",
    "import os\n",
    "import seaborn as sns\n",
    "from keras.applications.vgg16 import VGG16\n"
   ]
  },
  {
   "cell_type": "code",
   "execution_count": 2,
   "id": "60e58d14",
   "metadata": {},
   "outputs": [
    {
     "name": "stdout",
     "output_type": "stream",
     "text": [
      "['asl_alphabet_train', 'asl_alphabet_test']\n"
     ]
    }
   ],
   "source": []
  },
  {
   "cell_type": "code",
   "execution_count": 2,
   "id": "9cc94142",
   "metadata": {},
   "outputs": [],
   "source": [
    "SIZE = 96  #Resize images"
   ]
  },
  {
   "cell_type": "code",
   "execution_count": 2,
   "id": "4354aea4",
   "metadata": {},
   "outputs": [
    {
     "name": "stdout",
     "output_type": "stream",
     "text": [
      "0 A\n",
      "1 B\n",
      "2 C\n",
      "3 D\n",
      "4 E\n",
      "5 F\n",
      "6 G\n",
      "7 H\n",
      "8 I\n",
      "9 J\n",
      "10 K\n",
      "11 L\n",
      "12 M\n",
      "13 N\n",
      "14 O\n",
      "15 P\n",
      "16 Q\n",
      "17 R\n",
      "18 S\n",
      "19 T\n",
      "20 U\n",
      "21 V\n",
      "22 W\n",
      "23 X\n",
      "24 Y\n",
      "25 Z\n",
      "25 del\n",
      "25 nothing\n",
      "25 space\n",
      "Images successfully imported...\n"
     ]
    }
   ],
   "source": [
    "from IPython.lib.display import join\n",
    "batch_size = 64\n",
    "imageSize = 96\n",
    "target_dims = (imageSize, imageSize, 3)\n",
    "num_classes = 29\n",
    "\n",
    "# /mnt/5cd1329d-6ad0-4c91-904e-ba21c872357b/Sukanya/Vaishnavi_Munghate_2023/asl_alphabet/asl_alphabet_train/asl_alphabet_train\n",
    "\n",
    "train_len = 0\n",
    "train_dir = r\"../Vaishnavi_Munghate_2023/asl_alphabet/asl_alphabet_train/asl_alphabet_train\"\n",
    "\n",
    "total = 0\n",
    "for folder in os.listdir(train_dir):\n",
    "    for img in os.listdir(train_dir + \"/\" + folder):\n",
    "        train_len += 1\n",
    "train_len\n",
    "\n",
    "len = 26\n",
    "S = \"ABCDEFGHIJKLMNOPQRSTUVWXYZ\"\n",
    "map = {}\n",
    "\n",
    "for j in range(len):\n",
    "  map[S[j:j+1]] = join\n",
    "\n",
    "t_lower = 50\n",
    "t_upper = 150\n",
    "\n",
    "def get_data(folder):\n",
    "    x = []\n",
    "    y = []\n",
    "    cnt, label = 0, 0\n",
    "    for folderName in sorted(os.listdir(folder)):\n",
    "        s = str(folderName)\n",
    "        for j in range(len):\n",
    "          if S[j] == s:\n",
    "            label = j\n",
    "        \n",
    "        print(label, folderName)\n",
    "\n",
    "        for image_filename in os.listdir(folder + '/' + folderName):\n",
    "            image_path = folder + '/' + folderName + '/' + image_filename\n",
    "            img_file = cv2.imdecode(np.fromfile(image_path, dtype=np.uint8), cv2.IMREAD_UNCHANGED)\n",
    "            if img_file is not None:\n",
    "                img_file = cv2.resize(img_file, (imageSize, imageSize))\n",
    "#                 img_file = cv2.cvtColor(img_file, cv2.COLOR_BGR2GRAY)\n",
    "                # img_file = skimage.transform.resize(img_file, (imageSize, imageSize, 3))\n",
    "                # img_arr = np.asarray(img_file).reshape((-1, imageSize, imageSize, 3))\n",
    "                # edge = cv2.Canny(img_file, t_lower, t_upper)\n",
    "                x.append(img_file)\n",
    "                y.append(label)\n",
    "                cnt += 1\n",
    "\n",
    "    return x,y\n",
    "\n",
    "X, Y = get_data(train_dir)\n",
    "\n",
    "print(\"Images successfully imported...\")"
   ]
  },
  {
   "cell_type": "code",
   "execution_count": 1,
   "id": "eec9c9ca",
   "metadata": {},
   "outputs": [
    {
     "ename": "NameError",
     "evalue": "name 'np' is not defined",
     "output_type": "error",
     "traceback": [
      "\u001b[0;31m---------------------------------------------------------------------------\u001b[0m",
      "\u001b[0;31mNameError\u001b[0m                                 Traceback (most recent call last)",
      "Cell \u001b[0;32mIn[1], line 1\u001b[0m\n\u001b[0;32m----> 1\u001b[0m X \u001b[38;5;241m=\u001b[39m \u001b[43mnp\u001b[49m\u001b[38;5;241m.\u001b[39marray(X)\n\u001b[1;32m      2\u001b[0m Y \u001b[38;5;241m=\u001b[39m np\u001b[38;5;241m.\u001b[39marray(Y)\n\u001b[1;32m      4\u001b[0m \u001b[38;5;28;01mfrom\u001b[39;00m \u001b[38;5;21;01msklearn\u001b[39;00m\u001b[38;5;21;01m.\u001b[39;00m\u001b[38;5;21;01mmodel_selection\u001b[39;00m \u001b[38;5;28;01mimport\u001b[39;00m train_test_split\n",
      "\u001b[0;31mNameError\u001b[0m: name 'np' is not defined"
     ]
    }
   ],
   "source": [
    "X = np.array(X)\n",
    "Y = np.array(Y)\n",
    "\n",
    "from sklearn.model_selection import train_test_split\n",
    "x_train, x_test, y_train, y_test = train_test_split(X, Y, test_size = 0.25, stratify = Y)\n",
    "\n",
    "print(\"Shape of x_train : \", x_train.shape)\n",
    "print(\"Shape of y_train : \", y_train.shape)\n",
    "print(\"Shape of x_test : \", x_test.shape)\n",
    "print(\"Shape of y_test : \", y_test.shape)"
   ]
  },
  {
   "cell_type": "code",
   "execution_count": 13,
   "id": "d491241b",
   "metadata": {},
   "outputs": [
    {
     "name": "stdout",
     "output_type": "stream",
     "text": [
      "Shape of x_train :  (6525, 96, 96, 3)\n",
      "Shape of y_train :  (6525,)\n",
      "Shape of x_test :  (725, 96, 96, 3)\n",
      "Shape of y_test :  (725,)\n"
     ]
    }
   ],
   "source": []
  },
  {
   "cell_type": "code",
   "execution_count": 4,
   "id": "944c9012",
   "metadata": {},
   "outputs": [],
   "source": [
    "# Normalize pixel values to between 0 and 1\n",
    "x_train, x_test = x_train / 255.0, x_test / 255.0"
   ]
  },
  {
   "cell_type": "code",
   "execution_count": 8,
   "id": "6b05d415",
   "metadata": {},
   "outputs": [
    {
     "name": "stderr",
     "output_type": "stream",
     "text": [
      "2023-04-27 09:13:08.580141: I tensorflow/stream_executor/cuda/cuda_driver.cc:739] failed to allocate 5.53M (5796608 bytes) from device: CUDA_ERROR_OUT_OF_MEMORY: out of memory\n",
      "2023-04-27 09:13:08.596102: I tensorflow/stream_executor/cuda/cuda_driver.cc:739] failed to allocate 5.53M (5796608 bytes) from device: CUDA_ERROR_OUT_OF_MEMORY: out of memory\n",
      "2023-04-27 09:13:18.600711: I tensorflow/stream_executor/cuda/cuda_driver.cc:739] failed to allocate 5.53M (5796608 bytes) from device: CUDA_ERROR_OUT_OF_MEMORY: out of memory\n",
      "2023-04-27 09:13:18.604239: I tensorflow/stream_executor/cuda/cuda_driver.cc:739] failed to allocate 5.53M (5796608 bytes) from device: CUDA_ERROR_OUT_OF_MEMORY: out of memory\n",
      "2023-04-27 09:13:18.604296: W tensorflow/core/common_runtime/bfc_allocator.cc:462] Allocator (GPU_0_bfc) ran out of memory trying to allocate 576.0KiB (rounded to 589824)requested by op Mul\n",
      "If the cause is memory fragmentation maybe the environment variable 'TF_GPU_ALLOCATOR=cuda_malloc_async' will improve the situation. \n",
      "Current allocation summary follows.\n",
      "Current allocation summary follows.\n",
      "2023-04-27 09:13:18.604315: I tensorflow/core/common_runtime/bfc_allocator.cc:1010] BFCAllocator dump for GPU_0_bfc\n",
      "2023-04-27 09:13:18.604324: I tensorflow/core/common_runtime/bfc_allocator.cc:1017] Bin (256): \tTotal Chunks: 21, Chunks in use: 21. 5.2KiB allocated for chunks. 5.2KiB in use in bin. 1.6KiB client-requested in use in bin.\n",
      "2023-04-27 09:13:18.604330: I tensorflow/core/common_runtime/bfc_allocator.cc:1017] Bin (512): \tTotal Chunks: 5, Chunks in use: 5. 2.5KiB allocated for chunks. 2.5KiB in use in bin. 2.5KiB client-requested in use in bin.\n",
      "2023-04-27 09:13:18.604336: I tensorflow/core/common_runtime/bfc_allocator.cc:1017] Bin (1024): \tTotal Chunks: 2, Chunks in use: 2. 2.2KiB allocated for chunks. 2.2KiB in use in bin. 2.0KiB client-requested in use in bin.\n",
      "2023-04-27 09:13:18.604341: I tensorflow/core/common_runtime/bfc_allocator.cc:1017] Bin (2048): \tTotal Chunks: 0, Chunks in use: 0. 0B allocated for chunks. 0B in use in bin. 0B client-requested in use in bin.\n",
      "2023-04-27 09:13:18.604347: I tensorflow/core/common_runtime/bfc_allocator.cc:1017] Bin (4096): \tTotal Chunks: 5, Chunks in use: 3. 31.2KiB allocated for chunks. 20.2KiB in use in bin. 20.2KiB client-requested in use in bin.\n",
      "2023-04-27 09:13:18.604352: I tensorflow/core/common_runtime/bfc_allocator.cc:1017] Bin (8192): \tTotal Chunks: 1, Chunks in use: 0. 8.2KiB allocated for chunks. 0B in use in bin. 0B client-requested in use in bin.\n",
      "2023-04-27 09:13:18.604356: I tensorflow/core/common_runtime/bfc_allocator.cc:1017] Bin (16384): \tTotal Chunks: 0, Chunks in use: 0. 0B allocated for chunks. 0B in use in bin. 0B client-requested in use in bin.\n",
      "2023-04-27 09:13:18.604361: I tensorflow/core/common_runtime/bfc_allocator.cc:1017] Bin (32768): \tTotal Chunks: 0, Chunks in use: 0. 0B allocated for chunks. 0B in use in bin. 0B client-requested in use in bin.\n",
      "2023-04-27 09:13:18.604366: I tensorflow/core/common_runtime/bfc_allocator.cc:1017] Bin (65536): \tTotal Chunks: 0, Chunks in use: 0. 0B allocated for chunks. 0B in use in bin. 0B client-requested in use in bin.\n",
      "2023-04-27 09:13:18.604372: I tensorflow/core/common_runtime/bfc_allocator.cc:1017] Bin (131072): \tTotal Chunks: 5, Chunks in use: 3. 706.5KiB allocated for chunks. 432.0KiB in use in bin. 432.0KiB client-requested in use in bin.\n",
      "2023-04-27 09:13:18.604378: I tensorflow/core/common_runtime/bfc_allocator.cc:1017] Bin (262144): \tTotal Chunks: 5, Chunks in use: 3. 1.39MiB allocated for chunks. 864.0KiB in use in bin. 864.0KiB client-requested in use in bin.\n",
      "2023-04-27 09:13:18.604383: I tensorflow/core/common_runtime/bfc_allocator.cc:1017] Bin (524288): \tTotal Chunks: 3, Chunks in use: 3. 1.69MiB allocated for chunks. 1.69MiB in use in bin. 1.69MiB client-requested in use in bin.\n",
      "2023-04-27 09:13:18.604389: I tensorflow/core/common_runtime/bfc_allocator.cc:1017] Bin (1048576): \tTotal Chunks: 1, Chunks in use: 1. 1.12MiB allocated for chunks. 1.12MiB in use in bin. 1.12MiB client-requested in use in bin.\n",
      "2023-04-27 09:13:18.604395: I tensorflow/core/common_runtime/bfc_allocator.cc:1017] Bin (2097152): \tTotal Chunks: 1, Chunks in use: 1. 3.03MiB allocated for chunks. 3.03MiB in use in bin. 2.25MiB client-requested in use in bin.\n",
      "2023-04-27 09:13:18.604400: I tensorflow/core/common_runtime/bfc_allocator.cc:1017] Bin (4194304): \tTotal Chunks: 0, Chunks in use: 0. 0B allocated for chunks. 0B in use in bin. 0B client-requested in use in bin.\n",
      "2023-04-27 09:13:18.604405: I tensorflow/core/common_runtime/bfc_allocator.cc:1017] Bin (8388608): \tTotal Chunks: 0, Chunks in use: 0. 0B allocated for chunks. 0B in use in bin. 0B client-requested in use in bin.\n",
      "2023-04-27 09:13:18.604409: I tensorflow/core/common_runtime/bfc_allocator.cc:1017] Bin (16777216): \tTotal Chunks: 0, Chunks in use: 0. 0B allocated for chunks. 0B in use in bin. 0B client-requested in use in bin.\n",
      "2023-04-27 09:13:18.604414: I tensorflow/core/common_runtime/bfc_allocator.cc:1017] Bin (33554432): \tTotal Chunks: 0, Chunks in use: 0. 0B allocated for chunks. 0B in use in bin. 0B client-requested in use in bin.\n",
      "2023-04-27 09:13:18.604418: I tensorflow/core/common_runtime/bfc_allocator.cc:1017] Bin (67108864): \tTotal Chunks: 0, Chunks in use: 0. 0B allocated for chunks. 0B in use in bin. 0B client-requested in use in bin.\n",
      "2023-04-27 09:13:18.604423: I tensorflow/core/common_runtime/bfc_allocator.cc:1017] Bin (134217728): \tTotal Chunks: 0, Chunks in use: 0. 0B allocated for chunks. 0B in use in bin. 0B client-requested in use in bin.\n",
      "2023-04-27 09:13:18.604442: I tensorflow/core/common_runtime/bfc_allocator.cc:1017] Bin (268435456): \tTotal Chunks: 0, Chunks in use: 0. 0B allocated for chunks. 0B in use in bin. 0B client-requested in use in bin.\n",
      "2023-04-27 09:13:18.604449: I tensorflow/core/common_runtime/bfc_allocator.cc:1033] Bin for 576.0KiB was 512.0KiB, Chunk State: \n",
      "2023-04-27 09:13:18.604454: I tensorflow/core/common_runtime/bfc_allocator.cc:1046] Next region of size 8359168\n",
      "2023-04-27 09:13:18.604466: I tensorflow/core/common_runtime/bfc_allocator.cc:1066] InUse at 7f5a56800000 of size 1280 next 1\n",
      "2023-04-27 09:13:18.604471: I tensorflow/core/common_runtime/bfc_allocator.cc:1066] InUse at 7f5a56800500 of size 256 next 2\n",
      "2023-04-27 09:13:18.604474: I tensorflow/core/common_runtime/bfc_allocator.cc:1066] InUse at 7f5a56800600 of size 256 next 3\n",
      "2023-04-27 09:13:18.604487: I tensorflow/core/common_runtime/bfc_allocator.cc:1066] InUse at 7f5a56800700 of size 256 next 4\n",
      "2023-04-27 09:13:18.604491: I tensorflow/core/common_runtime/bfc_allocator.cc:1066] InUse at 7f5a56800800 of size 256 next 5\n",
      "2023-04-27 09:13:18.604495: I tensorflow/core/common_runtime/bfc_allocator.cc:1066] InUse at 7f5a56800900 of size 256 next 8\n",
      "2023-04-27 09:13:18.604499: I tensorflow/core/common_runtime/bfc_allocator.cc:1066] InUse at 7f5a56800a00 of size 256 next 9\n",
      "2023-04-27 09:13:18.604503: I tensorflow/core/common_runtime/bfc_allocator.cc:1066] InUse at 7f5a56800b00 of size 256 next 10\n",
      "2023-04-27 09:13:18.604507: I tensorflow/core/common_runtime/bfc_allocator.cc:1066] InUse at 7f5a56800c00 of size 256 next 13\n",
      "2023-04-27 09:13:18.604511: I tensorflow/core/common_runtime/bfc_allocator.cc:1066] InUse at 7f5a56800d00 of size 256 next 14\n",
      "2023-04-27 09:13:18.604515: I tensorflow/core/common_runtime/bfc_allocator.cc:1066] InUse at 7f5a56800e00 of size 512 next 17\n",
      "2023-04-27 09:13:18.604520: I tensorflow/core/common_runtime/bfc_allocator.cc:1066] InUse at 7f5a56801000 of size 256 next 18\n",
      "2023-04-27 09:13:18.604523: I tensorflow/core/common_runtime/bfc_allocator.cc:1066] InUse at 7f5a56801100 of size 256 next 19\n",
      "2023-04-27 09:13:18.604527: I tensorflow/core/common_runtime/bfc_allocator.cc:1066] InUse at 7f5a56801200 of size 512 next 20\n",
      "2023-04-27 09:13:18.604531: I tensorflow/core/common_runtime/bfc_allocator.cc:1066] InUse at 7f5a56801400 of size 256 next 23\n",
      "2023-04-27 09:13:18.604535: I tensorflow/core/common_runtime/bfc_allocator.cc:1066] InUse at 7f5a56801500 of size 256 next 24\n",
      "2023-04-27 09:13:18.604539: I tensorflow/core/common_runtime/bfc_allocator.cc:1066] InUse at 7f5a56801600 of size 1024 next 27\n",
      "2023-04-27 09:13:18.604543: I tensorflow/core/common_runtime/bfc_allocator.cc:1066] InUse at 7f5a56801a00 of size 256 next 28\n",
      "2023-04-27 09:13:18.604547: I tensorflow/core/common_runtime/bfc_allocator.cc:1066] InUse at 7f5a56801b00 of size 256 next 29\n",
      "2023-04-27 09:13:18.604551: I tensorflow/core/common_runtime/bfc_allocator.cc:1066] InUse at 7f5a56801c00 of size 256 next 30\n",
      "2023-04-27 09:13:18.604555: I tensorflow/core/common_runtime/bfc_allocator.cc:1066] Free  at 7f5a56801d00 of size 8448 next 6\n",
      "2023-04-27 09:13:18.604560: I tensorflow/core/common_runtime/bfc_allocator.cc:1066] InUse at 7f5a56803e00 of size 6912 next 7\n",
      "2023-04-27 09:13:18.604564: I tensorflow/core/common_runtime/bfc_allocator.cc:1066] InUse at 7f5a56805900 of size 256 next 31\n",
      "2023-04-27 09:13:18.604568: I tensorflow/core/common_runtime/bfc_allocator.cc:1066] InUse at 7f5a56805a00 of size 256 next 34\n",
      "2023-04-27 09:13:18.604572: I tensorflow/core/common_runtime/bfc_allocator.cc:1066] InUse at 7f5a56805b00 of size 512 next 36\n",
      "2023-04-27 09:13:18.604576: I tensorflow/core/common_runtime/bfc_allocator.cc:1066] InUse at 7f5a56805d00 of size 512 next 39\n",
      "2023-04-27 09:13:18.604580: I tensorflow/core/common_runtime/bfc_allocator.cc:1066] InUse at 7f5a56805f00 of size 256 next 43\n",
      "2023-04-27 09:13:18.604583: I tensorflow/core/common_runtime/bfc_allocator.cc:1066] InUse at 7f5a56806000 of size 256 next 44\n",
      "2023-04-27 09:13:18.604587: I tensorflow/core/common_runtime/bfc_allocator.cc:1066] InUse at 7f5a56806100 of size 512 next 46\n",
      "2023-04-27 09:13:18.604591: I tensorflow/core/common_runtime/bfc_allocator.cc:1066] InUse at 7f5a56806300 of size 256 next 48\n",
      "2023-04-27 09:13:18.604594: I tensorflow/core/common_runtime/bfc_allocator.cc:1066] Free  at 7f5a56806400 of size 4352 next 32\n",
      "2023-04-27 09:13:18.604598: I tensorflow/core/common_runtime/bfc_allocator.cc:1066] InUse at 7f5a56807500 of size 6912 next 33\n",
      "2023-04-27 09:13:18.604602: I tensorflow/core/common_runtime/bfc_allocator.cc:1066] Free  at 7f5a56809000 of size 280832 next 12\n",
      "2023-04-27 09:13:18.604605: I tensorflow/core/common_runtime/bfc_allocator.cc:1066] InUse at 7f5a5684d900 of size 147456 next 11\n",
      "2023-04-27 09:13:18.604609: I tensorflow/core/common_runtime/bfc_allocator.cc:1066] Free  at 7f5a56871900 of size 6912 next 42\n",
      "2023-04-27 09:13:18.604613: I tensorflow/core/common_runtime/bfc_allocator.cc:1066] InUse at 7f5a56873400 of size 6912 next 41\n",
      "2023-04-27 09:13:18.604616: I tensorflow/core/common_runtime/bfc_allocator.cc:1066] Free  at 7f5a56874f00 of size 133632 next 35\n",
      "2023-04-27 09:13:18.604620: I tensorflow/core/common_runtime/bfc_allocator.cc:1066] InUse at 7f5a56895900 of size 147456 next 16\n",
      "2023-04-27 09:13:18.604624: I tensorflow/core/common_runtime/bfc_allocator.cc:1066] InUse at 7f5a568b9900 of size 294912 next 15\n",
      "2023-04-27 09:13:18.604628: I tensorflow/core/common_runtime/bfc_allocator.cc:1066] InUse at 7f5a56901900 of size 589824 next 38\n",
      "2023-04-27 09:13:18.604632: I tensorflow/core/common_runtime/bfc_allocator.cc:1066] InUse at 7f5a56991900 of size 294912 next 37\n",
      "2023-04-27 09:13:18.604636: I tensorflow/core/common_runtime/bfc_allocator.cc:1066] Free  at 7f5a569d9900 of size 147456 next 45\n",
      "2023-04-27 09:13:18.604640: I tensorflow/core/common_runtime/bfc_allocator.cc:1066] InUse at 7f5a569fd900 of size 147456 next 22\n",
      "2023-04-27 09:13:18.604644: I tensorflow/core/common_runtime/bfc_allocator.cc:1066] InUse at 7f5a56a21900 of size 589824 next 21\n",
      "2023-04-27 09:13:18.604648: I tensorflow/core/common_runtime/bfc_allocator.cc:1066] InUse at 7f5a56ab1900 of size 294912 next 47\n",
      "2023-04-27 09:13:18.604652: I tensorflow/core/common_runtime/bfc_allocator.cc:1066] Free  at 7f5a56af9900 of size 294912 next 40\n",
      "2023-04-27 09:13:18.604656: I tensorflow/core/common_runtime/bfc_allocator.cc:1066] InUse at 7f5a56b41900 of size 589824 next 26\n",
      "2023-04-27 09:13:18.604660: I tensorflow/core/common_runtime/bfc_allocator.cc:1066] InUse at 7f5a56bd1900 of size 1179648 next 25\n",
      "2023-04-27 09:13:18.604664: I tensorflow/core/common_runtime/bfc_allocator.cc:1066] InUse at 7f5a56cf1900 of size 3175424 next 18446744073709551615\n",
      "2023-04-27 09:13:18.604668: I tensorflow/core/common_runtime/bfc_allocator.cc:1071]      Summary of in-use Chunks by size: \n",
      "2023-04-27 09:13:18.604674: I tensorflow/core/common_runtime/bfc_allocator.cc:1074] 21 Chunks of size 256 totalling 5.2KiB\n",
      "2023-04-27 09:13:18.604680: I tensorflow/core/common_runtime/bfc_allocator.cc:1074] 5 Chunks of size 512 totalling 2.5KiB\n",
      "2023-04-27 09:13:18.604685: I tensorflow/core/common_runtime/bfc_allocator.cc:1074] 1 Chunks of size 1024 totalling 1.0KiB\n",
      "2023-04-27 09:13:18.604689: I tensorflow/core/common_runtime/bfc_allocator.cc:1074] 1 Chunks of size 1280 totalling 1.2KiB\n",
      "2023-04-27 09:13:18.604694: I tensorflow/core/common_runtime/bfc_allocator.cc:1074] 3 Chunks of size 6912 totalling 20.2KiB\n",
      "2023-04-27 09:13:18.604698: I tensorflow/core/common_runtime/bfc_allocator.cc:1074] 3 Chunks of size 147456 totalling 432.0KiB\n",
      "2023-04-27 09:13:18.604703: I tensorflow/core/common_runtime/bfc_allocator.cc:1074] 3 Chunks of size 294912 totalling 864.0KiB\n",
      "2023-04-27 09:13:18.604708: I tensorflow/core/common_runtime/bfc_allocator.cc:1074] 3 Chunks of size 589824 totalling 1.69MiB\n",
      "2023-04-27 09:13:18.604712: I tensorflow/core/common_runtime/bfc_allocator.cc:1074] 1 Chunks of size 1179648 totalling 1.12MiB\n",
      "2023-04-27 09:13:18.604717: I tensorflow/core/common_runtime/bfc_allocator.cc:1074] 1 Chunks of size 3175424 totalling 3.03MiB\n",
      "2023-04-27 09:13:18.604721: I tensorflow/core/common_runtime/bfc_allocator.cc:1078] Sum Total of in-use chunks: 7.14MiB\n",
      "2023-04-27 09:13:18.604725: I tensorflow/core/common_runtime/bfc_allocator.cc:1080] total_region_allocated_bytes_: 8359168 memory_limit_: 14155776 available bytes: 5796608 curr_region_allocation_bytes_: 28311552\n",
      "2023-04-27 09:13:18.604735: I tensorflow/core/common_runtime/bfc_allocator.cc:1086] Stats: \n",
      "Limit:                        14155776\n",
      "InUse:                         7482624\n",
      "MaxInUse:                      7621376\n",
      "NumAllocs:                          78\n",
      "MaxAllocSize:                  3175424\n",
      "Reserved:                            0\n",
      "PeakReserved:                        0\n",
      "LargestFreeBlock:                    0\n",
      "\n",
      "2023-04-27 09:13:18.604742: W tensorflow/core/common_runtime/bfc_allocator.cc:474] *__***_*******************************__***************************************************xxxxxxxxx\n",
      "2023-04-27 09:13:18.604762: W tensorflow/core/framework/op_kernel.cc:1733] RESOURCE_EXHAUSTED: failed to allocate memory\n"
     ]
    },
    {
     "ename": "ResourceExhaustedError",
     "evalue": "failed to allocate memory [Op:Mul]",
     "output_type": "error",
     "traceback": [
      "\u001b[0;31m---------------------------------------------------------------------------\u001b[0m",
      "\u001b[0;31mResourceExhaustedError\u001b[0m                    Traceback (most recent call last)",
      "Cell \u001b[0;32mIn[8], line 2\u001b[0m\n\u001b[1;32m      1\u001b[0m \u001b[38;5;66;03m#Load model wothout classifier/fully connected layers\u001b[39;00m\n\u001b[0;32m----> 2\u001b[0m VGG_model \u001b[38;5;241m=\u001b[39m \u001b[43mVGG16\u001b[49m\u001b[43m(\u001b[49m\u001b[43minclude_top\u001b[49m\u001b[38;5;241;43m=\u001b[39;49m\u001b[38;5;28;43;01mFalse\u001b[39;49;00m\u001b[43m,\u001b[49m\u001b[43m \u001b[49m\u001b[43mweights\u001b[49m\u001b[43m \u001b[49m\u001b[38;5;241;43m=\u001b[39;49m\u001b[43m \u001b[49m\u001b[38;5;28;43;01mNone\u001b[39;49;00m\u001b[43m,\u001b[49m\u001b[43m \u001b[49m\u001b[43minput_shape\u001b[49m\u001b[38;5;241;43m=\u001b[39;49m\u001b[43m(\u001b[49m\u001b[43mimageSize\u001b[49m\u001b[43m,\u001b[49m\u001b[43m \u001b[49m\u001b[43mimageSize\u001b[49m\u001b[43m,\u001b[49m\u001b[43m \u001b[49m\u001b[38;5;241;43m3\u001b[39;49m\u001b[43m)\u001b[49m\u001b[43m)\u001b[49m\n\u001b[1;32m      3\u001b[0m \u001b[38;5;66;03m# vgg = vgg16.VGG16(include_top=False, weights=None, input_shape=(IMG_SIZE, IMG_SIZE, 1))\u001b[39;00m\n",
      "File \u001b[0;32m~/.local/lib/python3.8/site-packages/keras/applications/vgg16.py:154\u001b[0m, in \u001b[0;36mVGG16\u001b[0;34m(include_top, weights, input_tensor, input_shape, pooling, classes, classifier_activation)\u001b[0m\n\u001b[1;32m    151\u001b[0m \u001b[38;5;66;03m# Block 2\u001b[39;00m\n\u001b[1;32m    152\u001b[0m x \u001b[38;5;241m=\u001b[39m layers\u001b[38;5;241m.\u001b[39mConv2D(\n\u001b[1;32m    153\u001b[0m     \u001b[38;5;241m128\u001b[39m, (\u001b[38;5;241m3\u001b[39m, \u001b[38;5;241m3\u001b[39m), activation\u001b[38;5;241m=\u001b[39m\u001b[38;5;124m'\u001b[39m\u001b[38;5;124mrelu\u001b[39m\u001b[38;5;124m'\u001b[39m, padding\u001b[38;5;241m=\u001b[39m\u001b[38;5;124m'\u001b[39m\u001b[38;5;124msame\u001b[39m\u001b[38;5;124m'\u001b[39m, name\u001b[38;5;241m=\u001b[39m\u001b[38;5;124m'\u001b[39m\u001b[38;5;124mblock2_conv1\u001b[39m\u001b[38;5;124m'\u001b[39m)(x)\n\u001b[0;32m--> 154\u001b[0m x \u001b[38;5;241m=\u001b[39m \u001b[43mlayers\u001b[49m\u001b[38;5;241;43m.\u001b[39;49m\u001b[43mConv2D\u001b[49m\u001b[43m(\u001b[49m\n\u001b[1;32m    155\u001b[0m \u001b[43m    \u001b[49m\u001b[38;5;241;43m128\u001b[39;49m\u001b[43m,\u001b[49m\u001b[43m \u001b[49m\u001b[43m(\u001b[49m\u001b[38;5;241;43m3\u001b[39;49m\u001b[43m,\u001b[49m\u001b[43m \u001b[49m\u001b[38;5;241;43m3\u001b[39;49m\u001b[43m)\u001b[49m\u001b[43m,\u001b[49m\u001b[43m \u001b[49m\u001b[43mactivation\u001b[49m\u001b[38;5;241;43m=\u001b[39;49m\u001b[38;5;124;43m'\u001b[39;49m\u001b[38;5;124;43mrelu\u001b[39;49m\u001b[38;5;124;43m'\u001b[39;49m\u001b[43m,\u001b[49m\u001b[43m \u001b[49m\u001b[43mpadding\u001b[49m\u001b[38;5;241;43m=\u001b[39;49m\u001b[38;5;124;43m'\u001b[39;49m\u001b[38;5;124;43msame\u001b[39;49m\u001b[38;5;124;43m'\u001b[39;49m\u001b[43m,\u001b[49m\u001b[43m \u001b[49m\u001b[43mname\u001b[49m\u001b[38;5;241;43m=\u001b[39;49m\u001b[38;5;124;43m'\u001b[39;49m\u001b[38;5;124;43mblock2_conv2\u001b[39;49m\u001b[38;5;124;43m'\u001b[39;49m\u001b[43m)\u001b[49m\u001b[43m(\u001b[49m\u001b[43mx\u001b[49m\u001b[43m)\u001b[49m\n\u001b[1;32m    156\u001b[0m x \u001b[38;5;241m=\u001b[39m layers\u001b[38;5;241m.\u001b[39mMaxPooling2D((\u001b[38;5;241m2\u001b[39m, \u001b[38;5;241m2\u001b[39m), strides\u001b[38;5;241m=\u001b[39m(\u001b[38;5;241m2\u001b[39m, \u001b[38;5;241m2\u001b[39m), name\u001b[38;5;241m=\u001b[39m\u001b[38;5;124m'\u001b[39m\u001b[38;5;124mblock2_pool\u001b[39m\u001b[38;5;124m'\u001b[39m)(x)\n\u001b[1;32m    158\u001b[0m \u001b[38;5;66;03m# Block 3\u001b[39;00m\n",
      "File \u001b[0;32m~/.local/lib/python3.8/site-packages/keras/utils/traceback_utils.py:67\u001b[0m, in \u001b[0;36mfilter_traceback.<locals>.error_handler\u001b[0;34m(*args, **kwargs)\u001b[0m\n\u001b[1;32m     65\u001b[0m \u001b[38;5;28;01mexcept\u001b[39;00m \u001b[38;5;167;01mException\u001b[39;00m \u001b[38;5;28;01mas\u001b[39;00m e:  \u001b[38;5;66;03m# pylint: disable=broad-except\u001b[39;00m\n\u001b[1;32m     66\u001b[0m   filtered_tb \u001b[38;5;241m=\u001b[39m _process_traceback_frames(e\u001b[38;5;241m.\u001b[39m__traceback__)\n\u001b[0;32m---> 67\u001b[0m   \u001b[38;5;28;01mraise\u001b[39;00m e\u001b[38;5;241m.\u001b[39mwith_traceback(filtered_tb) \u001b[38;5;28;01mfrom\u001b[39;00m \u001b[38;5;28mNone\u001b[39m\n\u001b[1;32m     68\u001b[0m \u001b[38;5;28;01mfinally\u001b[39;00m:\n\u001b[1;32m     69\u001b[0m   \u001b[38;5;28;01mdel\u001b[39;00m filtered_tb\n",
      "File \u001b[0;32m~/.local/lib/python3.8/site-packages/keras/backend.py:1920\u001b[0m, in \u001b[0;36mRandomGenerator.random_uniform\u001b[0;34m(self, shape, minval, maxval, dtype)\u001b[0m\n\u001b[1;32m   1917\u001b[0m \u001b[38;5;28;01mif\u001b[39;00m \u001b[38;5;28mself\u001b[39m\u001b[38;5;241m.\u001b[39m_generator:\n\u001b[1;32m   1918\u001b[0m   \u001b[38;5;28;01mreturn\u001b[39;00m \u001b[38;5;28mself\u001b[39m\u001b[38;5;241m.\u001b[39m_generator\u001b[38;5;241m.\u001b[39muniform(\n\u001b[1;32m   1919\u001b[0m       shape\u001b[38;5;241m=\u001b[39mshape, minval\u001b[38;5;241m=\u001b[39mminval, maxval\u001b[38;5;241m=\u001b[39mmaxval, dtype\u001b[38;5;241m=\u001b[39mdtype)\n\u001b[0;32m-> 1920\u001b[0m \u001b[38;5;28;01mreturn\u001b[39;00m \u001b[43mtf\u001b[49m\u001b[38;5;241;43m.\u001b[39;49m\u001b[43mrandom\u001b[49m\u001b[38;5;241;43m.\u001b[39;49m\u001b[43muniform\u001b[49m\u001b[43m(\u001b[49m\n\u001b[1;32m   1921\u001b[0m \u001b[43m    \u001b[49m\u001b[43mshape\u001b[49m\u001b[38;5;241;43m=\u001b[39;49m\u001b[43mshape\u001b[49m\u001b[43m,\u001b[49m\u001b[43m \u001b[49m\u001b[43mminval\u001b[49m\u001b[38;5;241;43m=\u001b[39;49m\u001b[43mminval\u001b[49m\u001b[43m,\u001b[49m\u001b[43m \u001b[49m\u001b[43mmaxval\u001b[49m\u001b[38;5;241;43m=\u001b[39;49m\u001b[43mmaxval\u001b[49m\u001b[43m,\u001b[49m\u001b[43m \u001b[49m\u001b[43mdtype\u001b[49m\u001b[38;5;241;43m=\u001b[39;49m\u001b[43mdtype\u001b[49m\u001b[43m,\u001b[49m\n\u001b[1;32m   1922\u001b[0m \u001b[43m    \u001b[49m\u001b[43mseed\u001b[49m\u001b[38;5;241;43m=\u001b[39;49m\u001b[38;5;28;43mself\u001b[39;49m\u001b[38;5;241;43m.\u001b[39;49m\u001b[43mmake_legacy_seed\u001b[49m\u001b[43m(\u001b[49m\u001b[43m)\u001b[49m\u001b[43m)\u001b[49m\n",
      "\u001b[0;31mResourceExhaustedError\u001b[0m: failed to allocate memory [Op:Mul]"
     ]
    }
   ],
   "source": [
    "#Load model wothout classifier/fully connected layers\n",
    "VGG_model = VGG16(include_top=False, weights = None, input_shape=(imageSize, imageSize, 3))\n",
    "# vgg = vgg16.VGG16(include_top=False, weights=None, input_shape=(IMG_SIZE, IMG_SIZE, 1))"
   ]
  },
  {
   "cell_type": "code",
   "execution_count": 6,
   "id": "40a9980e",
   "metadata": {},
   "outputs": [
    {
     "ename": "NameError",
     "evalue": "name 'VGG_model' is not defined",
     "output_type": "error",
     "traceback": [
      "\u001b[0;31m---------------------------------------------------------------------------\u001b[0m",
      "\u001b[0;31mNameError\u001b[0m                                 Traceback (most recent call last)",
      "Cell \u001b[0;32mIn[6], line 2\u001b[0m\n\u001b[1;32m      1\u001b[0m \u001b[38;5;66;03m#Make loaded layers as non-trainable. This is important as we want to work with pre-trained weights\u001b[39;00m\n\u001b[0;32m----> 2\u001b[0m \u001b[38;5;28;01mfor\u001b[39;00m layer \u001b[38;5;129;01min\u001b[39;00m \u001b[43mVGG_model\u001b[49m\u001b[38;5;241m.\u001b[39mlayers:\n\u001b[1;32m      3\u001b[0m \tlayer\u001b[38;5;241m.\u001b[39mtrainable \u001b[38;5;241m=\u001b[39m \u001b[38;5;28;01mFalse\u001b[39;00m\n",
      "\u001b[0;31mNameError\u001b[0m: name 'VGG_model' is not defined"
     ]
    }
   ],
   "source": [
    "#Make loaded layers as non-trainable. This is important as we want to work with pre-trained weights\n",
    "for layer in VGG_model.layers:\n",
    "\tlayer.trainable = False"
   ]
  },
  {
   "cell_type": "code",
   "execution_count": 78,
   "id": "1ddab0f1",
   "metadata": {},
   "outputs": [
    {
     "name": "stdout",
     "output_type": "stream",
     "text": [
      "Model: \"vgg16\"\n",
      "_________________________________________________________________\n",
      " Layer (type)                Output Shape              Param #   \n",
      "=================================================================\n",
      " input_7 (InputLayer)        [(None, 128, 128, 1)]     0         \n",
      "                                                                 \n",
      " block1_conv1 (Conv2D)       (None, 128, 128, 64)      640       \n",
      "                                                                 \n",
      " block1_conv2 (Conv2D)       (None, 128, 128, 64)      36928     \n",
      "                                                                 \n",
      " block1_pool (MaxPooling2D)  (None, 64, 64, 64)        0         \n",
      "                                                                 \n",
      " block2_conv1 (Conv2D)       (None, 64, 64, 128)       73856     \n",
      "                                                                 \n",
      " block2_conv2 (Conv2D)       (None, 64, 64, 128)       147584    \n",
      "                                                                 \n",
      " block2_pool (MaxPooling2D)  (None, 32, 32, 128)       0         \n",
      "                                                                 \n",
      " block3_conv1 (Conv2D)       (None, 32, 32, 256)       295168    \n",
      "                                                                 \n",
      " block3_conv2 (Conv2D)       (None, 32, 32, 256)       590080    \n",
      "                                                                 \n",
      " block3_conv3 (Conv2D)       (None, 32, 32, 256)       590080    \n",
      "                                                                 \n",
      " block3_pool (MaxPooling2D)  (None, 16, 16, 256)       0         \n",
      "                                                                 \n",
      " block4_conv1 (Conv2D)       (None, 16, 16, 512)       1180160   \n",
      "                                                                 \n",
      " block4_conv2 (Conv2D)       (None, 16, 16, 512)       2359808   \n",
      "                                                                 \n",
      " block4_conv3 (Conv2D)       (None, 16, 16, 512)       2359808   \n",
      "                                                                 \n",
      " block4_pool (MaxPooling2D)  (None, 8, 8, 512)         0         \n",
      "                                                                 \n",
      " block5_conv1 (Conv2D)       (None, 8, 8, 512)         2359808   \n",
      "                                                                 \n",
      " block5_conv2 (Conv2D)       (None, 8, 8, 512)         2359808   \n",
      "                                                                 \n",
      " block5_conv3 (Conv2D)       (None, 8, 8, 512)         2359808   \n",
      "                                                                 \n",
      " block5_pool (MaxPooling2D)  (None, 4, 4, 512)         0         \n",
      "                                                                 \n",
      "=================================================================\n",
      "Total params: 14,713,536\n",
      "Trainable params: 0\n",
      "Non-trainable params: 14,713,536\n",
      "_________________________________________________________________\n"
     ]
    }
   ],
   "source": [
    "VGG_model.summary()"
   ]
  },
  {
   "cell_type": "code",
   "execution_count": 79,
   "id": "d69120e9",
   "metadata": {},
   "outputs": [],
   "source": [
    "#Now, let us use features from convolutional network for RF\n",
    "feature_extractor=VGG_model.predict(x_train)\n",
    "\n"
   ]
  },
  {
   "cell_type": "code",
   "execution_count": 80,
   "id": "97353a35",
   "metadata": {},
   "outputs": [
    {
     "name": "stdout",
     "output_type": "stream",
     "text": [
      "Shape of feature extractor :  (34125, 4, 4, 512)\n"
     ]
    }
   ],
   "source": [
    "print(\"Shape of feature extractor : \", feature_extractor.shape)"
   ]
  },
  {
   "cell_type": "code",
   "execution_count": 81,
   "id": "b530f9ea",
   "metadata": {},
   "outputs": [
    {
     "data": {
      "text/plain": [
       "array([[3.1732675e-04, 2.5354710e-03, 1.6934297e-04, ..., 2.0145410e-04,\n",
       "        0.0000000e+00, 5.4666272e-04],\n",
       "       [1.2393552e-04, 2.8928483e-03, 5.5423810e-04, ..., 3.8561446e-04,\n",
       "        0.0000000e+00, 1.0086661e-03],\n",
       "       [2.2227748e-04, 2.9189382e-03, 4.0790075e-04, ..., 2.5928961e-04,\n",
       "        5.9007143e-06, 1.2167963e-04],\n",
       "       ...,\n",
       "       [1.7393392e-04, 2.7560447e-03, 3.1264860e-04, ..., 6.5978384e-04,\n",
       "        0.0000000e+00, 1.0737020e-03],\n",
       "       [3.2144756e-04, 3.2117087e-03, 9.9843182e-04, ..., 4.1217636e-04,\n",
       "        0.0000000e+00, 1.4415891e-03],\n",
       "       [0.0000000e+00, 1.6972566e-03, 0.0000000e+00, ..., 3.1549722e-04,\n",
       "        0.0000000e+00, 1.9937316e-03]], dtype=float32)"
      ]
     },
     "execution_count": 81,
     "metadata": {},
     "output_type": "execute_result"
    }
   ],
   "source": [
    "features = feature_extractor.reshape(feature_extractor.shape[0], -1)\n",
    "X_for_training = features\n",
    "X_for_training"
   ]
  },
  {
   "cell_type": "code",
   "execution_count": 82,
   "id": "60124fe7",
   "metadata": {},
   "outputs": [
    {
     "name": "stdout",
     "output_type": "stream",
     "text": [
      "Shape of x_for_training :  (34125, 8192)\n"
     ]
    }
   ],
   "source": [
    "print(\"Shape of x_for_training : \", X_for_training.shape)"
   ]
  },
  {
   "cell_type": "code",
   "execution_count": null,
   "id": "73682070",
   "metadata": {},
   "outputs": [],
   "source": [
    "#XGBOOST\n",
    "import xgboost as xgb\n",
    "model = xgb.XGBClassifier()\n",
    "model.fit(X_for_training, y_train) #For sklearn no one hot encoding"
   ]
  },
  {
   "cell_type": "code",
   "execution_count": 61,
   "id": "cd6703e2",
   "metadata": {},
   "outputs": [],
   "source": [
    "#Send test data through same feature extractor process\n",
    "X_test_feature = VGG_model.predict(x_test)\n",
    "X_test_features = X_test_feature.reshape(X_test_feature.shape[0], -1)"
   ]
  },
  {
   "cell_type": "code",
   "execution_count": 62,
   "id": "657ac412",
   "metadata": {},
   "outputs": [
    {
     "data": {
      "text/plain": [
       "(4550, 3, 3, 512)"
      ]
     },
     "execution_count": 62,
     "metadata": {},
     "output_type": "execute_result"
    }
   ],
   "source": [
    "X_test_feature.shape"
   ]
  },
  {
   "cell_type": "code",
   "execution_count": 63,
   "id": "27ae70a0",
   "metadata": {},
   "outputs": [],
   "source": [
    "# Encode labels from text to integers.\n",
    "from sklearn import preprocessing\n",
    "le = preprocessing.LabelEncoder()\n",
    "le.fit(y_test)\n",
    "test_labels_encoded = le.transform(y_test)\n",
    "le.fit(y_train)\n",
    "train_labels_encoded = le.transform(y_train)"
   ]
  },
  {
   "cell_type": "code",
   "execution_count": 64,
   "id": "ecf695fa",
   "metadata": {},
   "outputs": [],
   "source": [
    "prediction = model.predict(X_test_features)\n",
    "prediction = le.inverse_transform(prediction)\n"
   ]
  },
  {
   "cell_type": "code",
   "execution_count": null,
   "id": "e9606e8c",
   "metadata": {},
   "outputs": [],
   "source": []
  },
  {
   "cell_type": "code",
   "execution_count": 65,
   "id": "9f1fe773",
   "metadata": {},
   "outputs": [
    {
     "name": "stdout",
     "output_type": "stream",
     "text": [
      "Accuracy =  1.0\n"
     ]
    }
   ],
   "source": [
    "from sklearn import metrics\n",
    "print (\"Accuracy = \", metrics.accuracy_score(y_test, prediction))"
   ]
  },
  {
   "cell_type": "code",
   "execution_count": 66,
   "id": "231dfa36",
   "metadata": {},
   "outputs": [
    {
     "name": "stdout",
     "output_type": "stream",
     "text": [
      "[[175   0   0   0   0   0   0   0   0   0   0   0   0   0   0   0   0   0\n",
      "    0   0   0   0   0   0   0   0]\n",
      " [  0 175   0   0   0   0   0   0   0   0   0   0   0   0   0   0   0   0\n",
      "    0   0   0   0   0   0   0   0]\n",
      " [  0   0 175   0   0   0   0   0   0   0   0   0   0   0   0   0   0   0\n",
      "    0   0   0   0   0   0   0   0]\n",
      " [  0   0   0 175   0   0   0   0   0   0   0   0   0   0   0   0   0   0\n",
      "    0   0   0   0   0   0   0   0]\n",
      " [  0   0   0   0 175   0   0   0   0   0   0   0   0   0   0   0   0   0\n",
      "    0   0   0   0   0   0   0   0]\n",
      " [  0   0   0   0   0 175   0   0   0   0   0   0   0   0   0   0   0   0\n",
      "    0   0   0   0   0   0   0   0]\n",
      " [  0   0   0   0   0   0 175   0   0   0   0   0   0   0   0   0   0   0\n",
      "    0   0   0   0   0   0   0   0]\n",
      " [  0   0   0   0   0   0   0 175   0   0   0   0   0   0   0   0   0   0\n",
      "    0   0   0   0   0   0   0   0]\n",
      " [  0   0   0   0   0   0   0   0 175   0   0   0   0   0   0   0   0   0\n",
      "    0   0   0   0   0   0   0   0]\n",
      " [  0   0   0   0   0   0   0   0   0 175   0   0   0   0   0   0   0   0\n",
      "    0   0   0   0   0   0   0   0]\n",
      " [  0   0   0   0   0   0   0   0   0   0 175   0   0   0   0   0   0   0\n",
      "    0   0   0   0   0   0   0   0]\n",
      " [  0   0   0   0   0   0   0   0   0   0   0 175   0   0   0   0   0   0\n",
      "    0   0   0   0   0   0   0   0]\n",
      " [  0   0   0   0   0   0   0   0   0   0   0   0 175   0   0   0   0   0\n",
      "    0   0   0   0   0   0   0   0]\n",
      " [  0   0   0   0   0   0   0   0   0   0   0   0   0 175   0   0   0   0\n",
      "    0   0   0   0   0   0   0   0]\n",
      " [  0   0   0   0   0   0   0   0   0   0   0   0   0   0 175   0   0   0\n",
      "    0   0   0   0   0   0   0   0]\n",
      " [  0   0   0   0   0   0   0   0   0   0   0   0   0   0   0 175   0   0\n",
      "    0   0   0   0   0   0   0   0]\n",
      " [  0   0   0   0   0   0   0   0   0   0   0   0   0   0   0   0 175   0\n",
      "    0   0   0   0   0   0   0   0]\n",
      " [  0   0   0   0   0   0   0   0   0   0   0   0   0   0   0   0   0 175\n",
      "    0   0   0   0   0   0   0   0]\n",
      " [  0   0   0   0   0   0   0   0   0   0   0   0   0   0   0   0   0   0\n",
      "  175   0   0   0   0   0   0   0]\n",
      " [  0   0   0   0   0   0   0   0   0   0   0   0   0   0   0   0   0   0\n",
      "    0 175   0   0   0   0   0   0]\n",
      " [  0   0   0   0   0   0   0   0   0   0   0   0   0   0   0   0   0   0\n",
      "    0   0 175   0   0   0   0   0]\n",
      " [  0   0   0   0   0   0   0   0   0   0   0   0   0   0   0   0   0   0\n",
      "    0   0   0 175   0   0   0   0]\n",
      " [  0   0   0   0   0   0   0   0   0   0   0   0   0   0   0   0   0   0\n",
      "    0   0   0   0 175   0   0   0]\n",
      " [  0   0   0   0   0   0   0   0   0   0   0   0   0   0   0   0   0   0\n",
      "    0   0   0   0   0 175   0   0]\n",
      " [  0   0   0   0   0   0   0   0   0   0   0   0   0   0   0   0   0   0\n",
      "    0   0   0   0   0   0 175   0]\n",
      " [  0   0   0   0   0   0   0   0   0   0   0   0   0   0   0   0   0   0\n",
      "    0   0   0   0   0   0   0 175]]\n"
     ]
    },
    {
     "data": {
      "text/plain": [
       "<AxesSubplot:>"
      ]
     },
     "execution_count": 66,
     "metadata": {},
     "output_type": "execute_result"
    },
    {
     "data": {
      "image/png": "[encoded data removed]",
      "text/plain": [
       "<Figure size 640x480 with 2 Axes>"
      ]
     },
     "metadata": {},
     "output_type": "display_data"
    }
   ],
   "source": [
    "from sklearn.metrics import confusion_matrix\n",
    "cm = confusion_matrix(y_test, prediction)\n",
    "print(cm)\n",
    "sns.heatmap(cm, annot=True)"
   ]
  },
  {
   "cell_type": "code",
   "execution_count": null,
   "id": "f6d51c3f",
   "metadata": {},
   "outputs": [],
   "source": []
  },
  {
   "cell_type": "code",
   "execution_count": 67,
   "id": "6911368a",
   "metadata": {},
   "outputs": [
    {
     "name": "stdout",
     "output_type": "stream",
     "text": [
      "The prediction for this image is:  [4]\n"
     ]
    },
    {
     "ename": "NameError",
     "evalue": "name 'test_labels' is not defined",
     "output_type": "error",
     "traceback": [
      "\u001b[0;31m---------------------------------------------------------------------------\u001b[0m",
      "\u001b[0;31mNameError\u001b[0m                                 Traceback (most recent call last)",
      "Cell \u001b[0;32mIn[67], line 11\u001b[0m\n\u001b[1;32m      9\u001b[0m prediction \u001b[38;5;241m=\u001b[39m le\u001b[38;5;241m.\u001b[39minverse_transform([prediction])  \u001b[38;5;66;03m#Reverse the label encoder to original name\u001b[39;00m\n\u001b[1;32m     10\u001b[0m \u001b[38;5;28mprint\u001b[39m(\u001b[38;5;124m\"\u001b[39m\u001b[38;5;124mThe prediction for this image is: \u001b[39m\u001b[38;5;124m\"\u001b[39m, prediction)\n\u001b[0;32m---> 11\u001b[0m \u001b[38;5;28mprint\u001b[39m(\u001b[38;5;124m\"\u001b[39m\u001b[38;5;124mThe actual label for this image is: \u001b[39m\u001b[38;5;124m\"\u001b[39m, \u001b[43mtest_labels\u001b[49m[n])\n",
      "\u001b[0;31mNameError\u001b[0m: name 'test_labels' is not defined"
     ]
    },
    {
     "data": {
      "image/png": "[encoded data removed]",
      "text/plain": [
       "<Figure size 640x480 with 1 Axes>"
      ]
     },
     "metadata": {},
     "output_type": "display_data"
    }
   ],
   "source": [
    "#Check results on a few select images\n",
    "n=np.random.randint(0, x_test.shape[0])\n",
    "img = x_test[n]\n",
    "plt.imshow(img)\n",
    "input_img = np.expand_dims(img, axis=0) #Expand dims so the input is (num images, x, y, c)\n",
    "input_img_feature=VGG_model.predict(input_img)\n",
    "input_img_features=input_img_feature.reshape(input_img_feature.shape[0], -1)\n",
    "prediction = model.predict(input_img_features)[0] \n",
    "prediction = le.inverse_transform([prediction])  #Reverse the label encoder to original name\n",
    "print(\"The prediction for this image is: \", prediction)\n",
    "print(\"The actual label for this image is: \", test_labels[n])"
   ]
  },
  {
   "cell_type": "code",
   "execution_count": null,
   "id": "2efed4b2",
   "metadata": {},
   "outputs": [],
   "source": []
  },
  {
   "cell_type": "code",
   "execution_count": null,
   "id": "d95e4029",
   "metadata": {},
   "outputs": [],
   "source": []
  },
  {
   "cell_type": "code",
   "execution_count": null,
   "id": "969fbdb5",
   "metadata": {},
   "outputs": [],
   "source": []
  },
  {
   "cell_type": "code",
   "execution_count": null,
   "id": "3cd16105",
   "metadata": {},
   "outputs": [],
   "source": []
  },
  {
   "cell_type": "code",
   "execution_count": null,
   "id": "23732272",
   "metadata": {},
   "outputs": [],
   "source": []
  },
  {
   "cell_type": "code",
   "execution_count": null,
   "id": "c7aaded7",
   "metadata": {},
   "outputs": [],
   "source": []
  },
  {
   "cell_type": "code",
   "execution_count": null,
   "id": "341ecb63",
   "metadata": {},
   "outputs": [],
   "source": []
  },
  {
   "cell_type": "code",
   "execution_count": null,
   "id": "74716243",
   "metadata": {},
   "outputs": [],
   "source": []
  },
  {
   "cell_type": "code",
   "execution_count": null,
   "id": "ffc94532",
   "metadata": {},
   "outputs": [],
   "source": []
  },
  {
   "cell_type": "code",
   "execution_count": null,
   "id": "05ac02e0",
   "metadata": {},
   "outputs": [],
   "source": []
  },
  {
   "cell_type": "code",
   "execution_count": null,
   "id": "a718fe47",
   "metadata": {},
   "outputs": [],
   "source": []
  },
  {
   "cell_type": "code",
   "execution_count": null,
   "id": "526d506e",
   "metadata": {},
   "outputs": [],
   "source": [
    "#Make loaded layers as non-trainable. This is important as we want to work with pre-trained weights\n",
    "for layer in VGG_model.layers:\n",
    "\tlayer.trainable = False"
   ]
  },
  {
   "cell_type": "code",
   "execution_count": null,
   "id": "97f44045",
   "metadata": {},
   "outputs": [],
   "source": [
    "VGG_model.summary()"
   ]
  },
  {
   "cell_type": "code",
   "execution_count": null,
   "id": "e99d5ac6",
   "metadata": {},
   "outputs": [],
   "source": [
    "#Now, let us use features from convolutional network for RF\n",
    "feature_extractor=VGG_model.predict(x_train)\n",
    "feature_extractor"
   ]
  },
  {
   "cell_type": "code",
   "execution_count": null,
   "id": "605ada3c",
   "metadata": {},
   "outputs": [],
   "source": [
    "feature_extractor"
   ]
  },
  {
   "cell_type": "code",
   "execution_count": null,
   "id": "586a27f2",
   "metadata": {},
   "outputs": [],
   "source": [
    "features = feature_extractor.reshape(feature_extractor.shape[0], -1)\n",
    "X_for_training = features #This is our X input to RF\n",
    "features.shape\n"
   ]
  },
  {
   "cell_type": "code",
   "execution_count": null,
   "id": "b7cd245b",
   "metadata": {},
   "outputs": [],
   "source": [
    "#XGBOOST\n",
    "import xgboost as xgb\n",
    "model = xgb.XGBClassifier()\n",
    "model.fit(X_for_training, y_train) #For sklearn no one hot encoding"
   ]
  },
  {
   "cell_type": "code",
   "execution_count": null,
   "id": "f2cf22f0",
   "metadata": {},
   "outputs": [],
   "source": [
    "#Send test data through same feature extractor process\n",
    "X_test_feature = VGG_model.predict(x_test)\n",
    "X_test_features = X_test_feature.reshape(X_test_feature.shape[0], -1)\n"
   ]
  },
  {
   "cell_type": "code",
   "execution_count": null,
   "id": "bedb3d22",
   "metadata": {},
   "outputs": [],
   "source": [
    "prediction = model.predict(X_test_features)\n",
    "# prediction = le.inverse_transform(prediction)\n"
   ]
  },
  {
   "cell_type": "code",
   "execution_count": null,
   "id": "0343b252",
   "metadata": {},
   "outputs": [],
   "source": [
    "#Print overall accuracy\n",
    "from sklearn import metrics\n",
    "print (\"Accuracy = \", metrics.accuracy_score(test_labels, prediction))"
   ]
  },
  {
   "cell_type": "code",
   "execution_count": null,
   "id": "9035e301",
   "metadata": {},
   "outputs": [],
   "source": []
  },
  {
   "cell_type": "code",
   "execution_count": null,
   "id": "73d599c4",
   "metadata": {},
   "outputs": [],
   "source": []
  },
  {
   "cell_type": "code",
   "execution_count": null,
   "id": "96ab3d39",
   "metadata": {},
   "outputs": [],
   "source": []
  },
  {
   "cell_type": "code",
   "execution_count": null,
   "id": "111605e5",
   "metadata": {},
   "outputs": [],
   "source": []
  },
  {
   "cell_type": "code",
   "execution_count": null,
   "id": "64dadf08",
   "metadata": {},
   "outputs": [],
   "source": []
  }
 ],
 "metadata": {
  "kernelspec": {
   "display_name": "Python 3 (ipykernel)",
   "language": "python",
   "name": "python3"
  },
  "language_info": {
   "codemirror_mode": {
    "name": "ipython",
    "version": 3
   },
   "file_extension": ".py",
   "mimetype": "text/x-python",
   "name": "python",
   "nbconvert_exporter": "python",
   "pygments_lexer": "ipython3",
   "version": "3.8.10"
  }
 },
 "nbformat": 4,
 "nbformat_minor": 5
}
