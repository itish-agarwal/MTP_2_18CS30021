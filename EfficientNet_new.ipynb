{
 "cells": [
  {
   "cell_type": "code",
   "execution_count": 2,
   "id": "bf8aa5db",
   "metadata": {},
   "outputs": [],
   "source": [
    "import numpy as np\n",
    "import pandas as pd\n",
    "import matplotlib.pyplot as plt\n",
    "import seaborn as sns\n",
    "import os\n",
    "import tensorflow as tf\n",
    "import cv2\n",
    "from sklearn.model_selection import train_test_split\n",
    "# import keras_efficientnet_v2\n",
    "from tensorflow.keras.applications import efficientnet\n",
    "from tensorflow.keras.models import Sequential, load_model\n",
    "from tensorflow.keras.layers import Dense, Activation, Conv2D, Flatten, Dropout, MaxPooling2D, BatchNormalization, GlobalAveragePooling2D, Input\n",
    "from tensorflow.keras.preprocessing.image import ImageDataGenerator\n",
    "from keras import regularizers\n",
    "from tensorflow.keras import metrics, optimizers, Sequential, activations, callbacks\n",
    "from sklearn.metrics import f1_score, classification_report, confusion_matrix, accuracy_score\n",
    "import keras.backend as K\n",
    "from tensorflow import keras\n",
    "import warnings\n",
    "warnings.filterwarnings('ignore')"
   ]
  },
  {
   "cell_type": "code",
   "execution_count": 27,
   "id": "af0bc62a",
   "metadata": {},
   "outputs": [],
   "source": [
    "train_dir = r\"asl_data/asl_alphabet_train/asl_alphabet_train\"\n",
    "test_dir = r\"data_47/data_47/asl_alphabet_train\""
   ]
  },
  {
   "cell_type": "code",
   "execution_count": 28,
   "id": "e07ea71b",
   "metadata": {},
   "outputs": [],
   "source": [
    "def load_df(dir_path):\n",
    "    df = {\n",
    "        'filename': [],\n",
    "        'label': []\n",
    "    }\n",
    "    classes = os.listdir(dir_path)\n",
    "    for c in classes:\n",
    "        path = dir_path + '/' + c\n",
    "\n",
    "        img_paths = os.listdir(path)\n",
    "\n",
    "        for img_path in img_paths:\n",
    "            df['filename'].append(c + '/' + img_path)\n",
    "            df['label'].append(c)\n",
    "        \n",
    "    df = pd.DataFrame(df)\n",
    "    return df\n",
    "\n",
    "train_df = load_df(train_dir)\n",
    "test_df = load_df(test_dir)"
   ]
  },
  {
   "cell_type": "code",
   "execution_count": 31,
   "id": "23c8f351",
   "metadata": {},
   "outputs": [
    {
     "data": {
      "text/html": [
       "<div>\n",
       "<style scoped>\n",
       "    .dataframe tbody tr th:only-of-type {\n",
       "        vertical-align: middle;\n",
       "    }\n",
       "\n",
       "    .dataframe tbody tr th {\n",
       "        vertical-align: top;\n",
       "    }\n",
       "\n",
       "    .dataframe thead th {\n",
       "        text-align: right;\n",
       "    }\n",
       "</style>\n",
       "<table border=\"1\" class=\"dataframe\">\n",
       "  <thead>\n",
       "    <tr style=\"text-align: right;\">\n",
       "      <th></th>\n",
       "      <th>filename</th>\n",
       "      <th>label</th>\n",
       "    </tr>\n",
       "  </thead>\n",
       "  <tbody>\n",
       "    <tr>\n",
       "      <th>28855</th>\n",
       "      <td>B/B1700.jpg</td>\n",
       "      <td>B</td>\n",
       "    </tr>\n",
       "    <tr>\n",
       "      <th>29304</th>\n",
       "      <td>B/B2315.jpg</td>\n",
       "      <td>B</td>\n",
       "    </tr>\n",
       "    <tr>\n",
       "      <th>33276</th>\n",
       "      <td>M/M2153.jpg</td>\n",
       "      <td>M</td>\n",
       "    </tr>\n",
       "    <tr>\n",
       "      <th>22825</th>\n",
       "      <td>W/W2109.jpg</td>\n",
       "      <td>W</td>\n",
       "    </tr>\n",
       "    <tr>\n",
       "      <th>29053</th>\n",
       "      <td>B/B2393.jpg</td>\n",
       "      <td>B</td>\n",
       "    </tr>\n",
       "  </tbody>\n",
       "</table>\n",
       "</div>"
      ],
      "text/plain": [
       "          filename label\n",
       "28855  B/B1700.jpg     B\n",
       "29304  B/B2315.jpg     B\n",
       "33276  M/M2153.jpg     M\n",
       "22825  W/W2109.jpg     W\n",
       "29053  B/B2393.jpg     B"
      ]
     },
     "execution_count": 31,
     "metadata": {},
     "output_type": "execute_result"
    }
   ],
   "source": [
    "train_df.sample(5)"
   ]
  },
  {
   "cell_type": "code",
   "execution_count": 32,
   "id": "800a7359",
   "metadata": {},
   "outputs": [
    {
     "name": "stdout",
     "output_type": "stream",
     "text": [
      "(27081,)\n",
      "(6771,)\n"
     ]
    }
   ],
   "source": [
    "X = train_df['filename']\n",
    "y = train_df['label']\n",
    "\n",
    "X_train, X_valid, y_train, y_valid = train_test_split(X, y, stratify=y, random_state=1, test_size=0.2)\n",
    "print(X_train.shape)\n",
    "print(X_valid.shape)"
   ]
  },
  {
   "cell_type": "code",
   "execution_count": 33,
   "id": "6f008404",
   "metadata": {},
   "outputs": [],
   "source": [
    "train = pd.concat([X_train, y_train], axis=1)\n",
    "valid = pd.concat([X_valid, y_valid], axis=1)\n",
    "test = test_df"
   ]
  },
  {
   "cell_type": "code",
   "execution_count": 34,
   "id": "a5068c02",
   "metadata": {},
   "outputs": [
    {
     "data": {
      "text/plain": [
       "D    1042\n",
       "H    1042\n",
       "O    1042\n",
       "X    1042\n",
       "T    1042\n",
       "W    1042\n",
       "C    1042\n",
       "N    1042\n",
       "G    1042\n",
       "E    1042\n",
       "V    1042\n",
       "S    1042\n",
       "R    1042\n",
       "U    1042\n",
       "K    1042\n",
       "J    1041\n",
       "Y    1041\n",
       "B    1041\n",
       "Q    1041\n",
       "Z    1041\n",
       "L    1041\n",
       "F    1041\n",
       "I    1041\n",
       "A    1041\n",
       "M    1041\n",
       "P    1041\n",
       "Name: label, dtype: int64"
      ]
     },
     "execution_count": 34,
     "metadata": {},
     "output_type": "execute_result"
    }
   ],
   "source": [
    "train['label'].value_counts()"
   ]
  },
  {
   "cell_type": "code",
   "execution_count": 35,
   "id": "e7b469a9",
   "metadata": {},
   "outputs": [
    {
     "data": {
      "text/plain": [
       "A    261\n",
       "L    261\n",
       "M    261\n",
       "Z    261\n",
       "Y    261\n",
       "F    261\n",
       "Q    261\n",
       "P    261\n",
       "I    261\n",
       "B    261\n",
       "J    261\n",
       "X    260\n",
       "T    260\n",
       "C    260\n",
       "D    260\n",
       "E    260\n",
       "S    260\n",
       "R    260\n",
       "W    260\n",
       "O    260\n",
       "K    260\n",
       "V    260\n",
       "U    260\n",
       "G    260\n",
       "H    260\n",
       "N    260\n",
       "Name: label, dtype: int64"
      ]
     },
     "execution_count": 35,
     "metadata": {},
     "output_type": "execute_result"
    }
   ],
   "source": [
    "valid['label'].value_counts()"
   ]
  },
  {
   "cell_type": "code",
   "execution_count": 36,
   "id": "a3544a6c",
   "metadata": {},
   "outputs": [
    {
     "data": {
      "text/plain": [
       "J          47\n",
       "H          47\n",
       "X          47\n",
       "R          47\n",
       "B          47\n",
       "L          47\n",
       "P          47\n",
       "E          47\n",
       "V          47\n",
       "W          47\n",
       "F          47\n",
       "A          47\n",
       "space      47\n",
       "S          47\n",
       "T          47\n",
       "Z          47\n",
       "nothing    47\n",
       "del        47\n",
       "U          47\n",
       "Y          47\n",
       "C          47\n",
       "D          47\n",
       "G          47\n",
       "O          47\n",
       "N          47\n",
       "I          47\n",
       "Q          47\n",
       "K          47\n",
       "M          47\n",
       "Name: label, dtype: int64"
      ]
     },
     "execution_count": 36,
     "metadata": {},
     "output_type": "execute_result"
    }
   ],
   "source": [
    "test['label'].value_counts()"
   ]
  },
  {
   "cell_type": "code",
   "execution_count": 37,
   "id": "82853cfc",
   "metadata": {},
   "outputs": [
    {
     "name": "stdout",
     "output_type": "stream",
     "text": [
      "Found 27081 validated image filenames belonging to 26 classes.\n",
      "Found 6771 validated image filenames belonging to 26 classes.\n",
      "Found 1363 validated image filenames.\n"
     ]
    }
   ],
   "source": [
    "IMAGE_SIZE = (224, 224)\n",
    "\n",
    "datagen = ImageDataGenerator(\n",
    "    rescale=1./255,\n",
    "#     rotation_range=40,\n",
    "    zoom_range=0.2,\n",
    "    width_shift_range=0.05,\n",
    "    height_shift_range=0.05,\n",
    "#     brightness_range=[0.5, 1.0],\n",
    ")\n",
    "\n",
    "train_generator = datagen.flow_from_dataframe(\n",
    "    dataframe = train,\n",
    "    directory = train_dir,\n",
    "    x_col='filename',\n",
    "    y_col='label',\n",
    "    batch_size=32,\n",
    "    # color_mode=\"rgb\",\n",
    "    seed=42,\n",
    "    shuffle=True,\n",
    "    class_mode='sparse',\n",
    "    target_size=IMAGE_SIZE\n",
    ")\n",
    "\n",
    "valid_generator=datagen.flow_from_dataframe(\n",
    "    dataframe=valid,\n",
    "    directory=train_dir,\n",
    "    x_col=\"filename\",\n",
    "    y_col=\"label\",\n",
    "    batch_size=32,\n",
    "    # color_mode=\"rgb\",\n",
    "    seed=42,\n",
    "    shuffle=True,\n",
    "    class_mode=\"sparse\",\n",
    "    target_size=IMAGE_SIZE\n",
    ")\n",
    "\n",
    "test_datagen=ImageDataGenerator(rescale=1./255.)\n",
    "\n",
    "test_generator=test_datagen.flow_from_dataframe(\n",
    "    dataframe=test,\n",
    "    directory=test_dir,\n",
    "    x_col=\"filename\",\n",
    "    y_col=None,\n",
    "    batch_size=1,\n",
    "    # color_mode=\"rgb\",\n",
    "    seed=42,\n",
    "    shuffle=False,\n",
    "    class_mode=None,\n",
    "    target_size=IMAGE_SIZE\n",
    ")"
   ]
  },
  {
   "cell_type": "code",
   "execution_count": null,
   "id": "7c90c7d8",
   "metadata": {},
   "outputs": [],
   "source": [
    "import tensorflow as tf\n",
    "tf.keras.backend.clear_session()\n",
    "num_classes = 27\n",
    "\n",
    "backbone = tf.keras.applications.EfficientNetB0(include_top=False)\n",
    "backbone.trainable = False\n",
    "\n",
    "inputs = Input(shape=IMAGE_SIZE + (3,), name='inputs')\n",
    "x = backbone(inputs, training=False)\n",
    "x = GlobalAveragePooling2D()(x)\n",
    "x = Dropout(0.2)(x)\n",
    "# x = Dense(100, activation='relu')(x)\n",
    "outputs = Dense(27, activation='softmax')(x)\n",
    "\n",
    "model_efficientnet = tf.keras.Model(inputs=inputs, outputs=outputs, name='efficientnet_model')\n",
    "model_efficientnet.summary()"
   ]
  },
  {
   "cell_type": "code",
   "execution_count": null,
   "id": "8eab9604",
   "metadata": {},
   "outputs": [],
   "source": []
  },
  {
   "cell_type": "code",
   "execution_count": null,
   "id": "4d801e39",
   "metadata": {},
   "outputs": [],
   "source": []
  },
  {
   "cell_type": "code",
   "execution_count": null,
   "id": "ff6a6a27",
   "metadata": {},
   "outputs": [],
   "source": []
  },
  {
   "cell_type": "code",
   "execution_count": null,
   "id": "5221122e",
   "metadata": {},
   "outputs": [],
   "source": []
  },
  {
   "cell_type": "code",
   "execution_count": null,
   "id": "3296b657",
   "metadata": {},
   "outputs": [],
   "source": []
  },
  {
   "cell_type": "code",
   "execution_count": null,
   "id": "bc38b914",
   "metadata": {},
   "outputs": [],
   "source": []
  },
  {
   "cell_type": "code",
   "execution_count": null,
   "id": "a5cfc28a",
   "metadata": {},
   "outputs": [],
   "source": []
  },
  {
   "cell_type": "code",
   "execution_count": null,
   "id": "42d00685",
   "metadata": {},
   "outputs": [],
   "source": []
  },
  {
   "cell_type": "code",
   "execution_count": null,
   "id": "9b138dc1",
   "metadata": {},
   "outputs": [],
   "source": []
  },
  {
   "cell_type": "code",
   "execution_count": null,
   "id": "3d19ac0c",
   "metadata": {},
   "outputs": [],
   "source": []
  },
  {
   "cell_type": "code",
   "execution_count": null,
   "id": "443c3b15",
   "metadata": {},
   "outputs": [],
   "source": []
  },
  {
   "cell_type": "code",
   "execution_count": null,
   "id": "9543e360",
   "metadata": {},
   "outputs": [],
   "source": []
  },
  {
   "cell_type": "code",
   "execution_count": null,
   "id": "c9924109",
   "metadata": {},
   "outputs": [],
   "source": []
  }
 ],
 "metadata": {
  "kernelspec": {
   "display_name": "Python 3 (ipykernel)",
   "language": "python",
   "name": "python3"
  },
  "language_info": {
   "codemirror_mode": {
    "name": "ipython",
    "version": 3
   },
   "file_extension": ".py",
   "mimetype": "text/x-python",
   "name": "python",
   "nbconvert_exporter": "python",
   "pygments_lexer": "ipython3",
   "version": "3.8.10"
  }
 },
 "nbformat": 4,
 "nbformat_minor": 5
}
